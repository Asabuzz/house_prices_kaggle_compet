{
 "cells": [
  {
   "cell_type": "code",
   "execution_count": 1,
   "id": "ba507033",
   "metadata": {
    "ExecuteTime": {
     "end_time": "2021-06-14T21:54:18.270957Z",
     "start_time": "2021-06-14T21:54:16.832341Z"
    }
   },
   "outputs": [],
   "source": [
    "import pandas as pd\n",
    "import numpy as np\n",
    "import seaborn as sns\n",
    "import matplotlib.pyplot as plt\n",
    "from sklearn import set_config\n",
    "set_config(display='diagram')\n",
    "\n",
    "from sklearn.preprocessing import RobustScaler\n",
    "from sklearn.preprocessing import OneHotEncoder\n",
    "from sklearn.preprocessing import OrdinalEncoder\n",
    "\n",
    "from sklearn.impute import SimpleImputer\n",
    "\n",
    "from sklearn.ensemble import RandomForestRegressor\n",
    "from sklearn.ensemble import GradientBoostingRegressor\n",
    "from sklearn.linear_model import RidgeCV\n",
    "from sklearn.linear_model import LassoCV\n",
    "from sklearn.linear_model import ElasticNetCV\n",
    "from sklearn.svm import SVR\n",
    "\n",
    "from sklearn.model_selection import train_test_split\n",
    "from sklearn.model_selection import RandomizedSearchCV\n",
    "from sklearn.model_selection import GridSearchCV\n",
    "from sklearn.model_selection import cross_val_score\n",
    "from sklearn.model_selection import cross_validate\n",
    "\n",
    "from sklearn.pipeline import make_pipeline\n",
    "\n",
    "from sklearn.compose import make_column_transformer\n",
    "\n",
    "from sklearn.metrics import mean_squared_error\n",
    "\n",
    "from sklearn.feature_selection import SelectPercentile"
   ]
  },
  {
   "cell_type": "markdown",
   "id": "248eb442",
   "metadata": {},
   "source": [
    "# Informations générales sur le DF"
   ]
  },
  {
   "cell_type": "code",
   "execution_count": 2,
   "id": "a23b3b90",
   "metadata": {
    "ExecuteTime": {
     "end_time": "2021-06-14T21:54:18.325244Z",
     "start_time": "2021-06-14T21:54:18.270957Z"
    }
   },
   "outputs": [
    {
     "data": {
      "text/html": [
       "<div>\n",
       "<style scoped>\n",
       "    .dataframe tbody tr th:only-of-type {\n",
       "        vertical-align: middle;\n",
       "    }\n",
       "\n",
       "    .dataframe tbody tr th {\n",
       "        vertical-align: top;\n",
       "    }\n",
       "\n",
       "    .dataframe thead th {\n",
       "        text-align: right;\n",
       "    }\n",
       "</style>\n",
       "<table border=\"1\" class=\"dataframe\">\n",
       "  <thead>\n",
       "    <tr style=\"text-align: right;\">\n",
       "      <th></th>\n",
       "      <th>Id</th>\n",
       "      <th>MSSubClass</th>\n",
       "      <th>MSZoning</th>\n",
       "      <th>LotFrontage</th>\n",
       "      <th>LotArea</th>\n",
       "      <th>Street</th>\n",
       "      <th>Alley</th>\n",
       "      <th>LotShape</th>\n",
       "      <th>LandContour</th>\n",
       "      <th>Utilities</th>\n",
       "      <th>...</th>\n",
       "      <th>PoolArea</th>\n",
       "      <th>PoolQC</th>\n",
       "      <th>Fence</th>\n",
       "      <th>MiscFeature</th>\n",
       "      <th>MiscVal</th>\n",
       "      <th>MoSold</th>\n",
       "      <th>YrSold</th>\n",
       "      <th>SaleType</th>\n",
       "      <th>SaleCondition</th>\n",
       "      <th>SalePrice</th>\n",
       "    </tr>\n",
       "  </thead>\n",
       "  <tbody>\n",
       "    <tr>\n",
       "      <th>0</th>\n",
       "      <td>1</td>\n",
       "      <td>60</td>\n",
       "      <td>RL</td>\n",
       "      <td>65.0</td>\n",
       "      <td>8450</td>\n",
       "      <td>Pave</td>\n",
       "      <td>NaN</td>\n",
       "      <td>Reg</td>\n",
       "      <td>Lvl</td>\n",
       "      <td>AllPub</td>\n",
       "      <td>...</td>\n",
       "      <td>0</td>\n",
       "      <td>NaN</td>\n",
       "      <td>NaN</td>\n",
       "      <td>NaN</td>\n",
       "      <td>0</td>\n",
       "      <td>2</td>\n",
       "      <td>2008</td>\n",
       "      <td>WD</td>\n",
       "      <td>Normal</td>\n",
       "      <td>208500</td>\n",
       "    </tr>\n",
       "    <tr>\n",
       "      <th>1</th>\n",
       "      <td>2</td>\n",
       "      <td>20</td>\n",
       "      <td>RL</td>\n",
       "      <td>80.0</td>\n",
       "      <td>9600</td>\n",
       "      <td>Pave</td>\n",
       "      <td>NaN</td>\n",
       "      <td>Reg</td>\n",
       "      <td>Lvl</td>\n",
       "      <td>AllPub</td>\n",
       "      <td>...</td>\n",
       "      <td>0</td>\n",
       "      <td>NaN</td>\n",
       "      <td>NaN</td>\n",
       "      <td>NaN</td>\n",
       "      <td>0</td>\n",
       "      <td>5</td>\n",
       "      <td>2007</td>\n",
       "      <td>WD</td>\n",
       "      <td>Normal</td>\n",
       "      <td>181500</td>\n",
       "    </tr>\n",
       "    <tr>\n",
       "      <th>2</th>\n",
       "      <td>3</td>\n",
       "      <td>60</td>\n",
       "      <td>RL</td>\n",
       "      <td>68.0</td>\n",
       "      <td>11250</td>\n",
       "      <td>Pave</td>\n",
       "      <td>NaN</td>\n",
       "      <td>IR1</td>\n",
       "      <td>Lvl</td>\n",
       "      <td>AllPub</td>\n",
       "      <td>...</td>\n",
       "      <td>0</td>\n",
       "      <td>NaN</td>\n",
       "      <td>NaN</td>\n",
       "      <td>NaN</td>\n",
       "      <td>0</td>\n",
       "      <td>9</td>\n",
       "      <td>2008</td>\n",
       "      <td>WD</td>\n",
       "      <td>Normal</td>\n",
       "      <td>223500</td>\n",
       "    </tr>\n",
       "    <tr>\n",
       "      <th>3</th>\n",
       "      <td>4</td>\n",
       "      <td>70</td>\n",
       "      <td>RL</td>\n",
       "      <td>60.0</td>\n",
       "      <td>9550</td>\n",
       "      <td>Pave</td>\n",
       "      <td>NaN</td>\n",
       "      <td>IR1</td>\n",
       "      <td>Lvl</td>\n",
       "      <td>AllPub</td>\n",
       "      <td>...</td>\n",
       "      <td>0</td>\n",
       "      <td>NaN</td>\n",
       "      <td>NaN</td>\n",
       "      <td>NaN</td>\n",
       "      <td>0</td>\n",
       "      <td>2</td>\n",
       "      <td>2006</td>\n",
       "      <td>WD</td>\n",
       "      <td>Abnorml</td>\n",
       "      <td>140000</td>\n",
       "    </tr>\n",
       "    <tr>\n",
       "      <th>4</th>\n",
       "      <td>5</td>\n",
       "      <td>60</td>\n",
       "      <td>RL</td>\n",
       "      <td>84.0</td>\n",
       "      <td>14260</td>\n",
       "      <td>Pave</td>\n",
       "      <td>NaN</td>\n",
       "      <td>IR1</td>\n",
       "      <td>Lvl</td>\n",
       "      <td>AllPub</td>\n",
       "      <td>...</td>\n",
       "      <td>0</td>\n",
       "      <td>NaN</td>\n",
       "      <td>NaN</td>\n",
       "      <td>NaN</td>\n",
       "      <td>0</td>\n",
       "      <td>12</td>\n",
       "      <td>2008</td>\n",
       "      <td>WD</td>\n",
       "      <td>Normal</td>\n",
       "      <td>250000</td>\n",
       "    </tr>\n",
       "  </tbody>\n",
       "</table>\n",
       "<p>5 rows × 81 columns</p>\n",
       "</div>"
      ],
      "text/plain": [
       "   Id  MSSubClass MSZoning  LotFrontage  LotArea Street Alley LotShape  \\\n",
       "0   1          60       RL         65.0     8450   Pave   NaN      Reg   \n",
       "1   2          20       RL         80.0     9600   Pave   NaN      Reg   \n",
       "2   3          60       RL         68.0    11250   Pave   NaN      IR1   \n",
       "3   4          70       RL         60.0     9550   Pave   NaN      IR1   \n",
       "4   5          60       RL         84.0    14260   Pave   NaN      IR1   \n",
       "\n",
       "  LandContour Utilities  ... PoolArea PoolQC Fence MiscFeature MiscVal MoSold  \\\n",
       "0         Lvl    AllPub  ...        0    NaN   NaN         NaN       0      2   \n",
       "1         Lvl    AllPub  ...        0    NaN   NaN         NaN       0      5   \n",
       "2         Lvl    AllPub  ...        0    NaN   NaN         NaN       0      9   \n",
       "3         Lvl    AllPub  ...        0    NaN   NaN         NaN       0      2   \n",
       "4         Lvl    AllPub  ...        0    NaN   NaN         NaN       0     12   \n",
       "\n",
       "  YrSold  SaleType  SaleCondition  SalePrice  \n",
       "0   2008        WD         Normal     208500  \n",
       "1   2007        WD         Normal     181500  \n",
       "2   2008        WD         Normal     223500  \n",
       "3   2006        WD        Abnorml     140000  \n",
       "4   2008        WD         Normal     250000  \n",
       "\n",
       "[5 rows x 81 columns]"
      ]
     },
     "execution_count": 2,
     "metadata": {},
     "output_type": "execute_result"
    }
   ],
   "source": [
    "df = pd.read_csv('data/train.csv')\n",
    "df.head()"
   ]
  },
  {
   "cell_type": "markdown",
   "id": "15e24f44",
   "metadata": {},
   "source": [
    "## Analyse rapide des données"
   ]
  },
  {
   "cell_type": "code",
   "execution_count": 3,
   "id": "11a872d5",
   "metadata": {
    "ExecuteTime": {
     "end_time": "2021-06-14T21:54:18.402208Z",
     "start_time": "2021-06-14T21:54:18.325244Z"
    }
   },
   "outputs": [
    {
     "name": "stdout",
     "output_type": "stream",
     "text": [
      "\n",
      "        Longueur du dataset : 1460 enregistrements\n",
      "        Nombre de colonnes : 81\n",
      "        \n"
     ]
    },
    {
     "data": {
      "text/html": [
       "<div>\n",
       "<style scoped>\n",
       "    .dataframe tbody tr th:only-of-type {\n",
       "        vertical-align: middle;\n",
       "    }\n",
       "\n",
       "    .dataframe tbody tr th {\n",
       "        vertical-align: top;\n",
       "    }\n",
       "\n",
       "    .dataframe thead th {\n",
       "        text-align: right;\n",
       "    }\n",
       "</style>\n",
       "<table border=\"1\" class=\"dataframe\">\n",
       "  <thead>\n",
       "    <tr style=\"text-align: right;\">\n",
       "      <th></th>\n",
       "      <th>type</th>\n",
       "      <th>Echantillon</th>\n",
       "      <th>Nbr de V nulles</th>\n",
       "      <th>% de valeurs nulles</th>\n",
       "      <th>Nbr L dupliquées</th>\n",
       "      <th>Nbr V unique</th>\n",
       "    </tr>\n",
       "  </thead>\n",
       "  <tbody>\n",
       "    <tr>\n",
       "      <th>Id</th>\n",
       "      <td>int64</td>\n",
       "      <td>[1, 2, 3, 4, 5]</td>\n",
       "      <td>0</td>\n",
       "      <td>0.00</td>\n",
       "      <td>0</td>\n",
       "      <td>1460</td>\n",
       "    </tr>\n",
       "    <tr>\n",
       "      <th>BsmtUnfSF</th>\n",
       "      <td>int64</td>\n",
       "      <td>[150, 284, 434, 540, 490]</td>\n",
       "      <td>0</td>\n",
       "      <td>0.00</td>\n",
       "      <td>0</td>\n",
       "      <td>780</td>\n",
       "    </tr>\n",
       "    <tr>\n",
       "      <th>TotalBsmtSF</th>\n",
       "      <td>int64</td>\n",
       "      <td>[856, 1262, 920, 756, 1145]</td>\n",
       "      <td>0</td>\n",
       "      <td>0.00</td>\n",
       "      <td>0</td>\n",
       "      <td>721</td>\n",
       "    </tr>\n",
       "    <tr>\n",
       "      <th>1stFlrSF</th>\n",
       "      <td>int64</td>\n",
       "      <td>[856, 1262, 920, 961, 1145]</td>\n",
       "      <td>0</td>\n",
       "      <td>0.00</td>\n",
       "      <td>0</td>\n",
       "      <td>753</td>\n",
       "    </tr>\n",
       "    <tr>\n",
       "      <th>2ndFlrSF</th>\n",
       "      <td>int64</td>\n",
       "      <td>[854, 0, 866, 756, 1053]</td>\n",
       "      <td>0</td>\n",
       "      <td>0.00</td>\n",
       "      <td>0</td>\n",
       "      <td>417</td>\n",
       "    </tr>\n",
       "    <tr>\n",
       "      <th>LowQualFinSF</th>\n",
       "      <td>int64</td>\n",
       "      <td>[0, 0, 0, 0, 0]</td>\n",
       "      <td>0</td>\n",
       "      <td>0.00</td>\n",
       "      <td>0</td>\n",
       "      <td>24</td>\n",
       "    </tr>\n",
       "    <tr>\n",
       "      <th>GrLivArea</th>\n",
       "      <td>int64</td>\n",
       "      <td>[1710, 1262, 1786, 1717, 2198]</td>\n",
       "      <td>0</td>\n",
       "      <td>0.00</td>\n",
       "      <td>0</td>\n",
       "      <td>861</td>\n",
       "    </tr>\n",
       "    <tr>\n",
       "      <th>BsmtFullBath</th>\n",
       "      <td>int64</td>\n",
       "      <td>[1, 0, 1, 1, 1]</td>\n",
       "      <td>0</td>\n",
       "      <td>0.00</td>\n",
       "      <td>0</td>\n",
       "      <td>4</td>\n",
       "    </tr>\n",
       "    <tr>\n",
       "      <th>BsmtHalfBath</th>\n",
       "      <td>int64</td>\n",
       "      <td>[0, 1, 0, 0, 0]</td>\n",
       "      <td>0</td>\n",
       "      <td>0.00</td>\n",
       "      <td>0</td>\n",
       "      <td>3</td>\n",
       "    </tr>\n",
       "    <tr>\n",
       "      <th>FullBath</th>\n",
       "      <td>int64</td>\n",
       "      <td>[2, 2, 2, 1, 2]</td>\n",
       "      <td>0</td>\n",
       "      <td>0.00</td>\n",
       "      <td>0</td>\n",
       "      <td>4</td>\n",
       "    </tr>\n",
       "    <tr>\n",
       "      <th>HalfBath</th>\n",
       "      <td>int64</td>\n",
       "      <td>[1, 0, 1, 0, 1]</td>\n",
       "      <td>0</td>\n",
       "      <td>0.00</td>\n",
       "      <td>0</td>\n",
       "      <td>3</td>\n",
       "    </tr>\n",
       "    <tr>\n",
       "      <th>BedroomAbvGr</th>\n",
       "      <td>int64</td>\n",
       "      <td>[3, 3, 3, 3, 4]</td>\n",
       "      <td>0</td>\n",
       "      <td>0.00</td>\n",
       "      <td>0</td>\n",
       "      <td>8</td>\n",
       "    </tr>\n",
       "    <tr>\n",
       "      <th>KitchenAbvGr</th>\n",
       "      <td>int64</td>\n",
       "      <td>[1, 1, 1, 1, 1]</td>\n",
       "      <td>0</td>\n",
       "      <td>0.00</td>\n",
       "      <td>0</td>\n",
       "      <td>4</td>\n",
       "    </tr>\n",
       "    <tr>\n",
       "      <th>TotRmsAbvGrd</th>\n",
       "      <td>int64</td>\n",
       "      <td>[8, 6, 6, 7, 9]</td>\n",
       "      <td>0</td>\n",
       "      <td>0.00</td>\n",
       "      <td>0</td>\n",
       "      <td>12</td>\n",
       "    </tr>\n",
       "    <tr>\n",
       "      <th>Fireplaces</th>\n",
       "      <td>int64</td>\n",
       "      <td>[0, 1, 1, 1, 1]</td>\n",
       "      <td>0</td>\n",
       "      <td>0.00</td>\n",
       "      <td>0</td>\n",
       "      <td>4</td>\n",
       "    </tr>\n",
       "    <tr>\n",
       "      <th>GarageCars</th>\n",
       "      <td>int64</td>\n",
       "      <td>[2, 2, 2, 3, 3]</td>\n",
       "      <td>0</td>\n",
       "      <td>0.00</td>\n",
       "      <td>0</td>\n",
       "      <td>5</td>\n",
       "    </tr>\n",
       "    <tr>\n",
       "      <th>GarageArea</th>\n",
       "      <td>int64</td>\n",
       "      <td>[548, 460, 608, 642, 836]</td>\n",
       "      <td>0</td>\n",
       "      <td>0.00</td>\n",
       "      <td>0</td>\n",
       "      <td>441</td>\n",
       "    </tr>\n",
       "    <tr>\n",
       "      <th>WoodDeckSF</th>\n",
       "      <td>int64</td>\n",
       "      <td>[0, 298, 0, 0, 192]</td>\n",
       "      <td>0</td>\n",
       "      <td>0.00</td>\n",
       "      <td>0</td>\n",
       "      <td>274</td>\n",
       "    </tr>\n",
       "    <tr>\n",
       "      <th>OpenPorchSF</th>\n",
       "      <td>int64</td>\n",
       "      <td>[61, 0, 42, 35, 84]</td>\n",
       "      <td>0</td>\n",
       "      <td>0.00</td>\n",
       "      <td>0</td>\n",
       "      <td>202</td>\n",
       "    </tr>\n",
       "    <tr>\n",
       "      <th>EnclosedPorch</th>\n",
       "      <td>int64</td>\n",
       "      <td>[0, 0, 0, 272, 0]</td>\n",
       "      <td>0</td>\n",
       "      <td>0.00</td>\n",
       "      <td>0</td>\n",
       "      <td>120</td>\n",
       "    </tr>\n",
       "    <tr>\n",
       "      <th>3SsnPorch</th>\n",
       "      <td>int64</td>\n",
       "      <td>[0, 0, 0, 0, 0]</td>\n",
       "      <td>0</td>\n",
       "      <td>0.00</td>\n",
       "      <td>0</td>\n",
       "      <td>20</td>\n",
       "    </tr>\n",
       "    <tr>\n",
       "      <th>ScreenPorch</th>\n",
       "      <td>int64</td>\n",
       "      <td>[0, 0, 0, 0, 0]</td>\n",
       "      <td>0</td>\n",
       "      <td>0.00</td>\n",
       "      <td>0</td>\n",
       "      <td>76</td>\n",
       "    </tr>\n",
       "    <tr>\n",
       "      <th>PoolArea</th>\n",
       "      <td>int64</td>\n",
       "      <td>[0, 0, 0, 0, 0]</td>\n",
       "      <td>0</td>\n",
       "      <td>0.00</td>\n",
       "      <td>0</td>\n",
       "      <td>8</td>\n",
       "    </tr>\n",
       "    <tr>\n",
       "      <th>MiscVal</th>\n",
       "      <td>int64</td>\n",
       "      <td>[0, 0, 0, 0, 0]</td>\n",
       "      <td>0</td>\n",
       "      <td>0.00</td>\n",
       "      <td>0</td>\n",
       "      <td>21</td>\n",
       "    </tr>\n",
       "    <tr>\n",
       "      <th>MoSold</th>\n",
       "      <td>int64</td>\n",
       "      <td>[2, 5, 9, 2, 12]</td>\n",
       "      <td>0</td>\n",
       "      <td>0.00</td>\n",
       "      <td>0</td>\n",
       "      <td>12</td>\n",
       "    </tr>\n",
       "    <tr>\n",
       "      <th>YrSold</th>\n",
       "      <td>int64</td>\n",
       "      <td>[2008, 2007, 2008, 2006, 2008]</td>\n",
       "      <td>0</td>\n",
       "      <td>0.00</td>\n",
       "      <td>0</td>\n",
       "      <td>5</td>\n",
       "    </tr>\n",
       "    <tr>\n",
       "      <th>BsmtFinSF2</th>\n",
       "      <td>int64</td>\n",
       "      <td>[0, 0, 0, 0, 0]</td>\n",
       "      <td>0</td>\n",
       "      <td>0.00</td>\n",
       "      <td>0</td>\n",
       "      <td>144</td>\n",
       "    </tr>\n",
       "    <tr>\n",
       "      <th>BsmtFinSF1</th>\n",
       "      <td>int64</td>\n",
       "      <td>[706, 978, 486, 216, 655]</td>\n",
       "      <td>0</td>\n",
       "      <td>0.00</td>\n",
       "      <td>0</td>\n",
       "      <td>637</td>\n",
       "    </tr>\n",
       "    <tr>\n",
       "      <th>SalePrice</th>\n",
       "      <td>int64</td>\n",
       "      <td>[208500, 181500, 223500, 140000, 250000]</td>\n",
       "      <td>0</td>\n",
       "      <td>0.00</td>\n",
       "      <td>0</td>\n",
       "      <td>663</td>\n",
       "    </tr>\n",
       "    <tr>\n",
       "      <th>MSSubClass</th>\n",
       "      <td>int64</td>\n",
       "      <td>[60, 20, 60, 70, 60]</td>\n",
       "      <td>0</td>\n",
       "      <td>0.00</td>\n",
       "      <td>0</td>\n",
       "      <td>15</td>\n",
       "    </tr>\n",
       "    <tr>\n",
       "      <th>LotArea</th>\n",
       "      <td>int64</td>\n",
       "      <td>[8450, 9600, 11250, 9550, 14260]</td>\n",
       "      <td>0</td>\n",
       "      <td>0.00</td>\n",
       "      <td>0</td>\n",
       "      <td>1073</td>\n",
       "    </tr>\n",
       "    <tr>\n",
       "      <th>OverallQual</th>\n",
       "      <td>int64</td>\n",
       "      <td>[7, 6, 7, 7, 8]</td>\n",
       "      <td>0</td>\n",
       "      <td>0.00</td>\n",
       "      <td>0</td>\n",
       "      <td>10</td>\n",
       "    </tr>\n",
       "    <tr>\n",
       "      <th>OverallCond</th>\n",
       "      <td>int64</td>\n",
       "      <td>[5, 8, 5, 5, 5]</td>\n",
       "      <td>0</td>\n",
       "      <td>0.00</td>\n",
       "      <td>0</td>\n",
       "      <td>9</td>\n",
       "    </tr>\n",
       "    <tr>\n",
       "      <th>YearBuilt</th>\n",
       "      <td>int64</td>\n",
       "      <td>[2003, 1976, 2001, 1915, 2000]</td>\n",
       "      <td>0</td>\n",
       "      <td>0.00</td>\n",
       "      <td>0</td>\n",
       "      <td>112</td>\n",
       "    </tr>\n",
       "    <tr>\n",
       "      <th>YearRemodAdd</th>\n",
       "      <td>int64</td>\n",
       "      <td>[2003, 1976, 2002, 1970, 2000]</td>\n",
       "      <td>0</td>\n",
       "      <td>0.00</td>\n",
       "      <td>0</td>\n",
       "      <td>61</td>\n",
       "    </tr>\n",
       "    <tr>\n",
       "      <th>GarageYrBlt</th>\n",
       "      <td>float64</td>\n",
       "      <td>[2003.0, 1976.0, 2001.0, 1998.0, 2000.0]</td>\n",
       "      <td>81</td>\n",
       "      <td>5.55</td>\n",
       "      <td>0</td>\n",
       "      <td>97</td>\n",
       "    </tr>\n",
       "    <tr>\n",
       "      <th>LotFrontage</th>\n",
       "      <td>float64</td>\n",
       "      <td>[65.0, 80.0, 68.0, 60.0, 84.0]</td>\n",
       "      <td>259</td>\n",
       "      <td>17.74</td>\n",
       "      <td>0</td>\n",
       "      <td>110</td>\n",
       "    </tr>\n",
       "    <tr>\n",
       "      <th>MasVnrArea</th>\n",
       "      <td>float64</td>\n",
       "      <td>[196.0, 0.0, 162.0, 0.0, 350.0]</td>\n",
       "      <td>8</td>\n",
       "      <td>0.55</td>\n",
       "      <td>0</td>\n",
       "      <td>327</td>\n",
       "    </tr>\n",
       "    <tr>\n",
       "      <th>Foundation</th>\n",
       "      <td>object</td>\n",
       "      <td>['PConc', 'CBlock', 'PConc', 'BrkTil', 'PConc']</td>\n",
       "      <td>0</td>\n",
       "      <td>0.00</td>\n",
       "      <td>0</td>\n",
       "      <td>6</td>\n",
       "    </tr>\n",
       "    <tr>\n",
       "      <th>GarageFinish</th>\n",
       "      <td>object</td>\n",
       "      <td>['RFn', 'RFn', 'RFn', 'Unf', 'RFn']</td>\n",
       "      <td>81</td>\n",
       "      <td>5.55</td>\n",
       "      <td>0</td>\n",
       "      <td>3</td>\n",
       "    </tr>\n",
       "    <tr>\n",
       "      <th>LandSlope</th>\n",
       "      <td>object</td>\n",
       "      <td>['Gtl', 'Gtl', 'Gtl', 'Gtl', 'Gtl']</td>\n",
       "      <td>0</td>\n",
       "      <td>0.00</td>\n",
       "      <td>0</td>\n",
       "      <td>3</td>\n",
       "    </tr>\n",
       "    <tr>\n",
       "      <th>LotConfig</th>\n",
       "      <td>object</td>\n",
       "      <td>['Inside', 'FR2', 'Inside', 'Corner', 'FR2']</td>\n",
       "      <td>0</td>\n",
       "      <td>0.00</td>\n",
       "      <td>0</td>\n",
       "      <td>5</td>\n",
       "    </tr>\n",
       "    <tr>\n",
       "      <th>GarageQual</th>\n",
       "      <td>object</td>\n",
       "      <td>['TA', 'TA', 'TA', 'TA', 'TA']</td>\n",
       "      <td>81</td>\n",
       "      <td>5.55</td>\n",
       "      <td>0</td>\n",
       "      <td>5</td>\n",
       "    </tr>\n",
       "    <tr>\n",
       "      <th>GarageCond</th>\n",
       "      <td>object</td>\n",
       "      <td>['TA', 'TA', 'TA', 'TA', 'TA']</td>\n",
       "      <td>81</td>\n",
       "      <td>5.55</td>\n",
       "      <td>0</td>\n",
       "      <td>5</td>\n",
       "    </tr>\n",
       "    <tr>\n",
       "      <th>LandContour</th>\n",
       "      <td>object</td>\n",
       "      <td>['Lvl', 'Lvl', 'Lvl', 'Lvl', 'Lvl']</td>\n",
       "      <td>0</td>\n",
       "      <td>0.00</td>\n",
       "      <td>0</td>\n",
       "      <td>4</td>\n",
       "    </tr>\n",
       "    <tr>\n",
       "      <th>Utilities</th>\n",
       "      <td>object</td>\n",
       "      <td>['AllPub', 'AllPub', 'AllPub', 'AllPub', 'AllP...</td>\n",
       "      <td>0</td>\n",
       "      <td>0.00</td>\n",
       "      <td>0</td>\n",
       "      <td>2</td>\n",
       "    </tr>\n",
       "    <tr>\n",
       "      <th>GarageType</th>\n",
       "      <td>object</td>\n",
       "      <td>['Attchd', 'Attchd', 'Attchd', 'Detchd', 'Attc...</td>\n",
       "      <td>81</td>\n",
       "      <td>5.55</td>\n",
       "      <td>0</td>\n",
       "      <td>6</td>\n",
       "    </tr>\n",
       "    <tr>\n",
       "      <th>LotShape</th>\n",
       "      <td>object</td>\n",
       "      <td>['Reg', 'Reg', 'IR1', 'IR1', 'IR1']</td>\n",
       "      <td>0</td>\n",
       "      <td>0.00</td>\n",
       "      <td>0</td>\n",
       "      <td>4</td>\n",
       "    </tr>\n",
       "    <tr>\n",
       "      <th>Alley</th>\n",
       "      <td>object</td>\n",
       "      <td>[nan, nan, nan, nan, nan]</td>\n",
       "      <td>1369</td>\n",
       "      <td>93.77</td>\n",
       "      <td>0</td>\n",
       "      <td>2</td>\n",
       "    </tr>\n",
       "    <tr>\n",
       "      <th>Street</th>\n",
       "      <td>object</td>\n",
       "      <td>['Pave', 'Pave', 'Pave', 'Pave', 'Pave']</td>\n",
       "      <td>0</td>\n",
       "      <td>0.00</td>\n",
       "      <td>0</td>\n",
       "      <td>2</td>\n",
       "    </tr>\n",
       "    <tr>\n",
       "      <th>PoolQC</th>\n",
       "      <td>object</td>\n",
       "      <td>[nan, nan, nan, nan, nan]</td>\n",
       "      <td>1453</td>\n",
       "      <td>99.52</td>\n",
       "      <td>0</td>\n",
       "      <td>3</td>\n",
       "    </tr>\n",
       "    <tr>\n",
       "      <th>Fence</th>\n",
       "      <td>object</td>\n",
       "      <td>[nan, nan, nan, nan, nan]</td>\n",
       "      <td>1179</td>\n",
       "      <td>80.75</td>\n",
       "      <td>0</td>\n",
       "      <td>4</td>\n",
       "    </tr>\n",
       "    <tr>\n",
       "      <th>MiscFeature</th>\n",
       "      <td>object</td>\n",
       "      <td>[nan, nan, nan, nan, nan]</td>\n",
       "      <td>1406</td>\n",
       "      <td>96.30</td>\n",
       "      <td>0</td>\n",
       "      <td>4</td>\n",
       "    </tr>\n",
       "    <tr>\n",
       "      <th>MSZoning</th>\n",
       "      <td>object</td>\n",
       "      <td>['RL', 'RL', 'RL', 'RL', 'RL']</td>\n",
       "      <td>0</td>\n",
       "      <td>0.00</td>\n",
       "      <td>0</td>\n",
       "      <td>5</td>\n",
       "    </tr>\n",
       "    <tr>\n",
       "      <th>SaleType</th>\n",
       "      <td>object</td>\n",
       "      <td>['WD', 'WD', 'WD', 'WD', 'WD']</td>\n",
       "      <td>0</td>\n",
       "      <td>0.00</td>\n",
       "      <td>0</td>\n",
       "      <td>9</td>\n",
       "    </tr>\n",
       "    <tr>\n",
       "      <th>PavedDrive</th>\n",
       "      <td>object</td>\n",
       "      <td>['Y', 'Y', 'Y', 'Y', 'Y']</td>\n",
       "      <td>0</td>\n",
       "      <td>0.00</td>\n",
       "      <td>0</td>\n",
       "      <td>3</td>\n",
       "    </tr>\n",
       "    <tr>\n",
       "      <th>FireplaceQu</th>\n",
       "      <td>object</td>\n",
       "      <td>[nan, 'TA', 'TA', 'Gd', 'TA']</td>\n",
       "      <td>690</td>\n",
       "      <td>47.26</td>\n",
       "      <td>0</td>\n",
       "      <td>5</td>\n",
       "    </tr>\n",
       "    <tr>\n",
       "      <th>Condition1</th>\n",
       "      <td>object</td>\n",
       "      <td>['Norm', 'Feedr', 'Norm', 'Norm', 'Norm']</td>\n",
       "      <td>0</td>\n",
       "      <td>0.00</td>\n",
       "      <td>0</td>\n",
       "      <td>9</td>\n",
       "    </tr>\n",
       "    <tr>\n",
       "      <th>Functional</th>\n",
       "      <td>object</td>\n",
       "      <td>['Typ', 'Typ', 'Typ', 'Typ', 'Typ']</td>\n",
       "      <td>0</td>\n",
       "      <td>0.00</td>\n",
       "      <td>0</td>\n",
       "      <td>7</td>\n",
       "    </tr>\n",
       "    <tr>\n",
       "      <th>BsmtQual</th>\n",
       "      <td>object</td>\n",
       "      <td>['Gd', 'Gd', 'Gd', 'TA', 'Gd']</td>\n",
       "      <td>37</td>\n",
       "      <td>2.53</td>\n",
       "      <td>0</td>\n",
       "      <td>4</td>\n",
       "    </tr>\n",
       "    <tr>\n",
       "      <th>BsmtCond</th>\n",
       "      <td>object</td>\n",
       "      <td>['TA', 'TA', 'TA', 'Gd', 'TA']</td>\n",
       "      <td>37</td>\n",
       "      <td>2.53</td>\n",
       "      <td>0</td>\n",
       "      <td>4</td>\n",
       "    </tr>\n",
       "    <tr>\n",
       "      <th>BsmtExposure</th>\n",
       "      <td>object</td>\n",
       "      <td>['No', 'Gd', 'Mn', 'No', 'Av']</td>\n",
       "      <td>38</td>\n",
       "      <td>2.60</td>\n",
       "      <td>0</td>\n",
       "      <td>4</td>\n",
       "    </tr>\n",
       "    <tr>\n",
       "      <th>BsmtFinType1</th>\n",
       "      <td>object</td>\n",
       "      <td>['GLQ', 'ALQ', 'GLQ', 'ALQ', 'GLQ']</td>\n",
       "      <td>37</td>\n",
       "      <td>2.53</td>\n",
       "      <td>0</td>\n",
       "      <td>6</td>\n",
       "    </tr>\n",
       "    <tr>\n",
       "      <th>ExterQual</th>\n",
       "      <td>object</td>\n",
       "      <td>['Gd', 'TA', 'Gd', 'TA', 'Gd']</td>\n",
       "      <td>0</td>\n",
       "      <td>0.00</td>\n",
       "      <td>0</td>\n",
       "      <td>4</td>\n",
       "    </tr>\n",
       "    <tr>\n",
       "      <th>BsmtFinType2</th>\n",
       "      <td>object</td>\n",
       "      <td>['Unf', 'Unf', 'Unf', 'Unf', 'Unf']</td>\n",
       "      <td>38</td>\n",
       "      <td>2.60</td>\n",
       "      <td>0</td>\n",
       "      <td>6</td>\n",
       "    </tr>\n",
       "    <tr>\n",
       "      <th>MasVnrType</th>\n",
       "      <td>object</td>\n",
       "      <td>['BrkFace', 'None', 'BrkFace', 'None', 'BrkFace']</td>\n",
       "      <td>8</td>\n",
       "      <td>0.55</td>\n",
       "      <td>0</td>\n",
       "      <td>4</td>\n",
       "    </tr>\n",
       "    <tr>\n",
       "      <th>Exterior2nd</th>\n",
       "      <td>object</td>\n",
       "      <td>['VinylSd', 'MetalSd', 'VinylSd', 'Wd Shng', '...</td>\n",
       "      <td>0</td>\n",
       "      <td>0.00</td>\n",
       "      <td>0</td>\n",
       "      <td>16</td>\n",
       "    </tr>\n",
       "    <tr>\n",
       "      <th>Heating</th>\n",
       "      <td>object</td>\n",
       "      <td>['GasA', 'GasA', 'GasA', 'GasA', 'GasA']</td>\n",
       "      <td>0</td>\n",
       "      <td>0.00</td>\n",
       "      <td>0</td>\n",
       "      <td>6</td>\n",
       "    </tr>\n",
       "    <tr>\n",
       "      <th>Neighborhood</th>\n",
       "      <td>object</td>\n",
       "      <td>['CollgCr', 'Veenker', 'CollgCr', 'Crawfor', '...</td>\n",
       "      <td>0</td>\n",
       "      <td>0.00</td>\n",
       "      <td>0</td>\n",
       "      <td>25</td>\n",
       "    </tr>\n",
       "    <tr>\n",
       "      <th>SaleCondition</th>\n",
       "      <td>object</td>\n",
       "      <td>['Normal', 'Normal', 'Normal', 'Abnorml', 'Nor...</td>\n",
       "      <td>0</td>\n",
       "      <td>0.00</td>\n",
       "      <td>0</td>\n",
       "      <td>6</td>\n",
       "    </tr>\n",
       "    <tr>\n",
       "      <th>Electrical</th>\n",
       "      <td>object</td>\n",
       "      <td>['SBrkr', 'SBrkr', 'SBrkr', 'SBrkr', 'SBrkr']</td>\n",
       "      <td>1</td>\n",
       "      <td>0.07</td>\n",
       "      <td>0</td>\n",
       "      <td>5</td>\n",
       "    </tr>\n",
       "    <tr>\n",
       "      <th>Exterior1st</th>\n",
       "      <td>object</td>\n",
       "      <td>['VinylSd', 'MetalSd', 'VinylSd', 'Wd Sdng', '...</td>\n",
       "      <td>0</td>\n",
       "      <td>0.00</td>\n",
       "      <td>0</td>\n",
       "      <td>15</td>\n",
       "    </tr>\n",
       "    <tr>\n",
       "      <th>RoofMatl</th>\n",
       "      <td>object</td>\n",
       "      <td>['CompShg', 'CompShg', 'CompShg', 'CompShg', '...</td>\n",
       "      <td>0</td>\n",
       "      <td>0.00</td>\n",
       "      <td>0</td>\n",
       "      <td>8</td>\n",
       "    </tr>\n",
       "    <tr>\n",
       "      <th>RoofStyle</th>\n",
       "      <td>object</td>\n",
       "      <td>['Gable', 'Gable', 'Gable', 'Gable', 'Gable']</td>\n",
       "      <td>0</td>\n",
       "      <td>0.00</td>\n",
       "      <td>0</td>\n",
       "      <td>6</td>\n",
       "    </tr>\n",
       "    <tr>\n",
       "      <th>HouseStyle</th>\n",
       "      <td>object</td>\n",
       "      <td>['2Story', '1Story', '2Story', '2Story', '2Sto...</td>\n",
       "      <td>0</td>\n",
       "      <td>0.00</td>\n",
       "      <td>0</td>\n",
       "      <td>8</td>\n",
       "    </tr>\n",
       "    <tr>\n",
       "      <th>BldgType</th>\n",
       "      <td>object</td>\n",
       "      <td>['1Fam', '1Fam', '1Fam', '1Fam', '1Fam']</td>\n",
       "      <td>0</td>\n",
       "      <td>0.00</td>\n",
       "      <td>0</td>\n",
       "      <td>5</td>\n",
       "    </tr>\n",
       "    <tr>\n",
       "      <th>Condition2</th>\n",
       "      <td>object</td>\n",
       "      <td>['Norm', 'Norm', 'Norm', 'Norm', 'Norm']</td>\n",
       "      <td>0</td>\n",
       "      <td>0.00</td>\n",
       "      <td>0</td>\n",
       "      <td>8</td>\n",
       "    </tr>\n",
       "    <tr>\n",
       "      <th>KitchenQual</th>\n",
       "      <td>object</td>\n",
       "      <td>['Gd', 'TA', 'Gd', 'Gd', 'Gd']</td>\n",
       "      <td>0</td>\n",
       "      <td>0.00</td>\n",
       "      <td>0</td>\n",
       "      <td>4</td>\n",
       "    </tr>\n",
       "    <tr>\n",
       "      <th>ExterCond</th>\n",
       "      <td>object</td>\n",
       "      <td>['TA', 'TA', 'TA', 'TA', 'TA']</td>\n",
       "      <td>0</td>\n",
       "      <td>0.00</td>\n",
       "      <td>0</td>\n",
       "      <td>5</td>\n",
       "    </tr>\n",
       "    <tr>\n",
       "      <th>CentralAir</th>\n",
       "      <td>object</td>\n",
       "      <td>['Y', 'Y', 'Y', 'Y', 'Y']</td>\n",
       "      <td>0</td>\n",
       "      <td>0.00</td>\n",
       "      <td>0</td>\n",
       "      <td>2</td>\n",
       "    </tr>\n",
       "    <tr>\n",
       "      <th>HeatingQC</th>\n",
       "      <td>object</td>\n",
       "      <td>['Ex', 'Ex', 'Ex', 'Gd', 'Ex']</td>\n",
       "      <td>0</td>\n",
       "      <td>0.00</td>\n",
       "      <td>0</td>\n",
       "      <td>5</td>\n",
       "    </tr>\n",
       "  </tbody>\n",
       "</table>\n",
       "</div>"
      ],
      "text/plain": [
       "                  type                                        Echantillon  \\\n",
       "Id               int64                                    [1, 2, 3, 4, 5]   \n",
       "BsmtUnfSF        int64                          [150, 284, 434, 540, 490]   \n",
       "TotalBsmtSF      int64                        [856, 1262, 920, 756, 1145]   \n",
       "1stFlrSF         int64                        [856, 1262, 920, 961, 1145]   \n",
       "2ndFlrSF         int64                           [854, 0, 866, 756, 1053]   \n",
       "LowQualFinSF     int64                                    [0, 0, 0, 0, 0]   \n",
       "GrLivArea        int64                     [1710, 1262, 1786, 1717, 2198]   \n",
       "BsmtFullBath     int64                                    [1, 0, 1, 1, 1]   \n",
       "BsmtHalfBath     int64                                    [0, 1, 0, 0, 0]   \n",
       "FullBath         int64                                    [2, 2, 2, 1, 2]   \n",
       "HalfBath         int64                                    [1, 0, 1, 0, 1]   \n",
       "BedroomAbvGr     int64                                    [3, 3, 3, 3, 4]   \n",
       "KitchenAbvGr     int64                                    [1, 1, 1, 1, 1]   \n",
       "TotRmsAbvGrd     int64                                    [8, 6, 6, 7, 9]   \n",
       "Fireplaces       int64                                    [0, 1, 1, 1, 1]   \n",
       "GarageCars       int64                                    [2, 2, 2, 3, 3]   \n",
       "GarageArea       int64                          [548, 460, 608, 642, 836]   \n",
       "WoodDeckSF       int64                                [0, 298, 0, 0, 192]   \n",
       "OpenPorchSF      int64                                [61, 0, 42, 35, 84]   \n",
       "EnclosedPorch    int64                                  [0, 0, 0, 272, 0]   \n",
       "3SsnPorch        int64                                    [0, 0, 0, 0, 0]   \n",
       "ScreenPorch      int64                                    [0, 0, 0, 0, 0]   \n",
       "PoolArea         int64                                    [0, 0, 0, 0, 0]   \n",
       "MiscVal          int64                                    [0, 0, 0, 0, 0]   \n",
       "MoSold           int64                                   [2, 5, 9, 2, 12]   \n",
       "YrSold           int64                     [2008, 2007, 2008, 2006, 2008]   \n",
       "BsmtFinSF2       int64                                    [0, 0, 0, 0, 0]   \n",
       "BsmtFinSF1       int64                          [706, 978, 486, 216, 655]   \n",
       "SalePrice        int64           [208500, 181500, 223500, 140000, 250000]   \n",
       "MSSubClass       int64                               [60, 20, 60, 70, 60]   \n",
       "LotArea          int64                   [8450, 9600, 11250, 9550, 14260]   \n",
       "OverallQual      int64                                    [7, 6, 7, 7, 8]   \n",
       "OverallCond      int64                                    [5, 8, 5, 5, 5]   \n",
       "YearBuilt        int64                     [2003, 1976, 2001, 1915, 2000]   \n",
       "YearRemodAdd     int64                     [2003, 1976, 2002, 1970, 2000]   \n",
       "GarageYrBlt    float64           [2003.0, 1976.0, 2001.0, 1998.0, 2000.0]   \n",
       "LotFrontage    float64                     [65.0, 80.0, 68.0, 60.0, 84.0]   \n",
       "MasVnrArea     float64                    [196.0, 0.0, 162.0, 0.0, 350.0]   \n",
       "Foundation      object    ['PConc', 'CBlock', 'PConc', 'BrkTil', 'PConc']   \n",
       "GarageFinish    object                ['RFn', 'RFn', 'RFn', 'Unf', 'RFn']   \n",
       "LandSlope       object                ['Gtl', 'Gtl', 'Gtl', 'Gtl', 'Gtl']   \n",
       "LotConfig       object       ['Inside', 'FR2', 'Inside', 'Corner', 'FR2']   \n",
       "GarageQual      object                     ['TA', 'TA', 'TA', 'TA', 'TA']   \n",
       "GarageCond      object                     ['TA', 'TA', 'TA', 'TA', 'TA']   \n",
       "LandContour     object                ['Lvl', 'Lvl', 'Lvl', 'Lvl', 'Lvl']   \n",
       "Utilities       object  ['AllPub', 'AllPub', 'AllPub', 'AllPub', 'AllP...   \n",
       "GarageType      object  ['Attchd', 'Attchd', 'Attchd', 'Detchd', 'Attc...   \n",
       "LotShape        object                ['Reg', 'Reg', 'IR1', 'IR1', 'IR1']   \n",
       "Alley           object                          [nan, nan, nan, nan, nan]   \n",
       "Street          object           ['Pave', 'Pave', 'Pave', 'Pave', 'Pave']   \n",
       "PoolQC          object                          [nan, nan, nan, nan, nan]   \n",
       "Fence           object                          [nan, nan, nan, nan, nan]   \n",
       "MiscFeature     object                          [nan, nan, nan, nan, nan]   \n",
       "MSZoning        object                     ['RL', 'RL', 'RL', 'RL', 'RL']   \n",
       "SaleType        object                     ['WD', 'WD', 'WD', 'WD', 'WD']   \n",
       "PavedDrive      object                          ['Y', 'Y', 'Y', 'Y', 'Y']   \n",
       "FireplaceQu     object                      [nan, 'TA', 'TA', 'Gd', 'TA']   \n",
       "Condition1      object          ['Norm', 'Feedr', 'Norm', 'Norm', 'Norm']   \n",
       "Functional      object                ['Typ', 'Typ', 'Typ', 'Typ', 'Typ']   \n",
       "BsmtQual        object                     ['Gd', 'Gd', 'Gd', 'TA', 'Gd']   \n",
       "BsmtCond        object                     ['TA', 'TA', 'TA', 'Gd', 'TA']   \n",
       "BsmtExposure    object                     ['No', 'Gd', 'Mn', 'No', 'Av']   \n",
       "BsmtFinType1    object                ['GLQ', 'ALQ', 'GLQ', 'ALQ', 'GLQ']   \n",
       "ExterQual       object                     ['Gd', 'TA', 'Gd', 'TA', 'Gd']   \n",
       "BsmtFinType2    object                ['Unf', 'Unf', 'Unf', 'Unf', 'Unf']   \n",
       "MasVnrType      object  ['BrkFace', 'None', 'BrkFace', 'None', 'BrkFace']   \n",
       "Exterior2nd     object  ['VinylSd', 'MetalSd', 'VinylSd', 'Wd Shng', '...   \n",
       "Heating         object           ['GasA', 'GasA', 'GasA', 'GasA', 'GasA']   \n",
       "Neighborhood    object  ['CollgCr', 'Veenker', 'CollgCr', 'Crawfor', '...   \n",
       "SaleCondition   object  ['Normal', 'Normal', 'Normal', 'Abnorml', 'Nor...   \n",
       "Electrical      object      ['SBrkr', 'SBrkr', 'SBrkr', 'SBrkr', 'SBrkr']   \n",
       "Exterior1st     object  ['VinylSd', 'MetalSd', 'VinylSd', 'Wd Sdng', '...   \n",
       "RoofMatl        object  ['CompShg', 'CompShg', 'CompShg', 'CompShg', '...   \n",
       "RoofStyle       object      ['Gable', 'Gable', 'Gable', 'Gable', 'Gable']   \n",
       "HouseStyle      object  ['2Story', '1Story', '2Story', '2Story', '2Sto...   \n",
       "BldgType        object           ['1Fam', '1Fam', '1Fam', '1Fam', '1Fam']   \n",
       "Condition2      object           ['Norm', 'Norm', 'Norm', 'Norm', 'Norm']   \n",
       "KitchenQual     object                     ['Gd', 'TA', 'Gd', 'Gd', 'Gd']   \n",
       "ExterCond       object                     ['TA', 'TA', 'TA', 'TA', 'TA']   \n",
       "CentralAir      object                          ['Y', 'Y', 'Y', 'Y', 'Y']   \n",
       "HeatingQC       object                     ['Ex', 'Ex', 'Ex', 'Gd', 'Ex']   \n",
       "\n",
       "               Nbr de V nulles  % de valeurs nulles  Nbr L dupliquées  \\\n",
       "Id                           0                 0.00                 0   \n",
       "BsmtUnfSF                    0                 0.00                 0   \n",
       "TotalBsmtSF                  0                 0.00                 0   \n",
       "1stFlrSF                     0                 0.00                 0   \n",
       "2ndFlrSF                     0                 0.00                 0   \n",
       "LowQualFinSF                 0                 0.00                 0   \n",
       "GrLivArea                    0                 0.00                 0   \n",
       "BsmtFullBath                 0                 0.00                 0   \n",
       "BsmtHalfBath                 0                 0.00                 0   \n",
       "FullBath                     0                 0.00                 0   \n",
       "HalfBath                     0                 0.00                 0   \n",
       "BedroomAbvGr                 0                 0.00                 0   \n",
       "KitchenAbvGr                 0                 0.00                 0   \n",
       "TotRmsAbvGrd                 0                 0.00                 0   \n",
       "Fireplaces                   0                 0.00                 0   \n",
       "GarageCars                   0                 0.00                 0   \n",
       "GarageArea                   0                 0.00                 0   \n",
       "WoodDeckSF                   0                 0.00                 0   \n",
       "OpenPorchSF                  0                 0.00                 0   \n",
       "EnclosedPorch                0                 0.00                 0   \n",
       "3SsnPorch                    0                 0.00                 0   \n",
       "ScreenPorch                  0                 0.00                 0   \n",
       "PoolArea                     0                 0.00                 0   \n",
       "MiscVal                      0                 0.00                 0   \n",
       "MoSold                       0                 0.00                 0   \n",
       "YrSold                       0                 0.00                 0   \n",
       "BsmtFinSF2                   0                 0.00                 0   \n",
       "BsmtFinSF1                   0                 0.00                 0   \n",
       "SalePrice                    0                 0.00                 0   \n",
       "MSSubClass                   0                 0.00                 0   \n",
       "LotArea                      0                 0.00                 0   \n",
       "OverallQual                  0                 0.00                 0   \n",
       "OverallCond                  0                 0.00                 0   \n",
       "YearBuilt                    0                 0.00                 0   \n",
       "YearRemodAdd                 0                 0.00                 0   \n",
       "GarageYrBlt                 81                 5.55                 0   \n",
       "LotFrontage                259                17.74                 0   \n",
       "MasVnrArea                   8                 0.55                 0   \n",
       "Foundation                   0                 0.00                 0   \n",
       "GarageFinish                81                 5.55                 0   \n",
       "LandSlope                    0                 0.00                 0   \n",
       "LotConfig                    0                 0.00                 0   \n",
       "GarageQual                  81                 5.55                 0   \n",
       "GarageCond                  81                 5.55                 0   \n",
       "LandContour                  0                 0.00                 0   \n",
       "Utilities                    0                 0.00                 0   \n",
       "GarageType                  81                 5.55                 0   \n",
       "LotShape                     0                 0.00                 0   \n",
       "Alley                     1369                93.77                 0   \n",
       "Street                       0                 0.00                 0   \n",
       "PoolQC                    1453                99.52                 0   \n",
       "Fence                     1179                80.75                 0   \n",
       "MiscFeature               1406                96.30                 0   \n",
       "MSZoning                     0                 0.00                 0   \n",
       "SaleType                     0                 0.00                 0   \n",
       "PavedDrive                   0                 0.00                 0   \n",
       "FireplaceQu                690                47.26                 0   \n",
       "Condition1                   0                 0.00                 0   \n",
       "Functional                   0                 0.00                 0   \n",
       "BsmtQual                    37                 2.53                 0   \n",
       "BsmtCond                    37                 2.53                 0   \n",
       "BsmtExposure                38                 2.60                 0   \n",
       "BsmtFinType1                37                 2.53                 0   \n",
       "ExterQual                    0                 0.00                 0   \n",
       "BsmtFinType2                38                 2.60                 0   \n",
       "MasVnrType                   8                 0.55                 0   \n",
       "Exterior2nd                  0                 0.00                 0   \n",
       "Heating                      0                 0.00                 0   \n",
       "Neighborhood                 0                 0.00                 0   \n",
       "SaleCondition                0                 0.00                 0   \n",
       "Electrical                   1                 0.07                 0   \n",
       "Exterior1st                  0                 0.00                 0   \n",
       "RoofMatl                     0                 0.00                 0   \n",
       "RoofStyle                    0                 0.00                 0   \n",
       "HouseStyle                   0                 0.00                 0   \n",
       "BldgType                     0                 0.00                 0   \n",
       "Condition2                   0                 0.00                 0   \n",
       "KitchenQual                  0                 0.00                 0   \n",
       "ExterCond                    0                 0.00                 0   \n",
       "CentralAir                   0                 0.00                 0   \n",
       "HeatingQC                    0                 0.00                 0   \n",
       "\n",
       "               Nbr V unique  \n",
       "Id                     1460  \n",
       "BsmtUnfSF               780  \n",
       "TotalBsmtSF             721  \n",
       "1stFlrSF                753  \n",
       "2ndFlrSF                417  \n",
       "LowQualFinSF             24  \n",
       "GrLivArea               861  \n",
       "BsmtFullBath              4  \n",
       "BsmtHalfBath              3  \n",
       "FullBath                  4  \n",
       "HalfBath                  3  \n",
       "BedroomAbvGr              8  \n",
       "KitchenAbvGr              4  \n",
       "TotRmsAbvGrd             12  \n",
       "Fireplaces                4  \n",
       "GarageCars                5  \n",
       "GarageArea              441  \n",
       "WoodDeckSF              274  \n",
       "OpenPorchSF             202  \n",
       "EnclosedPorch           120  \n",
       "3SsnPorch                20  \n",
       "ScreenPorch              76  \n",
       "PoolArea                  8  \n",
       "MiscVal                  21  \n",
       "MoSold                   12  \n",
       "YrSold                    5  \n",
       "BsmtFinSF2              144  \n",
       "BsmtFinSF1              637  \n",
       "SalePrice               663  \n",
       "MSSubClass               15  \n",
       "LotArea                1073  \n",
       "OverallQual              10  \n",
       "OverallCond               9  \n",
       "YearBuilt               112  \n",
       "YearRemodAdd             61  \n",
       "GarageYrBlt              97  \n",
       "LotFrontage             110  \n",
       "MasVnrArea              327  \n",
       "Foundation                6  \n",
       "GarageFinish              3  \n",
       "LandSlope                 3  \n",
       "LotConfig                 5  \n",
       "GarageQual                5  \n",
       "GarageCond                5  \n",
       "LandContour               4  \n",
       "Utilities                 2  \n",
       "GarageType                6  \n",
       "LotShape                  4  \n",
       "Alley                     2  \n",
       "Street                    2  \n",
       "PoolQC                    3  \n",
       "Fence                     4  \n",
       "MiscFeature               4  \n",
       "MSZoning                  5  \n",
       "SaleType                  9  \n",
       "PavedDrive                3  \n",
       "FireplaceQu               5  \n",
       "Condition1                9  \n",
       "Functional                7  \n",
       "BsmtQual                  4  \n",
       "BsmtCond                  4  \n",
       "BsmtExposure              4  \n",
       "BsmtFinType1              6  \n",
       "ExterQual                 4  \n",
       "BsmtFinType2              6  \n",
       "MasVnrType                4  \n",
       "Exterior2nd              16  \n",
       "Heating                   6  \n",
       "Neighborhood             25  \n",
       "SaleCondition             6  \n",
       "Electrical                5  \n",
       "Exterior1st              15  \n",
       "RoofMatl                  8  \n",
       "RoofStyle                 6  \n",
       "HouseStyle                8  \n",
       "BldgType                  5  \n",
       "Condition2                8  \n",
       "KitchenQual               4  \n",
       "ExterCond                 5  \n",
       "CentralAir                2  \n",
       "HeatingQC                 5  "
      ]
     },
     "execution_count": 3,
     "metadata": {},
     "output_type": "execute_result"
    }
   ],
   "source": [
    "def df_info(df):\n",
    "        len_df = len(df)\n",
    "        all_columns = len(df.columns)\n",
    "\n",
    "        print(f\"\"\"\n",
    "        Longueur du dataset : {len_df} enregistrements\n",
    "        Nombre de colonnes : {all_columns}\n",
    "        \"\"\")\n",
    "        echantillonColonnes = []\n",
    "        for i in df.columns:\n",
    "            listcolumn = str(list(df[i].head(5)))\n",
    "            echantillonColonnes.append(listcolumn)\n",
    "        pd.set_option('max_rows', 81)\n",
    "        obs = pd.DataFrame({'type': df.dtypes,\n",
    "        'Echantillon': echantillonColonnes,\n",
    "        'Nbr de V nulles' : df.isna().sum(),\n",
    "        \"% de valeurs nulles\":round(df.isna().sum() / len_df * 100, 2),\n",
    "        'Nbr L dupliquées' : (df.duplicated()).sum(),\n",
    "        'Nbr V unique' : df.nunique(),\n",
    "        })\n",
    "        return obs.sort_values(by='type')\n",
    "\n",
    "df_info(df)"
   ]
  },
  {
   "cell_type": "markdown",
   "id": "b77328a0",
   "metadata": {},
   "source": [
    "## % de chaque valeurs par variables"
   ]
  },
  {
   "cell_type": "code",
   "execution_count": 4,
   "id": "95ffe7f0",
   "metadata": {
    "ExecuteTime": {
     "end_time": "2021-06-14T21:54:18.619380Z",
     "start_time": "2021-06-14T21:54:18.402208Z"
    },
    "scrolled": true
   },
   "outputs": [
    {
     "name": "stdout",
     "output_type": "stream",
     "text": [
      "----------------------------------------Id---------------------------------------- - "
     ]
    },
    {
     "data": {
      "text/plain": [
       "1       0.068493\n",
       "982     0.068493\n",
       "980     0.068493\n",
       "979     0.068493\n",
       "978     0.068493\n",
       "          ...   \n",
       "485     0.068493\n",
       "484     0.068493\n",
       "483     0.068493\n",
       "482     0.068493\n",
       "1460    0.068493\n",
       "Name: Id, Length: 1460, dtype: float64"
      ]
     },
     "metadata": {},
     "output_type": "display_data"
    },
    {
     "name": "stdout",
     "output_type": "stream",
     "text": [
      "----------------------------------------MSSubClass---------------------------------------- - "
     ]
    },
    {
     "data": {
      "text/plain": [
       "20     36.712329\n",
       "60     20.479452\n",
       "50      9.863014\n",
       "120     5.958904\n",
       "30      4.726027\n",
       "160     4.315068\n",
       "70      4.109589\n",
       "80      3.972603\n",
       "90      3.561644\n",
       "190     2.054795\n",
       "85      1.369863\n",
       "75      1.095890\n",
       "45      0.821918\n",
       "180     0.684932\n",
       "40      0.273973\n",
       "Name: MSSubClass, dtype: float64"
      ]
     },
     "metadata": {},
     "output_type": "display_data"
    },
    {
     "name": "stdout",
     "output_type": "stream",
     "text": [
      "----------------------------------------MSZoning---------------------------------------- - "
     ]
    },
    {
     "data": {
      "text/plain": [
       "RL         78.835616\n",
       "RM         14.931507\n",
       "FV          4.452055\n",
       "RH          1.095890\n",
       "C (all)     0.684932\n",
       "Name: MSZoning, dtype: float64"
      ]
     },
     "metadata": {},
     "output_type": "display_data"
    },
    {
     "name": "stdout",
     "output_type": "stream",
     "text": [
      "----------------------------------------LotFrontage---------------------------------------- - "
     ]
    },
    {
     "data": {
      "text/plain": [
       "60.0     9.794521\n",
       "70.0     4.794521\n",
       "80.0     4.726027\n",
       "50.0     3.904110\n",
       "75.0     3.630137\n",
       "           ...   \n",
       "112.0    0.068493\n",
       "138.0    0.068493\n",
       "149.0    0.068493\n",
       "38.0     0.068493\n",
       "111.0    0.068493\n",
       "Name: LotFrontage, Length: 110, dtype: float64"
      ]
     },
     "metadata": {},
     "output_type": "display_data"
    },
    {
     "name": "stdout",
     "output_type": "stream",
     "text": [
      "----------------------------------------LotArea---------------------------------------- - "
     ]
    },
    {
     "data": {
      "text/plain": [
       "7200     1.712329\n",
       "9600     1.643836\n",
       "6000     1.164384\n",
       "8400     0.958904\n",
       "9000     0.958904\n",
       "           ...   \n",
       "13031    0.068493\n",
       "10991    0.068493\n",
       "8944     0.068493\n",
       "6897     0.068493\n",
       "8190     0.068493\n",
       "Name: LotArea, Length: 1073, dtype: float64"
      ]
     },
     "metadata": {},
     "output_type": "display_data"
    },
    {
     "name": "stdout",
     "output_type": "stream",
     "text": [
      "----------------------------------------Street---------------------------------------- - "
     ]
    },
    {
     "data": {
      "text/plain": [
       "Pave    99.589041\n",
       "Grvl     0.410959\n",
       "Name: Street, dtype: float64"
      ]
     },
     "metadata": {},
     "output_type": "display_data"
    },
    {
     "name": "stdout",
     "output_type": "stream",
     "text": [
      "----------------------------------------Alley---------------------------------------- - "
     ]
    },
    {
     "data": {
      "text/plain": [
       "Grvl    3.424658\n",
       "Pave    2.808219\n",
       "Name: Alley, dtype: float64"
      ]
     },
     "metadata": {},
     "output_type": "display_data"
    },
    {
     "name": "stdout",
     "output_type": "stream",
     "text": [
      "----------------------------------------LotShape---------------------------------------- - "
     ]
    },
    {
     "data": {
      "text/plain": [
       "Reg    63.356164\n",
       "IR1    33.150685\n",
       "IR2     2.808219\n",
       "IR3     0.684932\n",
       "Name: LotShape, dtype: float64"
      ]
     },
     "metadata": {},
     "output_type": "display_data"
    },
    {
     "name": "stdout",
     "output_type": "stream",
     "text": [
      "----------------------------------------LandContour---------------------------------------- - "
     ]
    },
    {
     "data": {
      "text/plain": [
       "Lvl    89.794521\n",
       "Bnk     4.315068\n",
       "HLS     3.424658\n",
       "Low     2.465753\n",
       "Name: LandContour, dtype: float64"
      ]
     },
     "metadata": {},
     "output_type": "display_data"
    },
    {
     "name": "stdout",
     "output_type": "stream",
     "text": [
      "----------------------------------------Utilities---------------------------------------- - "
     ]
    },
    {
     "data": {
      "text/plain": [
       "AllPub    99.931507\n",
       "NoSeWa     0.068493\n",
       "Name: Utilities, dtype: float64"
      ]
     },
     "metadata": {},
     "output_type": "display_data"
    },
    {
     "name": "stdout",
     "output_type": "stream",
     "text": [
      "----------------------------------------LotConfig---------------------------------------- - "
     ]
    },
    {
     "data": {
      "text/plain": [
       "Inside     72.054795\n",
       "Corner     18.013699\n",
       "CulDSac     6.438356\n",
       "FR2         3.219178\n",
       "FR3         0.273973\n",
       "Name: LotConfig, dtype: float64"
      ]
     },
     "metadata": {},
     "output_type": "display_data"
    },
    {
     "name": "stdout",
     "output_type": "stream",
     "text": [
      "----------------------------------------LandSlope---------------------------------------- - "
     ]
    },
    {
     "data": {
      "text/plain": [
       "Gtl    94.657534\n",
       "Mod     4.452055\n",
       "Sev     0.890411\n",
       "Name: LandSlope, dtype: float64"
      ]
     },
     "metadata": {},
     "output_type": "display_data"
    },
    {
     "name": "stdout",
     "output_type": "stream",
     "text": [
      "----------------------------------------Neighborhood---------------------------------------- - "
     ]
    },
    {
     "data": {
      "text/plain": [
       "NAmes      15.410959\n",
       "CollgCr    10.273973\n",
       "OldTown     7.739726\n",
       "Edwards     6.849315\n",
       "Somerst     5.890411\n",
       "Gilbert     5.410959\n",
       "NridgHt     5.273973\n",
       "Sawyer      5.068493\n",
       "NWAmes      5.000000\n",
       "SawyerW     4.041096\n",
       "BrkSide     3.972603\n",
       "Crawfor     3.493151\n",
       "Mitchel     3.356164\n",
       "NoRidge     2.808219\n",
       "Timber      2.602740\n",
       "IDOTRR      2.534247\n",
       "ClearCr     1.917808\n",
       "StoneBr     1.712329\n",
       "SWISU       1.712329\n",
       "MeadowV     1.164384\n",
       "Blmngtn     1.164384\n",
       "BrDale      1.095890\n",
       "Veenker     0.753425\n",
       "NPkVill     0.616438\n",
       "Blueste     0.136986\n",
       "Name: Neighborhood, dtype: float64"
      ]
     },
     "metadata": {},
     "output_type": "display_data"
    },
    {
     "name": "stdout",
     "output_type": "stream",
     "text": [
      "----------------------------------------Condition1---------------------------------------- - "
     ]
    },
    {
     "data": {
      "text/plain": [
       "Norm      86.301370\n",
       "Feedr      5.547945\n",
       "Artery     3.287671\n",
       "RRAn       1.780822\n",
       "PosN       1.301370\n",
       "RRAe       0.753425\n",
       "PosA       0.547945\n",
       "RRNn       0.342466\n",
       "RRNe       0.136986\n",
       "Name: Condition1, dtype: float64"
      ]
     },
     "metadata": {},
     "output_type": "display_data"
    },
    {
     "name": "stdout",
     "output_type": "stream",
     "text": [
      "----------------------------------------Condition2---------------------------------------- - "
     ]
    },
    {
     "data": {
      "text/plain": [
       "Norm      98.972603\n",
       "Feedr      0.410959\n",
       "Artery     0.136986\n",
       "PosN       0.136986\n",
       "RRNn       0.136986\n",
       "RRAn       0.068493\n",
       "PosA       0.068493\n",
       "RRAe       0.068493\n",
       "Name: Condition2, dtype: float64"
      ]
     },
     "metadata": {},
     "output_type": "display_data"
    },
    {
     "name": "stdout",
     "output_type": "stream",
     "text": [
      "----------------------------------------BldgType---------------------------------------- - "
     ]
    },
    {
     "data": {
      "text/plain": [
       "1Fam      83.561644\n",
       "TwnhsE     7.808219\n",
       "Duplex     3.561644\n",
       "Twnhs      2.945205\n",
       "2fmCon     2.123288\n",
       "Name: BldgType, dtype: float64"
      ]
     },
     "metadata": {},
     "output_type": "display_data"
    },
    {
     "name": "stdout",
     "output_type": "stream",
     "text": [
      "----------------------------------------HouseStyle---------------------------------------- - "
     ]
    },
    {
     "data": {
      "text/plain": [
       "1Story    49.726027\n",
       "2Story    30.479452\n",
       "1.5Fin    10.547945\n",
       "SLvl       4.452055\n",
       "SFoyer     2.534247\n",
       "1.5Unf     0.958904\n",
       "2.5Unf     0.753425\n",
       "2.5Fin     0.547945\n",
       "Name: HouseStyle, dtype: float64"
      ]
     },
     "metadata": {},
     "output_type": "display_data"
    },
    {
     "name": "stdout",
     "output_type": "stream",
     "text": [
      "----------------------------------------OverallQual---------------------------------------- - "
     ]
    },
    {
     "data": {
      "text/plain": [
       "5     27.191781\n",
       "6     25.616438\n",
       "7     21.849315\n",
       "8     11.506849\n",
       "4      7.945205\n",
       "9      2.945205\n",
       "3      1.369863\n",
       "10     1.232877\n",
       "2      0.205479\n",
       "1      0.136986\n",
       "Name: OverallQual, dtype: float64"
      ]
     },
     "metadata": {},
     "output_type": "display_data"
    },
    {
     "name": "stdout",
     "output_type": "stream",
     "text": [
      "----------------------------------------OverallCond---------------------------------------- - "
     ]
    },
    {
     "data": {
      "text/plain": [
       "5    56.232877\n",
       "6    17.260274\n",
       "7    14.041096\n",
       "8     4.931507\n",
       "4     3.904110\n",
       "3     1.712329\n",
       "9     1.506849\n",
       "2     0.342466\n",
       "1     0.068493\n",
       "Name: OverallCond, dtype: float64"
      ]
     },
     "metadata": {},
     "output_type": "display_data"
    },
    {
     "name": "stdout",
     "output_type": "stream",
     "text": [
      "----------------------------------------YearBuilt---------------------------------------- - "
     ]
    },
    {
     "data": {
      "text/plain": [
       "2006    4.589041\n",
       "2005    4.383562\n",
       "2004    3.698630\n",
       "2007    3.356164\n",
       "2003    3.082192\n",
       "          ...   \n",
       "1904    0.068493\n",
       "1898    0.068493\n",
       "1893    0.068493\n",
       "1882    0.068493\n",
       "2010    0.068493\n",
       "Name: YearBuilt, Length: 112, dtype: float64"
      ]
     },
     "metadata": {},
     "output_type": "display_data"
    },
    {
     "name": "stdout",
     "output_type": "stream",
     "text": [
      "----------------------------------------YearRemodAdd---------------------------------------- - "
     ]
    },
    {
     "data": {
      "text/plain": [
       "1950    12.191781\n",
       "2006     6.643836\n",
       "2007     5.205479\n",
       "2005     5.000000\n",
       "2004     4.246575\n",
       "2000     3.767123\n",
       "2003     3.493151\n",
       "2002     3.287671\n",
       "2008     2.739726\n",
       "1996     2.465753\n",
       "1998     2.465753\n",
       "1995     2.123288\n",
       "1976     2.054795\n",
       "1999     2.054795\n",
       "1970     1.780822\n",
       "1997     1.712329\n",
       "1977     1.712329\n",
       "2009     1.575342\n",
       "1994     1.506849\n",
       "2001     1.438356\n",
       "1972     1.369863\n",
       "1993     1.301370\n",
       "1965     1.301370\n",
       "1959     1.232877\n",
       "1971     1.232877\n",
       "1992     1.164384\n",
       "1968     1.164384\n",
       "1978     1.095890\n",
       "1990     1.027397\n",
       "1966     1.027397\n",
       "1958     1.027397\n",
       "1969     0.958904\n",
       "1962     0.958904\n",
       "1954     0.958904\n",
       "1991     0.958904\n",
       "1963     0.890411\n",
       "1980     0.821918\n",
       "1960     0.821918\n",
       "1967     0.821918\n",
       "1989     0.753425\n",
       "1973     0.753425\n",
       "1964     0.753425\n",
       "1987     0.684932\n",
       "1953     0.684932\n",
       "1956     0.684932\n",
       "1979     0.684932\n",
       "1975     0.684932\n",
       "1985     0.616438\n",
       "1955     0.616438\n",
       "1957     0.616438\n",
       "1988     0.616438\n",
       "1961     0.547945\n",
       "1981     0.547945\n",
       "1974     0.479452\n",
       "1982     0.479452\n",
       "1984     0.479452\n",
       "2010     0.410959\n",
       "1983     0.342466\n",
       "1986     0.342466\n",
       "1952     0.342466\n",
       "1951     0.273973\n",
       "Name: YearRemodAdd, dtype: float64"
      ]
     },
     "metadata": {},
     "output_type": "display_data"
    },
    {
     "name": "stdout",
     "output_type": "stream",
     "text": [
      "----------------------------------------RoofStyle---------------------------------------- - "
     ]
    },
    {
     "data": {
      "text/plain": [
       "Gable      78.150685\n",
       "Hip        19.589041\n",
       "Flat        0.890411\n",
       "Gambrel     0.753425\n",
       "Mansard     0.479452\n",
       "Shed        0.136986\n",
       "Name: RoofStyle, dtype: float64"
      ]
     },
     "metadata": {},
     "output_type": "display_data"
    },
    {
     "name": "stdout",
     "output_type": "stream",
     "text": [
      "----------------------------------------RoofMatl---------------------------------------- - "
     ]
    },
    {
     "data": {
      "text/plain": [
       "CompShg    98.219178\n",
       "Tar&Grv     0.753425\n",
       "WdShngl     0.410959\n",
       "WdShake     0.342466\n",
       "ClyTile     0.068493\n",
       "Membran     0.068493\n",
       "Roll        0.068493\n",
       "Metal       0.068493\n",
       "Name: RoofMatl, dtype: float64"
      ]
     },
     "metadata": {},
     "output_type": "display_data"
    },
    {
     "name": "stdout",
     "output_type": "stream",
     "text": [
      "----------------------------------------Exterior1st---------------------------------------- - "
     ]
    },
    {
     "data": {
      "text/plain": [
       "VinylSd    35.273973\n",
       "HdBoard    15.205479\n",
       "MetalSd    15.068493\n",
       "Wd Sdng    14.109589\n",
       "Plywood     7.397260\n",
       "CemntBd     4.178082\n",
       "BrkFace     3.424658\n",
       "WdShing     1.780822\n",
       "Stucco      1.712329\n",
       "AsbShng     1.369863\n",
       "Stone       0.136986\n",
       "BrkComm     0.136986\n",
       "ImStucc     0.068493\n",
       "AsphShn     0.068493\n",
       "CBlock      0.068493\n",
       "Name: Exterior1st, dtype: float64"
      ]
     },
     "metadata": {},
     "output_type": "display_data"
    },
    {
     "name": "stdout",
     "output_type": "stream",
     "text": [
      "----------------------------------------Exterior2nd---------------------------------------- - "
     ]
    },
    {
     "data": {
      "text/plain": [
       "VinylSd    34.520548\n",
       "MetalSd    14.657534\n",
       "HdBoard    14.178082\n",
       "Wd Sdng    13.493151\n",
       "Plywood     9.726027\n",
       "CmentBd     4.109589\n",
       "Wd Shng     2.602740\n",
       "Stucco      1.780822\n",
       "BrkFace     1.712329\n",
       "AsbShng     1.369863\n",
       "ImStucc     0.684932\n",
       "Brk Cmn     0.479452\n",
       "Stone       0.342466\n",
       "AsphShn     0.205479\n",
       "Other       0.068493\n",
       "CBlock      0.068493\n",
       "Name: Exterior2nd, dtype: float64"
      ]
     },
     "metadata": {},
     "output_type": "display_data"
    },
    {
     "name": "stdout",
     "output_type": "stream",
     "text": [
      "----------------------------------------MasVnrType---------------------------------------- - "
     ]
    },
    {
     "data": {
      "text/plain": [
       "None       59.178082\n",
       "BrkFace    30.479452\n",
       "Stone       8.767123\n",
       "BrkCmn      1.027397\n",
       "Name: MasVnrType, dtype: float64"
      ]
     },
     "metadata": {},
     "output_type": "display_data"
    },
    {
     "name": "stdout",
     "output_type": "stream",
     "text": [
      "----------------------------------------MasVnrArea---------------------------------------- - "
     ]
    },
    {
     "data": {
      "text/plain": [
       "0.0      58.972603\n",
       "108.0     0.547945\n",
       "72.0      0.547945\n",
       "180.0     0.547945\n",
       "16.0      0.479452\n",
       "           ...    \n",
       "31.0      0.068493\n",
       "366.0     0.068493\n",
       "528.0     0.068493\n",
       "894.0     0.068493\n",
       "415.0     0.068493\n",
       "Name: MasVnrArea, Length: 327, dtype: float64"
      ]
     },
     "metadata": {},
     "output_type": "display_data"
    },
    {
     "name": "stdout",
     "output_type": "stream",
     "text": [
      "----------------------------------------ExterQual---------------------------------------- - "
     ]
    },
    {
     "data": {
      "text/plain": [
       "TA    62.054795\n",
       "Gd    33.424658\n",
       "Ex     3.561644\n",
       "Fa     0.958904\n",
       "Name: ExterQual, dtype: float64"
      ]
     },
     "metadata": {},
     "output_type": "display_data"
    },
    {
     "name": "stdout",
     "output_type": "stream",
     "text": [
      "----------------------------------------ExterCond---------------------------------------- - "
     ]
    },
    {
     "data": {
      "text/plain": [
       "TA    87.808219\n",
       "Gd    10.000000\n",
       "Fa     1.917808\n",
       "Ex     0.205479\n",
       "Po     0.068493\n",
       "Name: ExterCond, dtype: float64"
      ]
     },
     "metadata": {},
     "output_type": "display_data"
    },
    {
     "name": "stdout",
     "output_type": "stream",
     "text": [
      "----------------------------------------Foundation---------------------------------------- - "
     ]
    },
    {
     "data": {
      "text/plain": [
       "PConc     44.315068\n",
       "CBlock    43.424658\n",
       "BrkTil    10.000000\n",
       "Slab       1.643836\n",
       "Stone      0.410959\n",
       "Wood       0.205479\n",
       "Name: Foundation, dtype: float64"
      ]
     },
     "metadata": {},
     "output_type": "display_data"
    },
    {
     "name": "stdout",
     "output_type": "stream",
     "text": [
      "----------------------------------------BsmtQual---------------------------------------- - "
     ]
    },
    {
     "data": {
      "text/plain": [
       "TA    44.452055\n",
       "Gd    42.328767\n",
       "Ex     8.287671\n",
       "Fa     2.397260\n",
       "Name: BsmtQual, dtype: float64"
      ]
     },
     "metadata": {},
     "output_type": "display_data"
    },
    {
     "name": "stdout",
     "output_type": "stream",
     "text": [
      "----------------------------------------BsmtCond---------------------------------------- - "
     ]
    },
    {
     "data": {
      "text/plain": [
       "TA    89.794521\n",
       "Gd     4.452055\n",
       "Fa     3.082192\n",
       "Po     0.136986\n",
       "Name: BsmtCond, dtype: float64"
      ]
     },
     "metadata": {},
     "output_type": "display_data"
    },
    {
     "name": "stdout",
     "output_type": "stream",
     "text": [
      "----------------------------------------BsmtExposure---------------------------------------- - "
     ]
    },
    {
     "data": {
      "text/plain": [
       "No    65.273973\n",
       "Av    15.136986\n",
       "Gd     9.178082\n",
       "Mn     7.808219\n",
       "Name: BsmtExposure, dtype: float64"
      ]
     },
     "metadata": {},
     "output_type": "display_data"
    },
    {
     "name": "stdout",
     "output_type": "stream",
     "text": [
      "----------------------------------------BsmtFinType1---------------------------------------- - "
     ]
    },
    {
     "data": {
      "text/plain": [
       "Unf    29.452055\n",
       "GLQ    28.630137\n",
       "ALQ    15.068493\n",
       "BLQ    10.136986\n",
       "Rec     9.109589\n",
       "LwQ     5.068493\n",
       "Name: BsmtFinType1, dtype: float64"
      ]
     },
     "metadata": {},
     "output_type": "display_data"
    },
    {
     "name": "stdout",
     "output_type": "stream",
     "text": [
      "----------------------------------------BsmtFinSF1---------------------------------------- - "
     ]
    },
    {
     "data": {
      "text/plain": [
       "0       31.986301\n",
       "24       0.821918\n",
       "16       0.616438\n",
       "20       0.342466\n",
       "686      0.342466\n",
       "          ...    \n",
       "535      0.068493\n",
       "534      0.068493\n",
       "532      0.068493\n",
       "522      0.068493\n",
       "2096     0.068493\n",
       "Name: BsmtFinSF1, Length: 637, dtype: float64"
      ]
     },
     "metadata": {},
     "output_type": "display_data"
    },
    {
     "name": "stdout",
     "output_type": "stream",
     "text": [
      "----------------------------------------BsmtFinType2---------------------------------------- - "
     ]
    },
    {
     "data": {
      "text/plain": [
       "Unf    86.027397\n",
       "Rec     3.698630\n",
       "LwQ     3.150685\n",
       "BLQ     2.260274\n",
       "ALQ     1.301370\n",
       "GLQ     0.958904\n",
       "Name: BsmtFinType2, dtype: float64"
      ]
     },
     "metadata": {},
     "output_type": "display_data"
    },
    {
     "name": "stdout",
     "output_type": "stream",
     "text": [
      "----------------------------------------BsmtFinSF2---------------------------------------- - "
     ]
    },
    {
     "data": {
      "text/plain": [
       "0       88.561644\n",
       "180      0.342466\n",
       "374      0.205479\n",
       "117      0.136986\n",
       "391      0.136986\n",
       "          ...    \n",
       "215      0.068493\n",
       "211      0.068493\n",
       "210      0.068493\n",
       "208      0.068493\n",
       "1474     0.068493\n",
       "Name: BsmtFinSF2, Length: 144, dtype: float64"
      ]
     },
     "metadata": {},
     "output_type": "display_data"
    },
    {
     "name": "stdout",
     "output_type": "stream",
     "text": [
      "----------------------------------------BsmtUnfSF---------------------------------------- - "
     ]
    },
    {
     "data": {
      "text/plain": [
       "0       8.082192\n",
       "728     0.616438\n",
       "384     0.547945\n",
       "572     0.479452\n",
       "600     0.479452\n",
       "          ...   \n",
       "549     0.068493\n",
       "548     0.068493\n",
       "545     0.068493\n",
       "543     0.068493\n",
       "2046    0.068493\n",
       "Name: BsmtUnfSF, Length: 780, dtype: float64"
      ]
     },
     "metadata": {},
     "output_type": "display_data"
    },
    {
     "name": "stdout",
     "output_type": "stream",
     "text": [
      "----------------------------------------TotalBsmtSF---------------------------------------- - "
     ]
    },
    {
     "data": {
      "text/plain": [
       "0       2.534247\n",
       "864     2.397260\n",
       "672     1.164384\n",
       "912     1.027397\n",
       "1040    0.958904\n",
       "          ...   \n",
       "1210    0.068493\n",
       "727     0.068493\n",
       "1205    0.068493\n",
       "1203    0.068493\n",
       "2046    0.068493\n",
       "Name: TotalBsmtSF, Length: 721, dtype: float64"
      ]
     },
     "metadata": {},
     "output_type": "display_data"
    },
    {
     "name": "stdout",
     "output_type": "stream",
     "text": [
      "----------------------------------------Heating---------------------------------------- - "
     ]
    },
    {
     "data": {
      "text/plain": [
       "GasA     97.808219\n",
       "GasW      1.232877\n",
       "Grav      0.479452\n",
       "Wall      0.273973\n",
       "OthW      0.136986\n",
       "Floor     0.068493\n",
       "Name: Heating, dtype: float64"
      ]
     },
     "metadata": {},
     "output_type": "display_data"
    },
    {
     "name": "stdout",
     "output_type": "stream",
     "text": [
      "----------------------------------------HeatingQC---------------------------------------- - "
     ]
    },
    {
     "data": {
      "text/plain": [
       "Ex    50.753425\n",
       "TA    29.315068\n",
       "Gd    16.506849\n",
       "Fa     3.356164\n",
       "Po     0.068493\n",
       "Name: HeatingQC, dtype: float64"
      ]
     },
     "metadata": {},
     "output_type": "display_data"
    },
    {
     "name": "stdout",
     "output_type": "stream",
     "text": [
      "----------------------------------------CentralAir---------------------------------------- - "
     ]
    },
    {
     "data": {
      "text/plain": [
       "Y    93.493151\n",
       "N     6.506849\n",
       "Name: CentralAir, dtype: float64"
      ]
     },
     "metadata": {},
     "output_type": "display_data"
    },
    {
     "name": "stdout",
     "output_type": "stream",
     "text": [
      "----------------------------------------Electrical---------------------------------------- - "
     ]
    },
    {
     "data": {
      "text/plain": [
       "SBrkr    91.369863\n",
       "FuseA     6.438356\n",
       "FuseF     1.849315\n",
       "FuseP     0.205479\n",
       "Mix       0.068493\n",
       "Name: Electrical, dtype: float64"
      ]
     },
     "metadata": {},
     "output_type": "display_data"
    },
    {
     "name": "stdout",
     "output_type": "stream",
     "text": [
      "----------------------------------------1stFlrSF---------------------------------------- - "
     ]
    },
    {
     "data": {
      "text/plain": [
       "864     1.712329\n",
       "1040    1.095890\n",
       "912     0.958904\n",
       "848     0.821918\n",
       "894     0.821918\n",
       "          ...   \n",
       "1061    0.068493\n",
       "1058    0.068493\n",
       "1051    0.068493\n",
       "1047    0.068493\n",
       "2046    0.068493\n",
       "Name: 1stFlrSF, Length: 753, dtype: float64"
      ]
     },
     "metadata": {},
     "output_type": "display_data"
    },
    {
     "name": "stdout",
     "output_type": "stream",
     "text": [
      "----------------------------------------2ndFlrSF---------------------------------------- - "
     ]
    },
    {
     "data": {
      "text/plain": [
       "0       56.780822\n",
       "728      0.684932\n",
       "504      0.616438\n",
       "672      0.547945\n",
       "546      0.547945\n",
       "          ...    \n",
       "812      0.068493\n",
       "811      0.068493\n",
       "473      0.068493\n",
       "475      0.068493\n",
       "1872     0.068493\n",
       "Name: 2ndFlrSF, Length: 417, dtype: float64"
      ]
     },
     "metadata": {},
     "output_type": "display_data"
    },
    {
     "name": "stdout",
     "output_type": "stream",
     "text": [
      "----------------------------------------LowQualFinSF---------------------------------------- - "
     ]
    },
    {
     "data": {
      "text/plain": [
       "0      98.219178\n",
       "80      0.205479\n",
       "360     0.136986\n",
       "392     0.068493\n",
       "528     0.068493\n",
       "515     0.068493\n",
       "514     0.068493\n",
       "513     0.068493\n",
       "481     0.068493\n",
       "479     0.068493\n",
       "473     0.068493\n",
       "420     0.068493\n",
       "397     0.068493\n",
       "390     0.068493\n",
       "53      0.068493\n",
       "384     0.068493\n",
       "371     0.068493\n",
       "234     0.068493\n",
       "232     0.068493\n",
       "205     0.068493\n",
       "156     0.068493\n",
       "144     0.068493\n",
       "120     0.068493\n",
       "572     0.068493\n",
       "Name: LowQualFinSF, dtype: float64"
      ]
     },
     "metadata": {},
     "output_type": "display_data"
    },
    {
     "name": "stdout",
     "output_type": "stream",
     "text": [
      "----------------------------------------GrLivArea---------------------------------------- - "
     ]
    },
    {
     "data": {
      "text/plain": [
       "864     1.506849\n",
       "1040    0.958904\n",
       "894     0.753425\n",
       "848     0.684932\n",
       "1456    0.684932\n",
       "          ...   \n",
       "2792    0.068493\n",
       "2794    0.068493\n",
       "1349    0.068493\n",
       "1347    0.068493\n",
       "2054    0.068493\n",
       "Name: GrLivArea, Length: 861, dtype: float64"
      ]
     },
     "metadata": {},
     "output_type": "display_data"
    },
    {
     "name": "stdout",
     "output_type": "stream",
     "text": [
      "----------------------------------------BsmtFullBath---------------------------------------- - "
     ]
    },
    {
     "data": {
      "text/plain": [
       "0    58.630137\n",
       "1    40.273973\n",
       "2     1.027397\n",
       "3     0.068493\n",
       "Name: BsmtFullBath, dtype: float64"
      ]
     },
     "metadata": {},
     "output_type": "display_data"
    },
    {
     "name": "stdout",
     "output_type": "stream",
     "text": [
      "----------------------------------------BsmtHalfBath---------------------------------------- - "
     ]
    },
    {
     "data": {
      "text/plain": [
       "0    94.383562\n",
       "1     5.479452\n",
       "2     0.136986\n",
       "Name: BsmtHalfBath, dtype: float64"
      ]
     },
     "metadata": {},
     "output_type": "display_data"
    },
    {
     "name": "stdout",
     "output_type": "stream",
     "text": [
      "----------------------------------------FullBath---------------------------------------- - "
     ]
    },
    {
     "data": {
      "text/plain": [
       "2    52.602740\n",
       "1    44.520548\n",
       "3     2.260274\n",
       "0     0.616438\n",
       "Name: FullBath, dtype: float64"
      ]
     },
     "metadata": {},
     "output_type": "display_data"
    },
    {
     "name": "stdout",
     "output_type": "stream",
     "text": [
      "----------------------------------------HalfBath---------------------------------------- - "
     ]
    },
    {
     "data": {
      "text/plain": [
       "0    62.534247\n",
       "1    36.643836\n",
       "2     0.821918\n",
       "Name: HalfBath, dtype: float64"
      ]
     },
     "metadata": {},
     "output_type": "display_data"
    },
    {
     "name": "stdout",
     "output_type": "stream",
     "text": [
      "----------------------------------------BedroomAbvGr---------------------------------------- - "
     ]
    },
    {
     "data": {
      "text/plain": [
       "3    55.068493\n",
       "2    24.520548\n",
       "4    14.589041\n",
       "1     3.424658\n",
       "5     1.438356\n",
       "6     0.479452\n",
       "0     0.410959\n",
       "8     0.068493\n",
       "Name: BedroomAbvGr, dtype: float64"
      ]
     },
     "metadata": {},
     "output_type": "display_data"
    },
    {
     "name": "stdout",
     "output_type": "stream",
     "text": [
      "----------------------------------------KitchenAbvGr---------------------------------------- - "
     ]
    },
    {
     "data": {
      "text/plain": [
       "1    95.342466\n",
       "2     4.452055\n",
       "3     0.136986\n",
       "0     0.068493\n",
       "Name: KitchenAbvGr, dtype: float64"
      ]
     },
     "metadata": {},
     "output_type": "display_data"
    },
    {
     "name": "stdout",
     "output_type": "stream",
     "text": [
      "----------------------------------------KitchenQual---------------------------------------- - "
     ]
    },
    {
     "data": {
      "text/plain": [
       "TA    50.342466\n",
       "Gd    40.136986\n",
       "Ex     6.849315\n",
       "Fa     2.671233\n",
       "Name: KitchenQual, dtype: float64"
      ]
     },
     "metadata": {},
     "output_type": "display_data"
    },
    {
     "name": "stdout",
     "output_type": "stream",
     "text": [
      "----------------------------------------TotRmsAbvGrd---------------------------------------- - "
     ]
    },
    {
     "data": {
      "text/plain": [
       "6     27.534247\n",
       "7     22.534247\n",
       "5     18.835616\n",
       "8     12.808219\n",
       "4      6.643836\n",
       "9      5.136986\n",
       "10     3.219178\n",
       "11     1.232877\n",
       "3      1.164384\n",
       "12     0.753425\n",
       "2      0.068493\n",
       "14     0.068493\n",
       "Name: TotRmsAbvGrd, dtype: float64"
      ]
     },
     "metadata": {},
     "output_type": "display_data"
    },
    {
     "name": "stdout",
     "output_type": "stream",
     "text": [
      "----------------------------------------Functional---------------------------------------- - "
     ]
    },
    {
     "data": {
      "text/plain": [
       "Typ     93.150685\n",
       "Min2     2.328767\n",
       "Min1     2.123288\n",
       "Mod      1.027397\n",
       "Maj1     0.958904\n",
       "Maj2     0.342466\n",
       "Sev      0.068493\n",
       "Name: Functional, dtype: float64"
      ]
     },
     "metadata": {},
     "output_type": "display_data"
    },
    {
     "name": "stdout",
     "output_type": "stream",
     "text": [
      "----------------------------------------Fireplaces---------------------------------------- - "
     ]
    },
    {
     "data": {
      "text/plain": [
       "0    47.260274\n",
       "1    44.520548\n",
       "2     7.876712\n",
       "3     0.342466\n",
       "Name: Fireplaces, dtype: float64"
      ]
     },
     "metadata": {},
     "output_type": "display_data"
    },
    {
     "name": "stdout",
     "output_type": "stream",
     "text": [
      "----------------------------------------FireplaceQu---------------------------------------- - "
     ]
    },
    {
     "data": {
      "text/plain": [
       "Gd    26.027397\n",
       "TA    21.438356\n",
       "Fa     2.260274\n",
       "Ex     1.643836\n",
       "Po     1.369863\n",
       "Name: FireplaceQu, dtype: float64"
      ]
     },
     "metadata": {},
     "output_type": "display_data"
    },
    {
     "name": "stdout",
     "output_type": "stream",
     "text": [
      "----------------------------------------GarageType---------------------------------------- - "
     ]
    },
    {
     "data": {
      "text/plain": [
       "Attchd     59.589041\n",
       "Detchd     26.506849\n",
       "BuiltIn     6.027397\n",
       "Basment     1.301370\n",
       "CarPort     0.616438\n",
       "2Types      0.410959\n",
       "Name: GarageType, dtype: float64"
      ]
     },
     "metadata": {},
     "output_type": "display_data"
    },
    {
     "name": "stdout",
     "output_type": "stream",
     "text": [
      "----------------------------------------GarageYrBlt---------------------------------------- - "
     ]
    },
    {
     "data": {
      "text/plain": [
       "2005.0    4.452055\n",
       "2006.0    4.041096\n",
       "2004.0    3.630137\n",
       "2003.0    3.424658\n",
       "2007.0    3.356164\n",
       "            ...   \n",
       "1906.0    0.068493\n",
       "1908.0    0.068493\n",
       "1933.0    0.068493\n",
       "1900.0    0.068493\n",
       "1927.0    0.068493\n",
       "Name: GarageYrBlt, Length: 97, dtype: float64"
      ]
     },
     "metadata": {},
     "output_type": "display_data"
    },
    {
     "name": "stdout",
     "output_type": "stream",
     "text": [
      "----------------------------------------GarageFinish---------------------------------------- - "
     ]
    },
    {
     "data": {
      "text/plain": [
       "Unf    41.438356\n",
       "RFn    28.904110\n",
       "Fin    24.109589\n",
       "Name: GarageFinish, dtype: float64"
      ]
     },
     "metadata": {},
     "output_type": "display_data"
    },
    {
     "name": "stdout",
     "output_type": "stream",
     "text": [
      "----------------------------------------GarageCars---------------------------------------- - "
     ]
    },
    {
     "data": {
      "text/plain": [
       "2    56.438356\n",
       "1    25.273973\n",
       "3    12.397260\n",
       "0     5.547945\n",
       "4     0.342466\n",
       "Name: GarageCars, dtype: float64"
      ]
     },
     "metadata": {},
     "output_type": "display_data"
    },
    {
     "name": "stdout",
     "output_type": "stream",
     "text": [
      "----------------------------------------GarageArea---------------------------------------- - "
     ]
    },
    {
     "data": {
      "text/plain": [
       "0       5.547945\n",
       "440     3.356164\n",
       "576     3.219178\n",
       "240     2.602740\n",
       "484     2.328767\n",
       "          ...   \n",
       "671     0.068493\n",
       "342     0.068493\n",
       "673     0.068493\n",
       "675     0.068493\n",
       "1418    0.068493\n",
       "Name: GarageArea, Length: 441, dtype: float64"
      ]
     },
     "metadata": {},
     "output_type": "display_data"
    },
    {
     "name": "stdout",
     "output_type": "stream",
     "text": [
      "----------------------------------------GarageQual---------------------------------------- - "
     ]
    },
    {
     "data": {
      "text/plain": [
       "TA    89.794521\n",
       "Fa     3.287671\n",
       "Gd     0.958904\n",
       "Po     0.205479\n",
       "Ex     0.205479\n",
       "Name: GarageQual, dtype: float64"
      ]
     },
     "metadata": {},
     "output_type": "display_data"
    },
    {
     "name": "stdout",
     "output_type": "stream",
     "text": [
      "----------------------------------------GarageCond---------------------------------------- - "
     ]
    },
    {
     "data": {
      "text/plain": [
       "TA    90.821918\n",
       "Fa     2.397260\n",
       "Gd     0.616438\n",
       "Po     0.479452\n",
       "Ex     0.136986\n",
       "Name: GarageCond, dtype: float64"
      ]
     },
     "metadata": {},
     "output_type": "display_data"
    },
    {
     "name": "stdout",
     "output_type": "stream",
     "text": [
      "----------------------------------------PavedDrive---------------------------------------- - "
     ]
    },
    {
     "data": {
      "text/plain": [
       "Y    91.780822\n",
       "N     6.164384\n",
       "P     2.054795\n",
       "Name: PavedDrive, dtype: float64"
      ]
     },
     "metadata": {},
     "output_type": "display_data"
    },
    {
     "name": "stdout",
     "output_type": "stream",
     "text": [
      "----------------------------------------WoodDeckSF---------------------------------------- - "
     ]
    },
    {
     "data": {
      "text/plain": [
       "0      52.123288\n",
       "192     2.602740\n",
       "100     2.465753\n",
       "144     2.260274\n",
       "120     2.123288\n",
       "         ...    \n",
       "103     0.068493\n",
       "269     0.068493\n",
       "98      0.068493\n",
       "97      0.068493\n",
       "857     0.068493\n",
       "Name: WoodDeckSF, Length: 274, dtype: float64"
      ]
     },
     "metadata": {},
     "output_type": "display_data"
    },
    {
     "name": "stdout",
     "output_type": "stream",
     "text": [
      "----------------------------------------OpenPorchSF---------------------------------------- - "
     ]
    },
    {
     "data": {
      "text/plain": [
       "0      44.931507\n",
       "36      1.986301\n",
       "48      1.506849\n",
       "20      1.438356\n",
       "45      1.301370\n",
       "         ...    \n",
       "141     0.068493\n",
       "137     0.068493\n",
       "135     0.068493\n",
       "134     0.068493\n",
       "547     0.068493\n",
       "Name: OpenPorchSF, Length: 202, dtype: float64"
      ]
     },
     "metadata": {},
     "output_type": "display_data"
    },
    {
     "name": "stdout",
     "output_type": "stream",
     "text": [
      "----------------------------------------EnclosedPorch---------------------------------------- - "
     ]
    },
    {
     "data": {
      "text/plain": [
       "0      85.753425\n",
       "112     1.027397\n",
       "96      0.410959\n",
       "120     0.342466\n",
       "192     0.342466\n",
       "         ...    \n",
       "170     0.068493\n",
       "169     0.068493\n",
       "67      0.068493\n",
       "68      0.068493\n",
       "552     0.068493\n",
       "Name: EnclosedPorch, Length: 120, dtype: float64"
      ]
     },
     "metadata": {},
     "output_type": "display_data"
    },
    {
     "name": "stdout",
     "output_type": "stream",
     "text": [
      "----------------------------------------3SsnPorch---------------------------------------- - "
     ]
    },
    {
     "data": {
      "text/plain": [
       "0      98.356164\n",
       "168     0.205479\n",
       "216     0.136986\n",
       "144     0.136986\n",
       "180     0.136986\n",
       "407     0.068493\n",
       "320     0.068493\n",
       "304     0.068493\n",
       "290     0.068493\n",
       "245     0.068493\n",
       "238     0.068493\n",
       "182     0.068493\n",
       "196     0.068493\n",
       "23      0.068493\n",
       "162     0.068493\n",
       "153     0.068493\n",
       "140     0.068493\n",
       "130     0.068493\n",
       "96      0.068493\n",
       "508     0.068493\n",
       "Name: 3SsnPorch, dtype: float64"
      ]
     },
     "metadata": {},
     "output_type": "display_data"
    },
    {
     "name": "stdout",
     "output_type": "stream",
     "text": [
      "----------------------------------------ScreenPorch---------------------------------------- - "
     ]
    },
    {
     "data": {
      "text/plain": [
       "0      92.054795\n",
       "192     0.410959\n",
       "120     0.342466\n",
       "224     0.342466\n",
       "180     0.273973\n",
       "189     0.273973\n",
       "90      0.205479\n",
       "144     0.205479\n",
       "168     0.205479\n",
       "160     0.205479\n",
       "126     0.205479\n",
       "147     0.205479\n",
       "216     0.136986\n",
       "184     0.136986\n",
       "176     0.136986\n",
       "170     0.136986\n",
       "259     0.136986\n",
       "200     0.136986\n",
       "198     0.136986\n",
       "100     0.136986\n",
       "288     0.136986\n",
       "142     0.136986\n",
       "271     0.068493\n",
       "204     0.068493\n",
       "440     0.068493\n",
       "210     0.068493\n",
       "410     0.068493\n",
       "396     0.068493\n",
       "385     0.068493\n",
       "220     0.068493\n",
       "374     0.068493\n",
       "222     0.068493\n",
       "322     0.068493\n",
       "291     0.068493\n",
       "312     0.068493\n",
       "225     0.068493\n",
       "233     0.068493\n",
       "234     0.068493\n",
       "252     0.068493\n",
       "287     0.068493\n",
       "260     0.068493\n",
       "263     0.068493\n",
       "276     0.068493\n",
       "273     0.068493\n",
       "266     0.068493\n",
       "265     0.068493\n",
       "182     0.068493\n",
       "197     0.068493\n",
       "143     0.068493\n",
       "53      0.068493\n",
       "60      0.068493\n",
       "63      0.068493\n",
       "80      0.068493\n",
       "95      0.068493\n",
       "99      0.068493\n",
       "116     0.068493\n",
       "119     0.068493\n",
       "122     0.068493\n",
       "128     0.068493\n",
       "130     0.068493\n",
       "140     0.068493\n",
       "145     0.068493\n",
       "190     0.068493\n",
       "152     0.068493\n",
       "153     0.068493\n",
       "154     0.068493\n",
       "155     0.068493\n",
       "156     0.068493\n",
       "161     0.068493\n",
       "163     0.068493\n",
       "165     0.068493\n",
       "175     0.068493\n",
       "178     0.068493\n",
       "40      0.068493\n",
       "185     0.068493\n",
       "480     0.068493\n",
       "Name: ScreenPorch, dtype: float64"
      ]
     },
     "metadata": {},
     "output_type": "display_data"
    },
    {
     "name": "stdout",
     "output_type": "stream",
     "text": [
      "----------------------------------------PoolArea---------------------------------------- - "
     ]
    },
    {
     "data": {
      "text/plain": [
       "0      99.520548\n",
       "480     0.068493\n",
       "512     0.068493\n",
       "519     0.068493\n",
       "555     0.068493\n",
       "576     0.068493\n",
       "648     0.068493\n",
       "738     0.068493\n",
       "Name: PoolArea, dtype: float64"
      ]
     },
     "metadata": {},
     "output_type": "display_data"
    },
    {
     "name": "stdout",
     "output_type": "stream",
     "text": [
      "----------------------------------------PoolQC---------------------------------------- - "
     ]
    },
    {
     "data": {
      "text/plain": [
       "Gd    0.205479\n",
       "Ex    0.136986\n",
       "Fa    0.136986\n",
       "Name: PoolQC, dtype: float64"
      ]
     },
     "metadata": {},
     "output_type": "display_data"
    },
    {
     "name": "stdout",
     "output_type": "stream",
     "text": [
      "----------------------------------------Fence---------------------------------------- - "
     ]
    },
    {
     "data": {
      "text/plain": [
       "MnPrv    10.753425\n",
       "GdPrv     4.041096\n",
       "GdWo      3.698630\n",
       "MnWw      0.753425\n",
       "Name: Fence, dtype: float64"
      ]
     },
     "metadata": {},
     "output_type": "display_data"
    },
    {
     "name": "stdout",
     "output_type": "stream",
     "text": [
      "----------------------------------------MiscFeature---------------------------------------- - "
     ]
    },
    {
     "data": {
      "text/plain": [
       "Shed    3.356164\n",
       "Gar2    0.136986\n",
       "Othr    0.136986\n",
       "TenC    0.068493\n",
       "Name: MiscFeature, dtype: float64"
      ]
     },
     "metadata": {},
     "output_type": "display_data"
    },
    {
     "name": "stdout",
     "output_type": "stream",
     "text": [
      "----------------------------------------MiscVal---------------------------------------- - "
     ]
    },
    {
     "data": {
      "text/plain": [
       "0        96.438356\n",
       "400       0.753425\n",
       "500       0.547945\n",
       "700       0.342466\n",
       "450       0.273973\n",
       "600       0.273973\n",
       "2000      0.273973\n",
       "480       0.136986\n",
       "1200      0.136986\n",
       "2500      0.068493\n",
       "350       0.068493\n",
       "560       0.068493\n",
       "54        0.068493\n",
       "620       0.068493\n",
       "8300      0.068493\n",
       "800       0.068493\n",
       "1150      0.068493\n",
       "15500     0.068493\n",
       "1300      0.068493\n",
       "1400      0.068493\n",
       "3500      0.068493\n",
       "Name: MiscVal, dtype: float64"
      ]
     },
     "metadata": {},
     "output_type": "display_data"
    },
    {
     "name": "stdout",
     "output_type": "stream",
     "text": [
      "----------------------------------------MoSold---------------------------------------- - "
     ]
    },
    {
     "data": {
      "text/plain": [
       "6     17.328767\n",
       "7     16.027397\n",
       "5     13.972603\n",
       "4      9.657534\n",
       "8      8.356164\n",
       "3      7.260274\n",
       "10     6.095890\n",
       "11     5.410959\n",
       "9      4.315068\n",
       "12     4.041096\n",
       "1      3.972603\n",
       "2      3.561644\n",
       "Name: MoSold, dtype: float64"
      ]
     },
     "metadata": {},
     "output_type": "display_data"
    },
    {
     "name": "stdout",
     "output_type": "stream",
     "text": [
      "----------------------------------------YrSold---------------------------------------- - "
     ]
    },
    {
     "data": {
      "text/plain": [
       "2009    23.150685\n",
       "2007    22.534247\n",
       "2006    21.506849\n",
       "2008    20.821918\n",
       "2010    11.986301\n",
       "Name: YrSold, dtype: float64"
      ]
     },
     "metadata": {},
     "output_type": "display_data"
    },
    {
     "name": "stdout",
     "output_type": "stream",
     "text": [
      "----------------------------------------SaleType---------------------------------------- - "
     ]
    },
    {
     "data": {
      "text/plain": [
       "WD       86.780822\n",
       "New       8.356164\n",
       "COD       2.945205\n",
       "ConLD     0.616438\n",
       "ConLw     0.342466\n",
       "ConLI     0.342466\n",
       "CWD       0.273973\n",
       "Oth       0.205479\n",
       "Con       0.136986\n",
       "Name: SaleType, dtype: float64"
      ]
     },
     "metadata": {},
     "output_type": "display_data"
    },
    {
     "name": "stdout",
     "output_type": "stream",
     "text": [
      "----------------------------------------SaleCondition---------------------------------------- - "
     ]
    },
    {
     "data": {
      "text/plain": [
       "Normal     82.054795\n",
       "Partial     8.561644\n",
       "Abnorml     6.917808\n",
       "Family      1.369863\n",
       "Alloca      0.821918\n",
       "AdjLand     0.273973\n",
       "Name: SaleCondition, dtype: float64"
      ]
     },
     "metadata": {},
     "output_type": "display_data"
    },
    {
     "name": "stdout",
     "output_type": "stream",
     "text": [
      "----------------------------------------SalePrice---------------------------------------- - "
     ]
    },
    {
     "data": {
      "text/plain": [
       "140000    1.369863\n",
       "135000    1.164384\n",
       "155000    0.958904\n",
       "145000    0.958904\n",
       "190000    0.890411\n",
       "            ...   \n",
       "337000    0.068493\n",
       "412500    0.068493\n",
       "306000    0.068493\n",
       "195400    0.068493\n",
       "206000    0.068493\n",
       "Name: SalePrice, Length: 663, dtype: float64"
      ]
     },
     "metadata": {},
     "output_type": "display_data"
    }
   ],
   "source": [
    "for col in df.columns:\n",
    "    print('-' * 40 + col + '-' * 40 , end=' - ')\n",
    "    display(df[col].value_counts()/1460*100)"
   ]
  },
  {
   "cell_type": "markdown",
   "id": "1f0121d4",
   "metadata": {},
   "source": [
    "## Describe du DF et heatmap des variables numériques"
   ]
  },
  {
   "cell_type": "code",
   "execution_count": 5,
   "id": "405d2177",
   "metadata": {
    "ExecuteTime": {
     "end_time": "2021-06-14T21:54:18.648897Z",
     "start_time": "2021-06-14T21:54:18.619380Z"
    }
   },
   "outputs": [],
   "source": [
    "df = df.drop(columns=['Id'])"
   ]
  },
  {
   "cell_type": "code",
   "execution_count": 6,
   "id": "1ff7cf42",
   "metadata": {
    "ExecuteTime": {
     "end_time": "2021-06-14T21:54:18.749904Z",
     "start_time": "2021-06-14T21:54:18.648897Z"
    }
   },
   "outputs": [
    {
     "data": {
      "text/html": [
       "<div>\n",
       "<style scoped>\n",
       "    .dataframe tbody tr th:only-of-type {\n",
       "        vertical-align: middle;\n",
       "    }\n",
       "\n",
       "    .dataframe tbody tr th {\n",
       "        vertical-align: top;\n",
       "    }\n",
       "\n",
       "    .dataframe thead th {\n",
       "        text-align: right;\n",
       "    }\n",
       "</style>\n",
       "<table border=\"1\" class=\"dataframe\">\n",
       "  <thead>\n",
       "    <tr style=\"text-align: right;\">\n",
       "      <th></th>\n",
       "      <th>count</th>\n",
       "      <th>mean</th>\n",
       "      <th>std</th>\n",
       "      <th>min</th>\n",
       "      <th>25%</th>\n",
       "      <th>50%</th>\n",
       "      <th>75%</th>\n",
       "      <th>max</th>\n",
       "    </tr>\n",
       "  </thead>\n",
       "  <tbody>\n",
       "    <tr>\n",
       "      <th>MSSubClass</th>\n",
       "      <td>1460.0</td>\n",
       "      <td>56.897260</td>\n",
       "      <td>42.300571</td>\n",
       "      <td>20.0</td>\n",
       "      <td>20.00</td>\n",
       "      <td>50.0</td>\n",
       "      <td>70.00</td>\n",
       "      <td>190.0</td>\n",
       "    </tr>\n",
       "    <tr>\n",
       "      <th>LotFrontage</th>\n",
       "      <td>1201.0</td>\n",
       "      <td>70.049958</td>\n",
       "      <td>24.284752</td>\n",
       "      <td>21.0</td>\n",
       "      <td>59.00</td>\n",
       "      <td>69.0</td>\n",
       "      <td>80.00</td>\n",
       "      <td>313.0</td>\n",
       "    </tr>\n",
       "    <tr>\n",
       "      <th>LotArea</th>\n",
       "      <td>1460.0</td>\n",
       "      <td>10516.828082</td>\n",
       "      <td>9981.264932</td>\n",
       "      <td>1300.0</td>\n",
       "      <td>7553.50</td>\n",
       "      <td>9478.5</td>\n",
       "      <td>11601.50</td>\n",
       "      <td>215245.0</td>\n",
       "    </tr>\n",
       "    <tr>\n",
       "      <th>OverallQual</th>\n",
       "      <td>1460.0</td>\n",
       "      <td>6.099315</td>\n",
       "      <td>1.382997</td>\n",
       "      <td>1.0</td>\n",
       "      <td>5.00</td>\n",
       "      <td>6.0</td>\n",
       "      <td>7.00</td>\n",
       "      <td>10.0</td>\n",
       "    </tr>\n",
       "    <tr>\n",
       "      <th>OverallCond</th>\n",
       "      <td>1460.0</td>\n",
       "      <td>5.575342</td>\n",
       "      <td>1.112799</td>\n",
       "      <td>1.0</td>\n",
       "      <td>5.00</td>\n",
       "      <td>5.0</td>\n",
       "      <td>6.00</td>\n",
       "      <td>9.0</td>\n",
       "    </tr>\n",
       "    <tr>\n",
       "      <th>YearBuilt</th>\n",
       "      <td>1460.0</td>\n",
       "      <td>1971.267808</td>\n",
       "      <td>30.202904</td>\n",
       "      <td>1872.0</td>\n",
       "      <td>1954.00</td>\n",
       "      <td>1973.0</td>\n",
       "      <td>2000.00</td>\n",
       "      <td>2010.0</td>\n",
       "    </tr>\n",
       "    <tr>\n",
       "      <th>YearRemodAdd</th>\n",
       "      <td>1460.0</td>\n",
       "      <td>1984.865753</td>\n",
       "      <td>20.645407</td>\n",
       "      <td>1950.0</td>\n",
       "      <td>1967.00</td>\n",
       "      <td>1994.0</td>\n",
       "      <td>2004.00</td>\n",
       "      <td>2010.0</td>\n",
       "    </tr>\n",
       "    <tr>\n",
       "      <th>MasVnrArea</th>\n",
       "      <td>1452.0</td>\n",
       "      <td>103.685262</td>\n",
       "      <td>181.066207</td>\n",
       "      <td>0.0</td>\n",
       "      <td>0.00</td>\n",
       "      <td>0.0</td>\n",
       "      <td>166.00</td>\n",
       "      <td>1600.0</td>\n",
       "    </tr>\n",
       "    <tr>\n",
       "      <th>BsmtFinSF1</th>\n",
       "      <td>1460.0</td>\n",
       "      <td>443.639726</td>\n",
       "      <td>456.098091</td>\n",
       "      <td>0.0</td>\n",
       "      <td>0.00</td>\n",
       "      <td>383.5</td>\n",
       "      <td>712.25</td>\n",
       "      <td>5644.0</td>\n",
       "    </tr>\n",
       "    <tr>\n",
       "      <th>BsmtFinSF2</th>\n",
       "      <td>1460.0</td>\n",
       "      <td>46.549315</td>\n",
       "      <td>161.319273</td>\n",
       "      <td>0.0</td>\n",
       "      <td>0.00</td>\n",
       "      <td>0.0</td>\n",
       "      <td>0.00</td>\n",
       "      <td>1474.0</td>\n",
       "    </tr>\n",
       "    <tr>\n",
       "      <th>BsmtUnfSF</th>\n",
       "      <td>1460.0</td>\n",
       "      <td>567.240411</td>\n",
       "      <td>441.866955</td>\n",
       "      <td>0.0</td>\n",
       "      <td>223.00</td>\n",
       "      <td>477.5</td>\n",
       "      <td>808.00</td>\n",
       "      <td>2336.0</td>\n",
       "    </tr>\n",
       "    <tr>\n",
       "      <th>TotalBsmtSF</th>\n",
       "      <td>1460.0</td>\n",
       "      <td>1057.429452</td>\n",
       "      <td>438.705324</td>\n",
       "      <td>0.0</td>\n",
       "      <td>795.75</td>\n",
       "      <td>991.5</td>\n",
       "      <td>1298.25</td>\n",
       "      <td>6110.0</td>\n",
       "    </tr>\n",
       "    <tr>\n",
       "      <th>1stFlrSF</th>\n",
       "      <td>1460.0</td>\n",
       "      <td>1162.626712</td>\n",
       "      <td>386.587738</td>\n",
       "      <td>334.0</td>\n",
       "      <td>882.00</td>\n",
       "      <td>1087.0</td>\n",
       "      <td>1391.25</td>\n",
       "      <td>4692.0</td>\n",
       "    </tr>\n",
       "    <tr>\n",
       "      <th>2ndFlrSF</th>\n",
       "      <td>1460.0</td>\n",
       "      <td>346.992466</td>\n",
       "      <td>436.528436</td>\n",
       "      <td>0.0</td>\n",
       "      <td>0.00</td>\n",
       "      <td>0.0</td>\n",
       "      <td>728.00</td>\n",
       "      <td>2065.0</td>\n",
       "    </tr>\n",
       "    <tr>\n",
       "      <th>LowQualFinSF</th>\n",
       "      <td>1460.0</td>\n",
       "      <td>5.844521</td>\n",
       "      <td>48.623081</td>\n",
       "      <td>0.0</td>\n",
       "      <td>0.00</td>\n",
       "      <td>0.0</td>\n",
       "      <td>0.00</td>\n",
       "      <td>572.0</td>\n",
       "    </tr>\n",
       "    <tr>\n",
       "      <th>GrLivArea</th>\n",
       "      <td>1460.0</td>\n",
       "      <td>1515.463699</td>\n",
       "      <td>525.480383</td>\n",
       "      <td>334.0</td>\n",
       "      <td>1129.50</td>\n",
       "      <td>1464.0</td>\n",
       "      <td>1776.75</td>\n",
       "      <td>5642.0</td>\n",
       "    </tr>\n",
       "    <tr>\n",
       "      <th>BsmtFullBath</th>\n",
       "      <td>1460.0</td>\n",
       "      <td>0.425342</td>\n",
       "      <td>0.518911</td>\n",
       "      <td>0.0</td>\n",
       "      <td>0.00</td>\n",
       "      <td>0.0</td>\n",
       "      <td>1.00</td>\n",
       "      <td>3.0</td>\n",
       "    </tr>\n",
       "    <tr>\n",
       "      <th>BsmtHalfBath</th>\n",
       "      <td>1460.0</td>\n",
       "      <td>0.057534</td>\n",
       "      <td>0.238753</td>\n",
       "      <td>0.0</td>\n",
       "      <td>0.00</td>\n",
       "      <td>0.0</td>\n",
       "      <td>0.00</td>\n",
       "      <td>2.0</td>\n",
       "    </tr>\n",
       "    <tr>\n",
       "      <th>FullBath</th>\n",
       "      <td>1460.0</td>\n",
       "      <td>1.565068</td>\n",
       "      <td>0.550916</td>\n",
       "      <td>0.0</td>\n",
       "      <td>1.00</td>\n",
       "      <td>2.0</td>\n",
       "      <td>2.00</td>\n",
       "      <td>3.0</td>\n",
       "    </tr>\n",
       "    <tr>\n",
       "      <th>HalfBath</th>\n",
       "      <td>1460.0</td>\n",
       "      <td>0.382877</td>\n",
       "      <td>0.502885</td>\n",
       "      <td>0.0</td>\n",
       "      <td>0.00</td>\n",
       "      <td>0.0</td>\n",
       "      <td>1.00</td>\n",
       "      <td>2.0</td>\n",
       "    </tr>\n",
       "    <tr>\n",
       "      <th>BedroomAbvGr</th>\n",
       "      <td>1460.0</td>\n",
       "      <td>2.866438</td>\n",
       "      <td>0.815778</td>\n",
       "      <td>0.0</td>\n",
       "      <td>2.00</td>\n",
       "      <td>3.0</td>\n",
       "      <td>3.00</td>\n",
       "      <td>8.0</td>\n",
       "    </tr>\n",
       "    <tr>\n",
       "      <th>KitchenAbvGr</th>\n",
       "      <td>1460.0</td>\n",
       "      <td>1.046575</td>\n",
       "      <td>0.220338</td>\n",
       "      <td>0.0</td>\n",
       "      <td>1.00</td>\n",
       "      <td>1.0</td>\n",
       "      <td>1.00</td>\n",
       "      <td>3.0</td>\n",
       "    </tr>\n",
       "    <tr>\n",
       "      <th>TotRmsAbvGrd</th>\n",
       "      <td>1460.0</td>\n",
       "      <td>6.517808</td>\n",
       "      <td>1.625393</td>\n",
       "      <td>2.0</td>\n",
       "      <td>5.00</td>\n",
       "      <td>6.0</td>\n",
       "      <td>7.00</td>\n",
       "      <td>14.0</td>\n",
       "    </tr>\n",
       "    <tr>\n",
       "      <th>Fireplaces</th>\n",
       "      <td>1460.0</td>\n",
       "      <td>0.613014</td>\n",
       "      <td>0.644666</td>\n",
       "      <td>0.0</td>\n",
       "      <td>0.00</td>\n",
       "      <td>1.0</td>\n",
       "      <td>1.00</td>\n",
       "      <td>3.0</td>\n",
       "    </tr>\n",
       "    <tr>\n",
       "      <th>GarageYrBlt</th>\n",
       "      <td>1379.0</td>\n",
       "      <td>1978.506164</td>\n",
       "      <td>24.689725</td>\n",
       "      <td>1900.0</td>\n",
       "      <td>1961.00</td>\n",
       "      <td>1980.0</td>\n",
       "      <td>2002.00</td>\n",
       "      <td>2010.0</td>\n",
       "    </tr>\n",
       "    <tr>\n",
       "      <th>GarageCars</th>\n",
       "      <td>1460.0</td>\n",
       "      <td>1.767123</td>\n",
       "      <td>0.747315</td>\n",
       "      <td>0.0</td>\n",
       "      <td>1.00</td>\n",
       "      <td>2.0</td>\n",
       "      <td>2.00</td>\n",
       "      <td>4.0</td>\n",
       "    </tr>\n",
       "    <tr>\n",
       "      <th>GarageArea</th>\n",
       "      <td>1460.0</td>\n",
       "      <td>472.980137</td>\n",
       "      <td>213.804841</td>\n",
       "      <td>0.0</td>\n",
       "      <td>334.50</td>\n",
       "      <td>480.0</td>\n",
       "      <td>576.00</td>\n",
       "      <td>1418.0</td>\n",
       "    </tr>\n",
       "    <tr>\n",
       "      <th>WoodDeckSF</th>\n",
       "      <td>1460.0</td>\n",
       "      <td>94.244521</td>\n",
       "      <td>125.338794</td>\n",
       "      <td>0.0</td>\n",
       "      <td>0.00</td>\n",
       "      <td>0.0</td>\n",
       "      <td>168.00</td>\n",
       "      <td>857.0</td>\n",
       "    </tr>\n",
       "    <tr>\n",
       "      <th>OpenPorchSF</th>\n",
       "      <td>1460.0</td>\n",
       "      <td>46.660274</td>\n",
       "      <td>66.256028</td>\n",
       "      <td>0.0</td>\n",
       "      <td>0.00</td>\n",
       "      <td>25.0</td>\n",
       "      <td>68.00</td>\n",
       "      <td>547.0</td>\n",
       "    </tr>\n",
       "    <tr>\n",
       "      <th>EnclosedPorch</th>\n",
       "      <td>1460.0</td>\n",
       "      <td>21.954110</td>\n",
       "      <td>61.119149</td>\n",
       "      <td>0.0</td>\n",
       "      <td>0.00</td>\n",
       "      <td>0.0</td>\n",
       "      <td>0.00</td>\n",
       "      <td>552.0</td>\n",
       "    </tr>\n",
       "    <tr>\n",
       "      <th>3SsnPorch</th>\n",
       "      <td>1460.0</td>\n",
       "      <td>3.409589</td>\n",
       "      <td>29.317331</td>\n",
       "      <td>0.0</td>\n",
       "      <td>0.00</td>\n",
       "      <td>0.0</td>\n",
       "      <td>0.00</td>\n",
       "      <td>508.0</td>\n",
       "    </tr>\n",
       "    <tr>\n",
       "      <th>ScreenPorch</th>\n",
       "      <td>1460.0</td>\n",
       "      <td>15.060959</td>\n",
       "      <td>55.757415</td>\n",
       "      <td>0.0</td>\n",
       "      <td>0.00</td>\n",
       "      <td>0.0</td>\n",
       "      <td>0.00</td>\n",
       "      <td>480.0</td>\n",
       "    </tr>\n",
       "    <tr>\n",
       "      <th>PoolArea</th>\n",
       "      <td>1460.0</td>\n",
       "      <td>2.758904</td>\n",
       "      <td>40.177307</td>\n",
       "      <td>0.0</td>\n",
       "      <td>0.00</td>\n",
       "      <td>0.0</td>\n",
       "      <td>0.00</td>\n",
       "      <td>738.0</td>\n",
       "    </tr>\n",
       "    <tr>\n",
       "      <th>MiscVal</th>\n",
       "      <td>1460.0</td>\n",
       "      <td>43.489041</td>\n",
       "      <td>496.123024</td>\n",
       "      <td>0.0</td>\n",
       "      <td>0.00</td>\n",
       "      <td>0.0</td>\n",
       "      <td>0.00</td>\n",
       "      <td>15500.0</td>\n",
       "    </tr>\n",
       "    <tr>\n",
       "      <th>MoSold</th>\n",
       "      <td>1460.0</td>\n",
       "      <td>6.321918</td>\n",
       "      <td>2.703626</td>\n",
       "      <td>1.0</td>\n",
       "      <td>5.00</td>\n",
       "      <td>6.0</td>\n",
       "      <td>8.00</td>\n",
       "      <td>12.0</td>\n",
       "    </tr>\n",
       "    <tr>\n",
       "      <th>YrSold</th>\n",
       "      <td>1460.0</td>\n",
       "      <td>2007.815753</td>\n",
       "      <td>1.328095</td>\n",
       "      <td>2006.0</td>\n",
       "      <td>2007.00</td>\n",
       "      <td>2008.0</td>\n",
       "      <td>2009.00</td>\n",
       "      <td>2010.0</td>\n",
       "    </tr>\n",
       "    <tr>\n",
       "      <th>SalePrice</th>\n",
       "      <td>1460.0</td>\n",
       "      <td>180921.195890</td>\n",
       "      <td>79442.502883</td>\n",
       "      <td>34900.0</td>\n",
       "      <td>129975.00</td>\n",
       "      <td>163000.0</td>\n",
       "      <td>214000.00</td>\n",
       "      <td>755000.0</td>\n",
       "    </tr>\n",
       "  </tbody>\n",
       "</table>\n",
       "</div>"
      ],
      "text/plain": [
       "                count           mean           std      min        25%  \\\n",
       "MSSubClass     1460.0      56.897260     42.300571     20.0      20.00   \n",
       "LotFrontage    1201.0      70.049958     24.284752     21.0      59.00   \n",
       "LotArea        1460.0   10516.828082   9981.264932   1300.0    7553.50   \n",
       "OverallQual    1460.0       6.099315      1.382997      1.0       5.00   \n",
       "OverallCond    1460.0       5.575342      1.112799      1.0       5.00   \n",
       "YearBuilt      1460.0    1971.267808     30.202904   1872.0    1954.00   \n",
       "YearRemodAdd   1460.0    1984.865753     20.645407   1950.0    1967.00   \n",
       "MasVnrArea     1452.0     103.685262    181.066207      0.0       0.00   \n",
       "BsmtFinSF1     1460.0     443.639726    456.098091      0.0       0.00   \n",
       "BsmtFinSF2     1460.0      46.549315    161.319273      0.0       0.00   \n",
       "BsmtUnfSF      1460.0     567.240411    441.866955      0.0     223.00   \n",
       "TotalBsmtSF    1460.0    1057.429452    438.705324      0.0     795.75   \n",
       "1stFlrSF       1460.0    1162.626712    386.587738    334.0     882.00   \n",
       "2ndFlrSF       1460.0     346.992466    436.528436      0.0       0.00   \n",
       "LowQualFinSF   1460.0       5.844521     48.623081      0.0       0.00   \n",
       "GrLivArea      1460.0    1515.463699    525.480383    334.0    1129.50   \n",
       "BsmtFullBath   1460.0       0.425342      0.518911      0.0       0.00   \n",
       "BsmtHalfBath   1460.0       0.057534      0.238753      0.0       0.00   \n",
       "FullBath       1460.0       1.565068      0.550916      0.0       1.00   \n",
       "HalfBath       1460.0       0.382877      0.502885      0.0       0.00   \n",
       "BedroomAbvGr   1460.0       2.866438      0.815778      0.0       2.00   \n",
       "KitchenAbvGr   1460.0       1.046575      0.220338      0.0       1.00   \n",
       "TotRmsAbvGrd   1460.0       6.517808      1.625393      2.0       5.00   \n",
       "Fireplaces     1460.0       0.613014      0.644666      0.0       0.00   \n",
       "GarageYrBlt    1379.0    1978.506164     24.689725   1900.0    1961.00   \n",
       "GarageCars     1460.0       1.767123      0.747315      0.0       1.00   \n",
       "GarageArea     1460.0     472.980137    213.804841      0.0     334.50   \n",
       "WoodDeckSF     1460.0      94.244521    125.338794      0.0       0.00   \n",
       "OpenPorchSF    1460.0      46.660274     66.256028      0.0       0.00   \n",
       "EnclosedPorch  1460.0      21.954110     61.119149      0.0       0.00   \n",
       "3SsnPorch      1460.0       3.409589     29.317331      0.0       0.00   \n",
       "ScreenPorch    1460.0      15.060959     55.757415      0.0       0.00   \n",
       "PoolArea       1460.0       2.758904     40.177307      0.0       0.00   \n",
       "MiscVal        1460.0      43.489041    496.123024      0.0       0.00   \n",
       "MoSold         1460.0       6.321918      2.703626      1.0       5.00   \n",
       "YrSold         1460.0    2007.815753      1.328095   2006.0    2007.00   \n",
       "SalePrice      1460.0  180921.195890  79442.502883  34900.0  129975.00   \n",
       "\n",
       "                    50%        75%       max  \n",
       "MSSubClass         50.0      70.00     190.0  \n",
       "LotFrontage        69.0      80.00     313.0  \n",
       "LotArea          9478.5   11601.50  215245.0  \n",
       "OverallQual         6.0       7.00      10.0  \n",
       "OverallCond         5.0       6.00       9.0  \n",
       "YearBuilt        1973.0    2000.00    2010.0  \n",
       "YearRemodAdd     1994.0    2004.00    2010.0  \n",
       "MasVnrArea          0.0     166.00    1600.0  \n",
       "BsmtFinSF1        383.5     712.25    5644.0  \n",
       "BsmtFinSF2          0.0       0.00    1474.0  \n",
       "BsmtUnfSF         477.5     808.00    2336.0  \n",
       "TotalBsmtSF       991.5    1298.25    6110.0  \n",
       "1stFlrSF         1087.0    1391.25    4692.0  \n",
       "2ndFlrSF            0.0     728.00    2065.0  \n",
       "LowQualFinSF        0.0       0.00     572.0  \n",
       "GrLivArea        1464.0    1776.75    5642.0  \n",
       "BsmtFullBath        0.0       1.00       3.0  \n",
       "BsmtHalfBath        0.0       0.00       2.0  \n",
       "FullBath            2.0       2.00       3.0  \n",
       "HalfBath            0.0       1.00       2.0  \n",
       "BedroomAbvGr        3.0       3.00       8.0  \n",
       "KitchenAbvGr        1.0       1.00       3.0  \n",
       "TotRmsAbvGrd        6.0       7.00      14.0  \n",
       "Fireplaces          1.0       1.00       3.0  \n",
       "GarageYrBlt      1980.0    2002.00    2010.0  \n",
       "GarageCars          2.0       2.00       4.0  \n",
       "GarageArea        480.0     576.00    1418.0  \n",
       "WoodDeckSF          0.0     168.00     857.0  \n",
       "OpenPorchSF        25.0      68.00     547.0  \n",
       "EnclosedPorch       0.0       0.00     552.0  \n",
       "3SsnPorch           0.0       0.00     508.0  \n",
       "ScreenPorch         0.0       0.00     480.0  \n",
       "PoolArea            0.0       0.00     738.0  \n",
       "MiscVal             0.0       0.00   15500.0  \n",
       "MoSold              6.0       8.00      12.0  \n",
       "YrSold           2008.0    2009.00    2010.0  \n",
       "SalePrice      163000.0  214000.00  755000.0  "
      ]
     },
     "execution_count": 6,
     "metadata": {},
     "output_type": "execute_result"
    }
   ],
   "source": [
    "df.describe().T"
   ]
  },
  {
   "cell_type": "code",
   "execution_count": 7,
   "id": "b84dfd7f",
   "metadata": {
    "ExecuteTime": {
     "end_time": "2021-06-14T21:54:25.226538Z",
     "start_time": "2021-06-14T21:54:18.749904Z"
    }
   },
   "outputs": [
    {
     "data": {
      "image/png": "[encoded data removed]",
      "text/plain": [
       "<Figure size 2160x1800 with 2 Axes>"
      ]
     },
     "metadata": {
      "needs_background": "light"
     },
     "output_type": "display_data"
    }
   ],
   "source": [
    "plt.subplots(figsize=(30,25))\n",
    "sns.heatmap(df.corr(), annot=True, cmap='Spectral').set_title('Matrice de corrélation', fontsize=30);"
   ]
  },
  {
   "cell_type": "code",
   "execution_count": 8,
   "id": "82ebab6f",
   "metadata": {
    "ExecuteTime": {
     "end_time": "2021-06-14T21:54:25.257003Z",
     "start_time": "2021-06-14T21:54:25.226538Z"
    }
   },
   "outputs": [],
   "source": [
    "# df[['SalePrice', 'Neighborhood']].groupby('Neighborhood').mean().sort_values(by='SalePrice')\n",
    "# df['Neighborhood'].value_counts()"
   ]
  },
  {
   "cell_type": "markdown",
   "id": "a44e5c24",
   "metadata": {},
   "source": [
    "# Train-test-split et preprocessing"
   ]
  },
  {
   "cell_type": "code",
   "execution_count": 9,
   "id": "0c18cb2c",
   "metadata": {
    "ExecuteTime": {
     "end_time": "2021-06-14T21:54:25.272588Z",
     "start_time": "2021-06-14T21:54:25.257003Z"
    }
   },
   "outputs": [
    {
     "name": "stdout",
     "output_type": "stream",
     "text": [
      "Train set: (1168, 73)\n",
      "Test set: (292, 73)\n"
     ]
    }
   ],
   "source": [
    "from sklearn.linear_model import SGDRegressor\n",
    "X = df.drop(['SalePrice', 'LotFrontage', 'Alley', 'PoolQC', 'Fence', 'MiscFeature', 'FireplaceQu'], axis=1)\n",
    "y = np.log(df['SalePrice'])\n",
    "\n",
    "X_train,X_test, y_train, y_test = train_test_split(X, y, test_size=0.2, random_state=5)\n",
    "print('Train set:', X_train.shape)\n",
    "print('Test set:', X_test.shape)"
   ]
  },
  {
   "cell_type": "code",
   "execution_count": 10,
   "id": "25bf2812",
   "metadata": {
    "ExecuteTime": {
     "end_time": "2021-06-14T21:54:25.288252Z",
     "start_time": "2021-06-14T21:54:25.272588Z"
    }
   },
   "outputs": [],
   "source": [
    "# Transformation de variables numériques en variables catégorielles\n",
    "X['OverallQual'] = X['OverallQual'].astype('object')\n",
    "X['GarageCars'] = X['GarageCars'].astype('object')\n",
    "X['Fireplaces'] = X['Fireplaces'].astype('object')"
   ]
  },
  {
   "cell_type": "markdown",
   "id": "e97631a6",
   "metadata": {},
   "source": [
    "## Sélection des variables numériques"
   ]
  },
  {
   "cell_type": "code",
   "execution_count": 11,
   "id": "e7169e20",
   "metadata": {
    "ExecuteTime": {
     "end_time": "2021-06-14T21:54:25.303866Z",
     "start_time": "2021-06-14T21:54:25.288252Z"
    }
   },
   "outputs": [
    {
     "data": {
      "text/plain": [
       "array(['MSSubClass', 'LotArea', 'OverallCond', 'YearBuilt',\n",
       "       'YearRemodAdd', 'MasVnrArea', 'BsmtFinSF1', 'BsmtFinSF2',\n",
       "       'BsmtUnfSF', 'TotalBsmtSF', '1stFlrSF', '2ndFlrSF', 'LowQualFinSF',\n",
       "       'GrLivArea', 'BsmtFullBath', 'BsmtHalfBath', 'FullBath',\n",
       "       'HalfBath', 'BedroomAbvGr', 'KitchenAbvGr', 'TotRmsAbvGrd',\n",
       "       'GarageYrBlt', 'GarageArea', 'WoodDeckSF', 'OpenPorchSF',\n",
       "       'EnclosedPorch', '3SsnPorch', 'ScreenPorch', 'PoolArea', 'MiscVal',\n",
       "       'MoSold', 'YrSold'], dtype=object)"
      ]
     },
     "execution_count": 11,
     "metadata": {},
     "output_type": "execute_result"
    }
   ],
   "source": [
    "# Sélection des variables numériques\n",
    "num_features = X.select_dtypes(include=np.number).columns.values\n",
    "num_features"
   ]
  },
  {
   "cell_type": "markdown",
   "id": "c08df060",
   "metadata": {},
   "source": [
    "## Sélection des variables catégorielles - ordinales et non ordinales"
   ]
  },
  {
   "cell_type": "code",
   "execution_count": 12,
   "id": "ec8b89c3",
   "metadata": {
    "ExecuteTime": {
     "end_time": "2021-06-14T21:54:25.319823Z",
     "start_time": "2021-06-14T21:54:25.303866Z"
    }
   },
   "outputs": [
    {
     "data": {
      "text/plain": [
       "array(['MSZoning', 'Street', 'LotShape', 'LandContour', 'Utilities',\n",
       "       'LotConfig', 'LandSlope', 'Neighborhood', 'Condition1',\n",
       "       'Condition2', 'BldgType', 'HouseStyle', 'OverallQual', 'RoofStyle',\n",
       "       'RoofMatl', 'Exterior1st', 'Exterior2nd', 'MasVnrType',\n",
       "       'ExterQual', 'ExterCond', 'Foundation', 'BsmtQual', 'BsmtCond',\n",
       "       'BsmtExposure', 'BsmtFinType1', 'BsmtFinType2', 'Heating',\n",
       "       'HeatingQC', 'CentralAir', 'Electrical', 'KitchenQual',\n",
       "       'Functional', 'Fireplaces', 'GarageType', 'GarageFinish',\n",
       "       'GarageCars', 'GarageQual', 'GarageCond', 'PavedDrive', 'SaleType',\n",
       "       'SaleCondition'], dtype=object)"
      ]
     },
     "execution_count": 12,
     "metadata": {},
     "output_type": "execute_result"
    }
   ],
   "source": [
    "# Sélection des variables catégorielles \n",
    "cat_features = X.select_dtypes(exclude=np.number).columns.values\n",
    "cat_features"
   ]
  },
  {
   "cell_type": "code",
   "execution_count": 13,
   "id": "9f48967d",
   "metadata": {
    "ExecuteTime": {
     "end_time": "2021-06-14T21:54:25.342473Z",
     "start_time": "2021-06-14T21:54:25.319823Z"
    }
   },
   "outputs": [],
   "source": [
    "# Variables non ordinales\n",
    "non_ordinal_features = X[['MSZoning', 'LandContour', 'LotConfig', 'Condition1', 'BldgType', 'HouseStyle', \n",
    "                          'RoofStyle', 'MasVnrType', 'Foundation', 'CentralAir', 'Electrical', 'GarageType', \n",
    "                          'GarageFinish', 'PavedDrive', 'OverallQual', 'GarageCars', 'Fireplaces']].columns.values\n",
    "\n",
    "# Variables ordinales\n",
    "ordinal_features = X[['Neighborhood', 'ExterQual', 'ExterCond', 'BsmtQual', 'BsmtCond', 'BsmtExposure', \n",
    "                      'KitchenQual', 'Exterior1st', 'SaleType', 'HeatingQC', 'GarageQual']].columns.values\n"
   ]
  },
  {
   "cell_type": "code",
   "execution_count": 14,
   "id": "de8fb89c",
   "metadata": {
    "ExecuteTime": {
     "end_time": "2021-06-14T21:54:25.358109Z",
     "start_time": "2021-06-14T21:54:25.342473Z"
    }
   },
   "outputs": [],
   "source": [
    "# Paramètres pour catégories ordinales\n",
    "params_ordinal = [['MeadowV', 'IDOTRR', 'BrDale', 'BrkSide', 'Edwards', 'OldTown', 'Sawyer', 'Blueste', 'SWISU', 'NPkVill',\n",
    "                   'NAmes', 'Mitchel', 'SawyerW', 'NWAmes', 'Gilbert', 'Blmngtn', 'CollgCr', 'Crawfor', 'ClearCr', 'Somerst',\n",
    "                   'Veenker', 'Timber', 'StoneBr', 'NridgHt', 'NoRidge'],\n",
    "                  ['Po', 'Fa', 'TA', 'Gd', 'Ex'],\n",
    "                  ['Po', 'Fa', 'TA', 'Gd', 'Ex'],\n",
    "                  ['NA', 'Po', 'Fa', 'TA', 'Gd', 'Ex'],\n",
    "                  ['NA', 'Po', 'Fa', 'TA', 'Gd', 'Ex'],\n",
    "                  ['NA', 'No', 'Mn', 'Av', 'Gd'],\n",
    "                  ['Po', 'Fa', 'TA', 'Gd', 'Ex'],\n",
    "                  ['BrkComm', 'AsphShn', 'CBlock', 'AsbShng', 'MetalSd', 'Wd Sdng', 'WdShing', 'Stucco', 'HdBoard', 'Plywood',\n",
    "                   'BrkFace', 'VinylSd', 'CemntBd', 'Stone', 'ImStucc'],\n",
    "                  ['Oth', 'ConLD', 'ConLw', 'COD', 'WD', 'ConLI', 'CWD', 'Con', 'New'],\n",
    "                  ['Po', 'Fa', 'TA', 'Gd', 'Ex'],\n",
    "                  ['Po', 'Fa', 'TA', 'Gd', 'Ex']\n",
    "                 ]"
   ]
  },
  {
   "cell_type": "markdown",
   "id": "e87aceb5",
   "metadata": {},
   "source": [
    "## Création pipelines : preprocessing, features selection et stacking"
   ]
  },
  {
   "cell_type": "code",
   "execution_count": 15,
   "id": "bf7885f5",
   "metadata": {
    "ExecuteTime": {
     "end_time": "2021-06-14T21:54:25.374168Z",
     "start_time": "2021-06-14T21:54:25.358109Z"
    }
   },
   "outputs": [],
   "source": [
    "# Pipelines de transformations des données numériques et catégorielles\n",
    "\n",
    "num_pipeline = make_pipeline(SimpleImputer(), RobustScaler())\n",
    "\n",
    "non_ordinal_pipeline = make_pipeline(SimpleImputer(\n",
    "    strategy='most_frequent'), OneHotEncoder(handle_unknown='ignore'))\n",
    "\n",
    "ordinal_pipeline = make_pipeline(SimpleImputer(strategy='most_frequent'), OrdinalEncoder(\n",
    "    categories=params_ordinal, handle_unknown='use_encoded_value', unknown_value=-1))"
   ]
  },
  {
   "cell_type": "code",
   "execution_count": 16,
   "id": "96eef4ec",
   "metadata": {
    "ExecuteTime": {
     "end_time": "2021-06-14T21:54:25.389704Z",
     "start_time": "2021-06-14T21:54:25.374168Z"
    }
   },
   "outputs": [],
   "source": [
    "# Application des pipelines de transformations aux données sélectionnées\n",
    "preprocessor = make_column_transformer((num_pipeline, num_features),\n",
    "                                      (non_ordinal_pipeline, non_ordinal_features),\n",
    "                                      (ordinal_pipeline, ordinal_features))"
   ]
  },
  {
   "cell_type": "code",
   "execution_count": 17,
   "id": "611e02cf",
   "metadata": {
    "ExecuteTime": {
     "end_time": "2021-06-14T21:54:25.405352Z",
     "start_time": "2021-06-14T21:54:25.389704Z"
    }
   },
   "outputs": [],
   "source": [
    "# Features sélection avec SelectPercentile()\n",
    "from sklearn.feature_selection import SelectPercentile, f_regression\n",
    "features_selection = SelectPercentile(f_regression, percentile=50)"
   ]
  },
  {
   "cell_type": "code",
   "execution_count": 18,
   "id": "78f51921",
   "metadata": {
    "ExecuteTime": {
     "end_time": "2021-06-14T21:54:25.421018Z",
     "start_time": "2021-06-14T21:54:25.405352Z"
    }
   },
   "outputs": [],
   "source": [
    "# Stacking avec 6 modèles de régression linéaire\n",
    "from sklearn.ensemble import StackingRegressor\n",
    "\n",
    "model_1 = LassoCV()\n",
    "model_2 = RidgeCV()\n",
    "model_3 = ElasticNetCV()\n",
    "model_4 = RandomForestRegressor(random_state=42)\n",
    "model_5 = SVR(kernel='linear')\n",
    "model_6 = GradientBoostingRegressor(random_state=42)\n",
    "\n",
    "stack_reg = StackingRegressor([('LassoCV', model_1),\n",
    "                               ('RidgeCV', model_2),\n",
    "                               ('ElacticNetCV', model_3), \n",
    "                               ('RandomForest', model_4),\n",
    "                               ('SVR', model_5),\n",
    "                               ('Gradient', model_6)],\n",
    "                               final_estimator = model_5)"
   ]
  },
  {
   "cell_type": "code",
   "execution_count": 19,
   "id": "cd8c6cb9",
   "metadata": {
    "ExecuteTime": {
     "end_time": "2021-06-14T21:54:25.574357Z",
     "start_time": "2021-06-14T21:54:25.421018Z"
    },
    "scrolled": false
   },
   "outputs": [
    {
     "data": {
      "text/html": [
       "<style>#sk-ef47edb2-d67c-4da6-83e4-0fca2cf5d7d5 {color: black;background-color: white;}#sk-ef47edb2-d67c-4da6-83e4-0fca2cf5d7d5 pre{padding: 0;}#sk-ef47edb2-d67c-4da6-83e4-0fca2cf5d7d5 div.sk-toggleable {background-color: white;}#sk-ef47edb2-d67c-4da6-83e4-0fca2cf5d7d5 label.sk-toggleable__label {cursor: pointer;display: block;width: 100%;margin-bottom: 0;padding: 0.2em 0.3em;box-sizing: border-box;text-align: center;}#sk-ef47edb2-d67c-4da6-83e4-0fca2cf5d7d5 div.sk-toggleable__content {max-height: 0;max-width: 0;overflow: hidden;text-align: left;background-color: #f0f8ff;}#sk-ef47edb2-d67c-4da6-83e4-0fca2cf5d7d5 div.sk-toggleable__content pre {margin: 0.2em;color: black;border-radius: 0.25em;background-color: #f0f8ff;}#sk-ef47edb2-d67c-4da6-83e4-0fca2cf5d7d5 input.sk-toggleable__control:checked~div.sk-toggleable__content {max-height: 200px;max-width: 100%;overflow: auto;}#sk-ef47edb2-d67c-4da6-83e4-0fca2cf5d7d5 div.sk-estimator input.sk-toggleable__control:checked~label.sk-toggleable__label {background-color: #d4ebff;}#sk-ef47edb2-d67c-4da6-83e4-0fca2cf5d7d5 div.sk-label input.sk-toggleable__control:checked~label.sk-toggleable__label {background-color: #d4ebff;}#sk-ef47edb2-d67c-4da6-83e4-0fca2cf5d7d5 input.sk-hidden--visually {border: 0;clip: rect(1px 1px 1px 1px);clip: rect(1px, 1px, 1px, 1px);height: 1px;margin: -1px;overflow: hidden;padding: 0;position: absolute;width: 1px;}#sk-ef47edb2-d67c-4da6-83e4-0fca2cf5d7d5 div.sk-estimator {font-family: monospace;background-color: #f0f8ff;margin: 0.25em 0.25em;border: 1px dotted black;border-radius: 0.25em;box-sizing: border-box;}#sk-ef47edb2-d67c-4da6-83e4-0fca2cf5d7d5 div.sk-estimator:hover {background-color: #d4ebff;}#sk-ef47edb2-d67c-4da6-83e4-0fca2cf5d7d5 div.sk-parallel-item::after {content: \"\";width: 100%;border-bottom: 1px solid gray;flex-grow: 1;}#sk-ef47edb2-d67c-4da6-83e4-0fca2cf5d7d5 div.sk-label:hover label.sk-toggleable__label {background-color: #d4ebff;}#sk-ef47edb2-d67c-4da6-83e4-0fca2cf5d7d5 div.sk-serial::before {content: \"\";position: absolute;border-left: 1px solid gray;box-sizing: border-box;top: 2em;bottom: 0;left: 50%;}#sk-ef47edb2-d67c-4da6-83e4-0fca2cf5d7d5 div.sk-serial {display: flex;flex-direction: column;align-items: center;background-color: white;}#sk-ef47edb2-d67c-4da6-83e4-0fca2cf5d7d5 div.sk-item {z-index: 1;}#sk-ef47edb2-d67c-4da6-83e4-0fca2cf5d7d5 div.sk-parallel {display: flex;align-items: stretch;justify-content: center;background-color: white;}#sk-ef47edb2-d67c-4da6-83e4-0fca2cf5d7d5 div.sk-parallel-item {display: flex;flex-direction: column;position: relative;background-color: white;}#sk-ef47edb2-d67c-4da6-83e4-0fca2cf5d7d5 div.sk-parallel-item:first-child::after {align-self: flex-end;width: 50%;}#sk-ef47edb2-d67c-4da6-83e4-0fca2cf5d7d5 div.sk-parallel-item:last-child::after {align-self: flex-start;width: 50%;}#sk-ef47edb2-d67c-4da6-83e4-0fca2cf5d7d5 div.sk-parallel-item:only-child::after {width: 0;}#sk-ef47edb2-d67c-4da6-83e4-0fca2cf5d7d5 div.sk-dashed-wrapped {border: 1px dashed gray;margin: 0.2em;box-sizing: border-box;padding-bottom: 0.1em;background-color: white;position: relative;}#sk-ef47edb2-d67c-4da6-83e4-0fca2cf5d7d5 div.sk-label label {font-family: monospace;font-weight: bold;background-color: white;display: inline-block;line-height: 1.2em;}#sk-ef47edb2-d67c-4da6-83e4-0fca2cf5d7d5 div.sk-label-container {position: relative;z-index: 2;text-align: center;}#sk-ef47edb2-d67c-4da6-83e4-0fca2cf5d7d5 div.sk-container {display: inline-block;position: relative;}</style><div id=\"sk-ef47edb2-d67c-4da6-83e4-0fca2cf5d7d5\" class\"sk-top-container\"><div class=\"sk-container\"><div class=\"sk-item sk-dashed-wrapped\"><div class=\"sk-label-container\"><div class=\"sk-label sk-toggleable\"><input class=\"sk-toggleable__control sk-hidden--visually\" id=\"6bc6ce33-7e53-4229-ace7-760a8cd8e23e\" type=\"checkbox\" ><label class=\"sk-toggleable__label\" for=\"6bc6ce33-7e53-4229-ace7-760a8cd8e23e\">Pipeline</label><div class=\"sk-toggleable__content\"><pre>Pipeline(steps=[('columntransformer',\n",
       "                 ColumnTransformer(transformers=[('pipeline-1',\n",
       "                                                  Pipeline(steps=[('simpleimputer',\n",
       "                                                                   SimpleImputer()),\n",
       "                                                                  ('robustscaler',\n",
       "                                                                   RobustScaler())]),\n",
       "                                                  array(['MSSubClass', 'LotArea', 'OverallCond', 'YearBuilt',\n",
       "       'YearRemodAdd', 'MasVnrArea', 'BsmtFinSF1', 'BsmtFinSF2',\n",
       "       'BsmtUnfSF', 'TotalBsmtSF', '1stFlrSF', '2ndFlrSF', 'LowQualFinSF',\n",
       "       'GrLivArea...\n",
       "                                  score_func=<function f_regression at 0x0000027B9DD59160>)),\n",
       "                ('stackingregressor',\n",
       "                 StackingRegressor(estimators=[('LassoCV', LassoCV()),\n",
       "                                               ('RidgeCV',\n",
       "                                                RidgeCV(alphas=array([ 0.1,  1. , 10. ]))),\n",
       "                                               ('ElacticNetCV', ElasticNetCV()),\n",
       "                                               ('RandomForest',\n",
       "                                                RandomForestRegressor(random_state=42)),\n",
       "                                               ('SVR', SVR(kernel='linear')),\n",
       "                                               ('Gradient',\n",
       "                                                GradientBoostingRegressor(random_state=42))],\n",
       "                                   final_estimator=SVR(kernel='linear')))])</pre></div></div></div><div class=\"sk-serial\"><div class=\"sk-item sk-dashed-wrapped\"><div class=\"sk-label-container\"><div class=\"sk-label sk-toggleable\"><input class=\"sk-toggleable__control sk-hidden--visually\" id=\"73d980e6-06bc-47c8-822d-2a02d4ef645d\" type=\"checkbox\" ><label class=\"sk-toggleable__label\" for=\"73d980e6-06bc-47c8-822d-2a02d4ef645d\">columntransformer: ColumnTransformer</label><div class=\"sk-toggleable__content\"><pre>ColumnTransformer(transformers=[('pipeline-1',\n",
       "                                 Pipeline(steps=[('simpleimputer',\n",
       "                                                  SimpleImputer()),\n",
       "                                                 ('robustscaler',\n",
       "                                                  RobustScaler())]),\n",
       "                                 array(['MSSubClass', 'LotArea', 'OverallCond', 'YearBuilt',\n",
       "       'YearRemodAdd', 'MasVnrArea', 'BsmtFinSF1', 'BsmtFinSF2',\n",
       "       'BsmtUnfSF', 'TotalBsmtSF', '1stFlrSF', '2ndFlrSF', 'LowQualFinSF',\n",
       "       'GrLivArea', 'BsmtFullBath', 'BsmtHalfBath', 'Full...\n",
       "                                                                              'Stone',\n",
       "                                                                              'ImStucc'],\n",
       "                                                                             ['Oth',\n",
       "                                                                              'ConLD',\n",
       "                                                                              'ConLw',\n",
       "                                                                              'COD',\n",
       "                                                                              'WD',\n",
       "                                                                              'ConLI',\n",
       "                                                                              'CWD',\n",
       "                                                                              'Con',\n",
       "                                                                              'New'],\n",
       "                                                                             ['Po',\n",
       "                                                                              'Fa',\n",
       "                                                                              'TA',\n",
       "                                                                              'Gd',\n",
       "                                                                              'Ex'],\n",
       "                                                                             ['Po',\n",
       "                                                                              'Fa',\n",
       "                                                                              'TA',\n",
       "                                                                              'Gd',\n",
       "                                                                              'Ex']],\n",
       "                                                                 handle_unknown='use_encoded_value',\n",
       "                                                                 unknown_value=-1))]),\n",
       "                                 array(['Neighborhood', 'ExterQual', 'ExterCond', 'BsmtQual', 'BsmtCond',\n",
       "       'BsmtExposure', 'KitchenQual', 'Exterior1st', 'SaleType',\n",
       "       'HeatingQC', 'GarageQual'], dtype=object))])</pre></div></div></div><div class=\"sk-parallel\"><div class=\"sk-parallel-item\"><div class=\"sk-item\"><div class=\"sk-label-container\"><div class=\"sk-label sk-toggleable\"><input class=\"sk-toggleable__control sk-hidden--visually\" id=\"03c7fa60-4689-4063-962b-da518b9076e5\" type=\"checkbox\" ><label class=\"sk-toggleable__label\" for=\"03c7fa60-4689-4063-962b-da518b9076e5\">pipeline-1</label><div class=\"sk-toggleable__content\"><pre>['MSSubClass' 'LotArea' 'OverallCond' 'YearBuilt' 'YearRemodAdd'\n",
       " 'MasVnrArea' 'BsmtFinSF1' 'BsmtFinSF2' 'BsmtUnfSF' 'TotalBsmtSF'\n",
       " '1stFlrSF' '2ndFlrSF' 'LowQualFinSF' 'GrLivArea' 'BsmtFullBath'\n",
       " 'BsmtHalfBath' 'FullBath' 'HalfBath' 'BedroomAbvGr' 'KitchenAbvGr'\n",
       " 'TotRmsAbvGrd' 'GarageYrBlt' 'GarageArea' 'WoodDeckSF' 'OpenPorchSF'\n",
       " 'EnclosedPorch' '3SsnPorch' 'ScreenPorch' 'PoolArea' 'MiscVal' 'MoSold'\n",
       " 'YrSold']</pre></div></div></div><div class=\"sk-serial\"><div class=\"sk-item\"><div class=\"sk-serial\"><div class=\"sk-item\"><div class=\"sk-estimator sk-toggleable\"><input class=\"sk-toggleable__control sk-hidden--visually\" id=\"9b6ee323-c48e-4450-a51e-5c16079d56b6\" type=\"checkbox\" ><label class=\"sk-toggleable__label\" for=\"9b6ee323-c48e-4450-a51e-5c16079d56b6\">SimpleImputer</label><div class=\"sk-toggleable__content\"><pre>SimpleImputer()</pre></div></div></div><div class=\"sk-item\"><div class=\"sk-estimator sk-toggleable\"><input class=\"sk-toggleable__control sk-hidden--visually\" id=\"4db3d064-8ab6-4773-a0e7-93bd8dea082a\" type=\"checkbox\" ><label class=\"sk-toggleable__label\" for=\"4db3d064-8ab6-4773-a0e7-93bd8dea082a\">RobustScaler</label><div class=\"sk-toggleable__content\"><pre>RobustScaler()</pre></div></div></div></div></div></div></div></div><div class=\"sk-parallel-item\"><div class=\"sk-item\"><div class=\"sk-label-container\"><div class=\"sk-label sk-toggleable\"><input class=\"sk-toggleable__control sk-hidden--visually\" id=\"85f88b16-ea8d-40d3-9476-eeaab5e9a0ae\" type=\"checkbox\" ><label class=\"sk-toggleable__label\" for=\"85f88b16-ea8d-40d3-9476-eeaab5e9a0ae\">pipeline-2</label><div class=\"sk-toggleable__content\"><pre>['MSZoning' 'LandContour' 'LotConfig' 'Condition1' 'BldgType' 'HouseStyle'\n",
       " 'RoofStyle' 'MasVnrType' 'Foundation' 'CentralAir' 'Electrical'\n",
       " 'GarageType' 'GarageFinish' 'PavedDrive' 'OverallQual' 'GarageCars'\n",
       " 'Fireplaces']</pre></div></div></div><div class=\"sk-serial\"><div class=\"sk-item\"><div class=\"sk-serial\"><div class=\"sk-item\"><div class=\"sk-estimator sk-toggleable\"><input class=\"sk-toggleable__control sk-hidden--visually\" id=\"1947407c-d47a-4583-b591-7e458fbf0469\" type=\"checkbox\" ><label class=\"sk-toggleable__label\" for=\"1947407c-d47a-4583-b591-7e458fbf0469\">SimpleImputer</label><div class=\"sk-toggleable__content\"><pre>SimpleImputer(strategy='most_frequent')</pre></div></div></div><div class=\"sk-item\"><div class=\"sk-estimator sk-toggleable\"><input class=\"sk-toggleable__control sk-hidden--visually\" id=\"5997f8c7-33ad-46b5-8f8d-648303bfe974\" type=\"checkbox\" ><label class=\"sk-toggleable__label\" for=\"5997f8c7-33ad-46b5-8f8d-648303bfe974\">OneHotEncoder</label><div class=\"sk-toggleable__content\"><pre>OneHotEncoder(handle_unknown='ignore')</pre></div></div></div></div></div></div></div></div><div class=\"sk-parallel-item\"><div class=\"sk-item\"><div class=\"sk-label-container\"><div class=\"sk-label sk-toggleable\"><input class=\"sk-toggleable__control sk-hidden--visually\" id=\"dacc8739-cc2c-4803-82ed-45eb1a03a1c9\" type=\"checkbox\" ><label class=\"sk-toggleable__label\" for=\"dacc8739-cc2c-4803-82ed-45eb1a03a1c9\">pipeline-3</label><div class=\"sk-toggleable__content\"><pre>['Neighborhood' 'ExterQual' 'ExterCond' 'BsmtQual' 'BsmtCond'\n",
       " 'BsmtExposure' 'KitchenQual' 'Exterior1st' 'SaleType' 'HeatingQC'\n",
       " 'GarageQual']</pre></div></div></div><div class=\"sk-serial\"><div class=\"sk-item\"><div class=\"sk-serial\"><div class=\"sk-item\"><div class=\"sk-estimator sk-toggleable\"><input class=\"sk-toggleable__control sk-hidden--visually\" id=\"4fc697d4-441f-4676-8e2f-dd53d9cbdd87\" type=\"checkbox\" ><label class=\"sk-toggleable__label\" for=\"4fc697d4-441f-4676-8e2f-dd53d9cbdd87\">SimpleImputer</label><div class=\"sk-toggleable__content\"><pre>SimpleImputer(strategy='most_frequent')</pre></div></div></div><div class=\"sk-item\"><div class=\"sk-estimator sk-toggleable\"><input class=\"sk-toggleable__control sk-hidden--visually\" id=\"f6ede284-0131-4c11-b4c5-1686968acc1d\" type=\"checkbox\" ><label class=\"sk-toggleable__label\" for=\"f6ede284-0131-4c11-b4c5-1686968acc1d\">OrdinalEncoder</label><div class=\"sk-toggleable__content\"><pre>OrdinalEncoder(categories=[['MeadowV', 'IDOTRR', 'BrDale', 'BrkSide', 'Edwards',\n",
       "                            'OldTown', 'Sawyer', 'Blueste', 'SWISU', 'NPkVill',\n",
       "                            'NAmes', 'Mitchel', 'SawyerW', 'NWAmes', 'Gilbert',\n",
       "                            'Blmngtn', 'CollgCr', 'Crawfor', 'ClearCr',\n",
       "                            'Somerst', 'Veenker', 'Timber', 'StoneBr',\n",
       "                            'NridgHt', 'NoRidge'],\n",
       "                           ['Po', 'Fa', 'TA', 'Gd', 'Ex'],\n",
       "                           ['Po', 'Fa', 'TA', 'Gd', 'Ex'],\n",
       "                           ['NA', 'Po', 'Fa', 'TA', 'Gd',...\n",
       "                           ['NA', 'No', 'Mn', 'Av', 'Gd'],\n",
       "                           ['Po', 'Fa', 'TA', 'Gd', 'Ex'],\n",
       "                           ['BrkComm', 'AsphShn', 'CBlock', 'AsbShng',\n",
       "                            'MetalSd', 'Wd Sdng', 'WdShing', 'Stucco',\n",
       "                            'HdBoard', 'Plywood', 'BrkFace', 'VinylSd',\n",
       "                            'CemntBd', 'Stone', 'ImStucc'],\n",
       "                           ['Oth', 'ConLD', 'ConLw', 'COD', 'WD', 'ConLI',\n",
       "                            'CWD', 'Con', 'New'],\n",
       "                           ['Po', 'Fa', 'TA', 'Gd', 'Ex'],\n",
       "                           ['Po', 'Fa', 'TA', 'Gd', 'Ex']],\n",
       "               handle_unknown='use_encoded_value', unknown_value=-1)</pre></div></div></div></div></div></div></div></div></div></div><div class=\"sk-item\"><div class=\"sk-estimator sk-toggleable\"><input class=\"sk-toggleable__control sk-hidden--visually\" id=\"206e5bcd-32e8-4d74-97b0-bc269e403372\" type=\"checkbox\" ><label class=\"sk-toggleable__label\" for=\"206e5bcd-32e8-4d74-97b0-bc269e403372\">SelectPercentile</label><div class=\"sk-toggleable__content\"><pre>SelectPercentile(percentile=50,\n",
       "                 score_func=<function f_regression at 0x0000027B9DD59160>)</pre></div></div></div><div class=\"sk-item sk-dashed-wrapped\"><div class=\"sk-label-container\"><div class=\"sk-label sk-toggleable\"><input class=\"sk-toggleable__control sk-hidden--visually\" id=\"6772356b-35ea-4175-b0fc-d785f77e5877\" type=\"checkbox\" ><label class=\"sk-toggleable__label\" for=\"6772356b-35ea-4175-b0fc-d785f77e5877\">stackingregressor: StackingRegressor</label><div class=\"sk-toggleable__content\"><pre>StackingRegressor(estimators=[('LassoCV', LassoCV()),\n",
       "                              ('RidgeCV',\n",
       "                               RidgeCV(alphas=array([ 0.1,  1. , 10. ]))),\n",
       "                              ('ElacticNetCV', ElasticNetCV()),\n",
       "                              ('RandomForest',\n",
       "                               RandomForestRegressor(random_state=42)),\n",
       "                              ('SVR', SVR(kernel='linear')),\n",
       "                              ('Gradient',\n",
       "                               GradientBoostingRegressor(random_state=42))],\n",
       "                  final_estimator=SVR(kernel='linear'))</pre></div></div></div><div class=\"sk-serial\"><div class=\"sk-item\"><div class=\"sk-serial\"><div class=\"sk-item\"><div class=\"sk-parallel\"><div class=\"sk-parallel-item\"><div class=\"sk-item\"><div class=\"sk-label-container\"><div class=\"sk-label sk-toggleable\"><label>LassoCV</label></div></div><div class=\"sk-serial\"><div class=\"sk-item\"><div class=\"sk-estimator sk-toggleable\"><input class=\"sk-toggleable__control sk-hidden--visually\" id=\"7e0c9415-c5c8-4527-8933-7222b7eac538\" type=\"checkbox\" ><label class=\"sk-toggleable__label\" for=\"7e0c9415-c5c8-4527-8933-7222b7eac538\">LassoCV</label><div class=\"sk-toggleable__content\"><pre>LassoCV()</pre></div></div></div></div></div></div><div class=\"sk-parallel-item\"><div class=\"sk-item\"><div class=\"sk-label-container\"><div class=\"sk-label sk-toggleable\"><label>RidgeCV</label></div></div><div class=\"sk-serial\"><div class=\"sk-item\"><div class=\"sk-estimator sk-toggleable\"><input class=\"sk-toggleable__control sk-hidden--visually\" id=\"c9490a70-85dc-4359-8ba7-563d38ef7053\" type=\"checkbox\" ><label class=\"sk-toggleable__label\" for=\"c9490a70-85dc-4359-8ba7-563d38ef7053\">RidgeCV</label><div class=\"sk-toggleable__content\"><pre>RidgeCV(alphas=array([ 0.1,  1. , 10. ]))</pre></div></div></div></div></div></div><div class=\"sk-parallel-item\"><div class=\"sk-item\"><div class=\"sk-label-container\"><div class=\"sk-label sk-toggleable\"><label>ElacticNetCV</label></div></div><div class=\"sk-serial\"><div class=\"sk-item\"><div class=\"sk-estimator sk-toggleable\"><input class=\"sk-toggleable__control sk-hidden--visually\" id=\"676c5528-44f3-4fae-994d-e310f5bf1bfe\" type=\"checkbox\" ><label class=\"sk-toggleable__label\" for=\"676c5528-44f3-4fae-994d-e310f5bf1bfe\">ElasticNetCV</label><div class=\"sk-toggleable__content\"><pre>ElasticNetCV()</pre></div></div></div></div></div></div><div class=\"sk-parallel-item\"><div class=\"sk-item\"><div class=\"sk-label-container\"><div class=\"sk-label sk-toggleable\"><label>RandomForest</label></div></div><div class=\"sk-serial\"><div class=\"sk-item\"><div class=\"sk-estimator sk-toggleable\"><input class=\"sk-toggleable__control sk-hidden--visually\" id=\"ba6d4fa4-1388-480a-937b-f186693fc41e\" type=\"checkbox\" ><label class=\"sk-toggleable__label\" for=\"ba6d4fa4-1388-480a-937b-f186693fc41e\">RandomForestRegressor</label><div class=\"sk-toggleable__content\"><pre>RandomForestRegressor(random_state=42)</pre></div></div></div></div></div></div><div class=\"sk-parallel-item\"><div class=\"sk-item\"><div class=\"sk-label-container\"><div class=\"sk-label sk-toggleable\"><label>SVR</label></div></div><div class=\"sk-serial\"><div class=\"sk-item\"><div class=\"sk-estimator sk-toggleable\"><input class=\"sk-toggleable__control sk-hidden--visually\" id=\"77180ef1-e7d2-4aaa-8cfe-ad078725cbc8\" type=\"checkbox\" ><label class=\"sk-toggleable__label\" for=\"77180ef1-e7d2-4aaa-8cfe-ad078725cbc8\">SVR</label><div class=\"sk-toggleable__content\"><pre>SVR(kernel='linear')</pre></div></div></div></div></div></div><div class=\"sk-parallel-item\"><div class=\"sk-item\"><div class=\"sk-label-container\"><div class=\"sk-label sk-toggleable\"><label>Gradient</label></div></div><div class=\"sk-serial\"><div class=\"sk-item\"><div class=\"sk-estimator sk-toggleable\"><input class=\"sk-toggleable__control sk-hidden--visually\" id=\"656e8368-b6c6-4aaf-ba9e-444311d6048e\" type=\"checkbox\" ><label class=\"sk-toggleable__label\" for=\"656e8368-b6c6-4aaf-ba9e-444311d6048e\">GradientBoostingRegressor</label><div class=\"sk-toggleable__content\"><pre>GradientBoostingRegressor(random_state=42)</pre></div></div></div></div></div></div></div></div><div class=\"sk-item\"><div class=\"sk-estimator sk-toggleable\"><input class=\"sk-toggleable__control sk-hidden--visually\" id=\"85a5ae08-325e-4070-b14b-d60c32fb87ce\" type=\"checkbox\" ><label class=\"sk-toggleable__label\" for=\"85a5ae08-325e-4070-b14b-d60c32fb87ce\">SVR</label><div class=\"sk-toggleable__content\"><pre>SVR(kernel='linear')</pre></div></div></div></div></div></div></div></div></div></div></div>"
      ],
      "text/plain": [
       "Pipeline(steps=[('columntransformer',\n",
       "                 ColumnTransformer(transformers=[('pipeline-1',\n",
       "                                                  Pipeline(steps=[('simpleimputer',\n",
       "                                                                   SimpleImputer()),\n",
       "                                                                  ('robustscaler',\n",
       "                                                                   RobustScaler())]),\n",
       "                                                  array(['MSSubClass', 'LotArea', 'OverallCond', 'YearBuilt',\n",
       "       'YearRemodAdd', 'MasVnrArea', 'BsmtFinSF1', 'BsmtFinSF2',\n",
       "       'BsmtUnfSF', 'TotalBsmtSF', '1stFlrSF', '2ndFlrSF', 'LowQualFinSF',\n",
       "       'GrLivArea...\n",
       "                                  score_func=<function f_regression at 0x0000027B9DD59160>)),\n",
       "                ('stackingregressor',\n",
       "                 StackingRegressor(estimators=[('LassoCV', LassoCV()),\n",
       "                                               ('RidgeCV',\n",
       "                                                RidgeCV(alphas=array([ 0.1,  1. , 10. ]))),\n",
       "                                               ('ElacticNetCV', ElasticNetCV()),\n",
       "                                               ('RandomForest',\n",
       "                                                RandomForestRegressor(random_state=42)),\n",
       "                                               ('SVR', SVR(kernel='linear')),\n",
       "                                               ('Gradient',\n",
       "                                                GradientBoostingRegressor(random_state=42))],\n",
       "                                   final_estimator=SVR(kernel='linear')))])"
      ]
     },
     "execution_count": 19,
     "metadata": {},
     "output_type": "execute_result"
    }
   ],
   "source": [
    "# Pipeline finale = modèle final avec preprocessing, features selection et stacking\n",
    "model = make_pipeline(preprocessor, features_selection, stack_reg)\n",
    "model"
   ]
  },
  {
   "cell_type": "code",
   "execution_count": 20,
   "id": "0e2ef225",
   "metadata": {
    "ExecuteTime": {
     "end_time": "2021-06-14T21:54:25.589969Z",
     "start_time": "2021-06-14T21:54:25.574357Z"
    }
   },
   "outputs": [],
   "source": [
    "# Création de la métrique de performance\n",
    "from sklearn.metrics import make_scorer\n",
    "\n",
    "def custom_metric(y, y_pred):\n",
    "    return mean_squared_error(y, y_pred, squared=False)\n",
    "\n",
    "custom_score = make_scorer(custom_metric, greater_is_better = False)"
   ]
  },
  {
   "cell_type": "code",
   "execution_count": 21,
   "id": "9be90e22",
   "metadata": {
    "ExecuteTime": {
     "end_time": "2021-06-14T21:54:25.605561Z",
     "start_time": "2021-06-14T21:54:25.589969Z"
    }
   },
   "outputs": [],
   "source": [
    "#params = {\n",
    "    #'randomforestregressor__ccp_alpha': np.arange(0.0, 1.1, 0.1),\n",
    "    #'randomforestregressor__criterion': ['mse', 'mae'],\n",
    "    #'randomforestregressor__max_depth': np.arange(2, 11, 1),\n",
    "    #'randomforestregressor__max_features': ['auto', 'sqrt', 'log2'],\n",
    "    #'randomforestregressor__max_leaf_nodes': np.arange(2, 11, 1),\n",
    "    #'randomforestregressor__warm_start': [False, True]\n",
    "    #}\n",
    "\n",
    "#grid = RandomizedSearchCV(model, params, cv=3, scoring=custom_score, n_iter=50)\n",
    "#grid.fit(X, y)\n",
    "#grid.best_params_"
   ]
  },
  {
   "cell_type": "code",
   "execution_count": 22,
   "id": "54fd1493",
   "metadata": {
    "ExecuteTime": {
     "end_time": "2021-06-14T21:54:25.621456Z",
     "start_time": "2021-06-14T21:54:25.605561Z"
    }
   },
   "outputs": [],
   "source": [
    "#model = grid.best_estimator_\n",
    "#grid.best_score_"
   ]
  },
  {
   "cell_type": "markdown",
   "id": "68c42cd7",
   "metadata": {},
   "source": [
    "# Entrainement du modèle"
   ]
  },
  {
   "cell_type": "code",
   "execution_count": 23,
   "id": "ee5c4187",
   "metadata": {
    "ExecuteTime": {
     "end_time": "2021-06-14T21:55:24.384511Z",
     "start_time": "2021-06-14T21:54:25.621456Z"
    }
   },
   "outputs": [
    {
     "data": {
      "text/plain": [
       "-0.14110392170423292"
      ]
     },
     "execution_count": 23,
     "metadata": {},
     "output_type": "execute_result"
    }
   ],
   "source": [
    "# Entrainement du modèle et cross_val_score (métrique personnelle) sur données d'entrainement \n",
    "model.fit(X_train, y_train)\n",
    "cross_val_score(model, X_train, y_train, cv=5, scoring=custom_score).mean()"
   ]
  },
  {
   "cell_type": "code",
   "execution_count": 24,
   "id": "4646b11a",
   "metadata": {
    "ExecuteTime": {
     "end_time": "2021-06-14T21:55:24.494909Z",
     "start_time": "2021-06-14T21:55:24.386546Z"
    }
   },
   "outputs": [
    {
     "data": {
      "text/plain": [
       "0.9292746076294348"
      ]
     },
     "execution_count": 24,
     "metadata": {},
     "output_type": "execute_result"
    }
   ],
   "source": [
    "# R2 sur données d'entrainement\n",
    "model.score(X_train, y_train)"
   ]
  },
  {
   "cell_type": "code",
   "execution_count": 25,
   "id": "b75881f4",
   "metadata": {
    "ExecuteTime": {
     "end_time": "2021-06-14T21:55:24.552573Z",
     "start_time": "2021-06-14T21:55:24.496925Z"
    }
   },
   "outputs": [
    {
     "data": {
      "text/plain": [
       "0.9011050434570211"
      ]
     },
     "execution_count": 25,
     "metadata": {},
     "output_type": "execute_result"
    }
   ],
   "source": [
    "# R2 sur données de test\n",
    "model.score(X_test, y_test)"
   ]
  },
  {
   "cell_type": "code",
   "execution_count": 26,
   "id": "308d9f79",
   "metadata": {
    "ExecuteTime": {
     "end_time": "2021-06-14T21:55:24.604494Z",
     "start_time": "2021-06-14T21:55:24.552573Z"
    }
   },
   "outputs": [],
   "source": [
    "# Prédiction sur données de test\n",
    "prediction = model.predict(X_test)"
   ]
  },
  {
   "cell_type": "code",
   "execution_count": 27,
   "id": "d7b38f7f",
   "metadata": {
    "ExecuteTime": {
     "end_time": "2021-06-14T21:55:24.634037Z",
     "start_time": "2021-06-14T21:55:24.604494Z"
    }
   },
   "outputs": [
    {
     "data": {
      "text/plain": [
       "0.12901709984512585"
      ]
     },
     "execution_count": 27,
     "metadata": {},
     "output_type": "execute_result"
    }
   ],
   "source": [
    "# Calcul de la RMSE sur les target logarithmées\n",
    "rmsel = mean_squared_error(y_test, prediction, squared=False)\n",
    "rmsel"
   ]
  },
  {
   "cell_type": "code",
   "execution_count": 28,
   "id": "bcb3127d",
   "metadata": {
    "ExecuteTime": {
     "end_time": "2021-06-14T21:55:40.177986Z",
     "start_time": "2021-06-14T21:55:24.634037Z"
    },
    "scrolled": false
   },
   "outputs": [
    {
     "data": {
      "text/html": [
       "<style>#sk-8a04cf20-2d40-475d-a230-59e4109cd223 {color: black;background-color: white;}#sk-8a04cf20-2d40-475d-a230-59e4109cd223 pre{padding: 0;}#sk-8a04cf20-2d40-475d-a230-59e4109cd223 div.sk-toggleable {background-color: white;}#sk-8a04cf20-2d40-475d-a230-59e4109cd223 label.sk-toggleable__label {cursor: pointer;display: block;width: 100%;margin-bottom: 0;padding: 0.2em 0.3em;box-sizing: border-box;text-align: center;}#sk-8a04cf20-2d40-475d-a230-59e4109cd223 div.sk-toggleable__content {max-height: 0;max-width: 0;overflow: hidden;text-align: left;background-color: #f0f8ff;}#sk-8a04cf20-2d40-475d-a230-59e4109cd223 div.sk-toggleable__content pre {margin: 0.2em;color: black;border-radius: 0.25em;background-color: #f0f8ff;}#sk-8a04cf20-2d40-475d-a230-59e4109cd223 input.sk-toggleable__control:checked~div.sk-toggleable__content {max-height: 200px;max-width: 100%;overflow: auto;}#sk-8a04cf20-2d40-475d-a230-59e4109cd223 div.sk-estimator input.sk-toggleable__control:checked~label.sk-toggleable__label {background-color: #d4ebff;}#sk-8a04cf20-2d40-475d-a230-59e4109cd223 div.sk-label input.sk-toggleable__control:checked~label.sk-toggleable__label {background-color: #d4ebff;}#sk-8a04cf20-2d40-475d-a230-59e4109cd223 input.sk-hidden--visually {border: 0;clip: rect(1px 1px 1px 1px);clip: rect(1px, 1px, 1px, 1px);height: 1px;margin: -1px;overflow: hidden;padding: 0;position: absolute;width: 1px;}#sk-8a04cf20-2d40-475d-a230-59e4109cd223 div.sk-estimator {font-family: monospace;background-color: #f0f8ff;margin: 0.25em 0.25em;border: 1px dotted black;border-radius: 0.25em;box-sizing: border-box;}#sk-8a04cf20-2d40-475d-a230-59e4109cd223 div.sk-estimator:hover {background-color: #d4ebff;}#sk-8a04cf20-2d40-475d-a230-59e4109cd223 div.sk-parallel-item::after {content: \"\";width: 100%;border-bottom: 1px solid gray;flex-grow: 1;}#sk-8a04cf20-2d40-475d-a230-59e4109cd223 div.sk-label:hover label.sk-toggleable__label {background-color: #d4ebff;}#sk-8a04cf20-2d40-475d-a230-59e4109cd223 div.sk-serial::before {content: \"\";position: absolute;border-left: 1px solid gray;box-sizing: border-box;top: 2em;bottom: 0;left: 50%;}#sk-8a04cf20-2d40-475d-a230-59e4109cd223 div.sk-serial {display: flex;flex-direction: column;align-items: center;background-color: white;}#sk-8a04cf20-2d40-475d-a230-59e4109cd223 div.sk-item {z-index: 1;}#sk-8a04cf20-2d40-475d-a230-59e4109cd223 div.sk-parallel {display: flex;align-items: stretch;justify-content: center;background-color: white;}#sk-8a04cf20-2d40-475d-a230-59e4109cd223 div.sk-parallel-item {display: flex;flex-direction: column;position: relative;background-color: white;}#sk-8a04cf20-2d40-475d-a230-59e4109cd223 div.sk-parallel-item:first-child::after {align-self: flex-end;width: 50%;}#sk-8a04cf20-2d40-475d-a230-59e4109cd223 div.sk-parallel-item:last-child::after {align-self: flex-start;width: 50%;}#sk-8a04cf20-2d40-475d-a230-59e4109cd223 div.sk-parallel-item:only-child::after {width: 0;}#sk-8a04cf20-2d40-475d-a230-59e4109cd223 div.sk-dashed-wrapped {border: 1px dashed gray;margin: 0.2em;box-sizing: border-box;padding-bottom: 0.1em;background-color: white;position: relative;}#sk-8a04cf20-2d40-475d-a230-59e4109cd223 div.sk-label label {font-family: monospace;font-weight: bold;background-color: white;display: inline-block;line-height: 1.2em;}#sk-8a04cf20-2d40-475d-a230-59e4109cd223 div.sk-label-container {position: relative;z-index: 2;text-align: center;}#sk-8a04cf20-2d40-475d-a230-59e4109cd223 div.sk-container {display: inline-block;position: relative;}</style><div id=\"sk-8a04cf20-2d40-475d-a230-59e4109cd223\" class\"sk-top-container\"><div class=\"sk-container\"><div class=\"sk-item sk-dashed-wrapped\"><div class=\"sk-label-container\"><div class=\"sk-label sk-toggleable\"><input class=\"sk-toggleable__control sk-hidden--visually\" id=\"c51877ee-fe68-426f-a580-7e6ca1edd519\" type=\"checkbox\" ><label class=\"sk-toggleable__label\" for=\"c51877ee-fe68-426f-a580-7e6ca1edd519\">Pipeline</label><div class=\"sk-toggleable__content\"><pre>Pipeline(steps=[('columntransformer',\n",
       "                 ColumnTransformer(transformers=[('pipeline-1',\n",
       "                                                  Pipeline(steps=[('simpleimputer',\n",
       "                                                                   SimpleImputer()),\n",
       "                                                                  ('robustscaler',\n",
       "                                                                   RobustScaler())]),\n",
       "                                                  array(['MSSubClass', 'LotArea', 'OverallCond', 'YearBuilt',\n",
       "       'YearRemodAdd', 'MasVnrArea', 'BsmtFinSF1', 'BsmtFinSF2',\n",
       "       'BsmtUnfSF', 'TotalBsmtSF', '1stFlrSF', '2ndFlrSF', 'LowQualFinSF',\n",
       "       'GrLivArea...\n",
       "                                  score_func=<function f_regression at 0x0000027B9DD59160>)),\n",
       "                ('stackingregressor',\n",
       "                 StackingRegressor(estimators=[('LassoCV', LassoCV()),\n",
       "                                               ('RidgeCV',\n",
       "                                                RidgeCV(alphas=array([ 0.1,  1. , 10. ]))),\n",
       "                                               ('ElacticNetCV', ElasticNetCV()),\n",
       "                                               ('RandomForest',\n",
       "                                                RandomForestRegressor(random_state=42)),\n",
       "                                               ('SVR', SVR(kernel='linear')),\n",
       "                                               ('Gradient',\n",
       "                                                GradientBoostingRegressor(random_state=42))],\n",
       "                                   final_estimator=SVR(kernel='linear')))])</pre></div></div></div><div class=\"sk-serial\"><div class=\"sk-item sk-dashed-wrapped\"><div class=\"sk-label-container\"><div class=\"sk-label sk-toggleable\"><input class=\"sk-toggleable__control sk-hidden--visually\" id=\"712381f6-418f-4fbe-916e-e98b8b6144e7\" type=\"checkbox\" ><label class=\"sk-toggleable__label\" for=\"712381f6-418f-4fbe-916e-e98b8b6144e7\">columntransformer: ColumnTransformer</label><div class=\"sk-toggleable__content\"><pre>ColumnTransformer(transformers=[('pipeline-1',\n",
       "                                 Pipeline(steps=[('simpleimputer',\n",
       "                                                  SimpleImputer()),\n",
       "                                                 ('robustscaler',\n",
       "                                                  RobustScaler())]),\n",
       "                                 array(['MSSubClass', 'LotArea', 'OverallCond', 'YearBuilt',\n",
       "       'YearRemodAdd', 'MasVnrArea', 'BsmtFinSF1', 'BsmtFinSF2',\n",
       "       'BsmtUnfSF', 'TotalBsmtSF', '1stFlrSF', '2ndFlrSF', 'LowQualFinSF',\n",
       "       'GrLivArea', 'BsmtFullBath', 'BsmtHalfBath', 'Full...\n",
       "                                                                              'Stone',\n",
       "                                                                              'ImStucc'],\n",
       "                                                                             ['Oth',\n",
       "                                                                              'ConLD',\n",
       "                                                                              'ConLw',\n",
       "                                                                              'COD',\n",
       "                                                                              'WD',\n",
       "                                                                              'ConLI',\n",
       "                                                                              'CWD',\n",
       "                                                                              'Con',\n",
       "                                                                              'New'],\n",
       "                                                                             ['Po',\n",
       "                                                                              'Fa',\n",
       "                                                                              'TA',\n",
       "                                                                              'Gd',\n",
       "                                                                              'Ex'],\n",
       "                                                                             ['Po',\n",
       "                                                                              'Fa',\n",
       "                                                                              'TA',\n",
       "                                                                              'Gd',\n",
       "                                                                              'Ex']],\n",
       "                                                                 handle_unknown='use_encoded_value',\n",
       "                                                                 unknown_value=-1))]),\n",
       "                                 array(['Neighborhood', 'ExterQual', 'ExterCond', 'BsmtQual', 'BsmtCond',\n",
       "       'BsmtExposure', 'KitchenQual', 'Exterior1st', 'SaleType',\n",
       "       'HeatingQC', 'GarageQual'], dtype=object))])</pre></div></div></div><div class=\"sk-parallel\"><div class=\"sk-parallel-item\"><div class=\"sk-item\"><div class=\"sk-label-container\"><div class=\"sk-label sk-toggleable\"><input class=\"sk-toggleable__control sk-hidden--visually\" id=\"b02d1102-adec-4096-8520-bc87aa16c52e\" type=\"checkbox\" ><label class=\"sk-toggleable__label\" for=\"b02d1102-adec-4096-8520-bc87aa16c52e\">pipeline-1</label><div class=\"sk-toggleable__content\"><pre>['MSSubClass' 'LotArea' 'OverallCond' 'YearBuilt' 'YearRemodAdd'\n",
       " 'MasVnrArea' 'BsmtFinSF1' 'BsmtFinSF2' 'BsmtUnfSF' 'TotalBsmtSF'\n",
       " '1stFlrSF' '2ndFlrSF' 'LowQualFinSF' 'GrLivArea' 'BsmtFullBath'\n",
       " 'BsmtHalfBath' 'FullBath' 'HalfBath' 'BedroomAbvGr' 'KitchenAbvGr'\n",
       " 'TotRmsAbvGrd' 'GarageYrBlt' 'GarageArea' 'WoodDeckSF' 'OpenPorchSF'\n",
       " 'EnclosedPorch' '3SsnPorch' 'ScreenPorch' 'PoolArea' 'MiscVal' 'MoSold'\n",
       " 'YrSold']</pre></div></div></div><div class=\"sk-serial\"><div class=\"sk-item\"><div class=\"sk-serial\"><div class=\"sk-item\"><div class=\"sk-estimator sk-toggleable\"><input class=\"sk-toggleable__control sk-hidden--visually\" id=\"688201fb-61e5-4af6-b6d6-16b07e9a5b0e\" type=\"checkbox\" ><label class=\"sk-toggleable__label\" for=\"688201fb-61e5-4af6-b6d6-16b07e9a5b0e\">SimpleImputer</label><div class=\"sk-toggleable__content\"><pre>SimpleImputer()</pre></div></div></div><div class=\"sk-item\"><div class=\"sk-estimator sk-toggleable\"><input class=\"sk-toggleable__control sk-hidden--visually\" id=\"6f08588d-391f-46f2-9882-67d25766d0a2\" type=\"checkbox\" ><label class=\"sk-toggleable__label\" for=\"6f08588d-391f-46f2-9882-67d25766d0a2\">RobustScaler</label><div class=\"sk-toggleable__content\"><pre>RobustScaler()</pre></div></div></div></div></div></div></div></div><div class=\"sk-parallel-item\"><div class=\"sk-item\"><div class=\"sk-label-container\"><div class=\"sk-label sk-toggleable\"><input class=\"sk-toggleable__control sk-hidden--visually\" id=\"128c1a6a-61bb-4a2f-9332-cc92a586adce\" type=\"checkbox\" ><label class=\"sk-toggleable__label\" for=\"128c1a6a-61bb-4a2f-9332-cc92a586adce\">pipeline-2</label><div class=\"sk-toggleable__content\"><pre>['MSZoning' 'LandContour' 'LotConfig' 'Condition1' 'BldgType' 'HouseStyle'\n",
       " 'RoofStyle' 'MasVnrType' 'Foundation' 'CentralAir' 'Electrical'\n",
       " 'GarageType' 'GarageFinish' 'PavedDrive' 'OverallQual' 'GarageCars'\n",
       " 'Fireplaces']</pre></div></div></div><div class=\"sk-serial\"><div class=\"sk-item\"><div class=\"sk-serial\"><div class=\"sk-item\"><div class=\"sk-estimator sk-toggleable\"><input class=\"sk-toggleable__control sk-hidden--visually\" id=\"d9d30b94-42bb-49f3-81fb-d61b332f4779\" type=\"checkbox\" ><label class=\"sk-toggleable__label\" for=\"d9d30b94-42bb-49f3-81fb-d61b332f4779\">SimpleImputer</label><div class=\"sk-toggleable__content\"><pre>SimpleImputer(strategy='most_frequent')</pre></div></div></div><div class=\"sk-item\"><div class=\"sk-estimator sk-toggleable\"><input class=\"sk-toggleable__control sk-hidden--visually\" id=\"cc463183-a6d9-480e-b276-d171a278b36c\" type=\"checkbox\" ><label class=\"sk-toggleable__label\" for=\"cc463183-a6d9-480e-b276-d171a278b36c\">OneHotEncoder</label><div class=\"sk-toggleable__content\"><pre>OneHotEncoder(handle_unknown='ignore')</pre></div></div></div></div></div></div></div></div><div class=\"sk-parallel-item\"><div class=\"sk-item\"><div class=\"sk-label-container\"><div class=\"sk-label sk-toggleable\"><input class=\"sk-toggleable__control sk-hidden--visually\" id=\"a149f90c-c565-41c6-b8d8-72fa52273924\" type=\"checkbox\" ><label class=\"sk-toggleable__label\" for=\"a149f90c-c565-41c6-b8d8-72fa52273924\">pipeline-3</label><div class=\"sk-toggleable__content\"><pre>['Neighborhood' 'ExterQual' 'ExterCond' 'BsmtQual' 'BsmtCond'\n",
       " 'BsmtExposure' 'KitchenQual' 'Exterior1st' 'SaleType' 'HeatingQC'\n",
       " 'GarageQual']</pre></div></div></div><div class=\"sk-serial\"><div class=\"sk-item\"><div class=\"sk-serial\"><div class=\"sk-item\"><div class=\"sk-estimator sk-toggleable\"><input class=\"sk-toggleable__control sk-hidden--visually\" id=\"822a9517-14b5-4efc-bab9-3d6bbdb4ae4a\" type=\"checkbox\" ><label class=\"sk-toggleable__label\" for=\"822a9517-14b5-4efc-bab9-3d6bbdb4ae4a\">SimpleImputer</label><div class=\"sk-toggleable__content\"><pre>SimpleImputer(strategy='most_frequent')</pre></div></div></div><div class=\"sk-item\"><div class=\"sk-estimator sk-toggleable\"><input class=\"sk-toggleable__control sk-hidden--visually\" id=\"7205b475-6ea7-447c-a15f-870f256adb29\" type=\"checkbox\" ><label class=\"sk-toggleable__label\" for=\"7205b475-6ea7-447c-a15f-870f256adb29\">OrdinalEncoder</label><div class=\"sk-toggleable__content\"><pre>OrdinalEncoder(categories=[['MeadowV', 'IDOTRR', 'BrDale', 'BrkSide', 'Edwards',\n",
       "                            'OldTown', 'Sawyer', 'Blueste', 'SWISU', 'NPkVill',\n",
       "                            'NAmes', 'Mitchel', 'SawyerW', 'NWAmes', 'Gilbert',\n",
       "                            'Blmngtn', 'CollgCr', 'Crawfor', 'ClearCr',\n",
       "                            'Somerst', 'Veenker', 'Timber', 'StoneBr',\n",
       "                            'NridgHt', 'NoRidge'],\n",
       "                           ['Po', 'Fa', 'TA', 'Gd', 'Ex'],\n",
       "                           ['Po', 'Fa', 'TA', 'Gd', 'Ex'],\n",
       "                           ['NA', 'Po', 'Fa', 'TA', 'Gd',...\n",
       "                           ['NA', 'No', 'Mn', 'Av', 'Gd'],\n",
       "                           ['Po', 'Fa', 'TA', 'Gd', 'Ex'],\n",
       "                           ['BrkComm', 'AsphShn', 'CBlock', 'AsbShng',\n",
       "                            'MetalSd', 'Wd Sdng', 'WdShing', 'Stucco',\n",
       "                            'HdBoard', 'Plywood', 'BrkFace', 'VinylSd',\n",
       "                            'CemntBd', 'Stone', 'ImStucc'],\n",
       "                           ['Oth', 'ConLD', 'ConLw', 'COD', 'WD', 'ConLI',\n",
       "                            'CWD', 'Con', 'New'],\n",
       "                           ['Po', 'Fa', 'TA', 'Gd', 'Ex'],\n",
       "                           ['Po', 'Fa', 'TA', 'Gd', 'Ex']],\n",
       "               handle_unknown='use_encoded_value', unknown_value=-1)</pre></div></div></div></div></div></div></div></div></div></div><div class=\"sk-item\"><div class=\"sk-estimator sk-toggleable\"><input class=\"sk-toggleable__control sk-hidden--visually\" id=\"e73ef44b-4874-4c5e-9c4d-7c49bdf8bc01\" type=\"checkbox\" ><label class=\"sk-toggleable__label\" for=\"e73ef44b-4874-4c5e-9c4d-7c49bdf8bc01\">SelectPercentile</label><div class=\"sk-toggleable__content\"><pre>SelectPercentile(percentile=50,\n",
       "                 score_func=<function f_regression at 0x0000027B9DD59160>)</pre></div></div></div><div class=\"sk-item sk-dashed-wrapped\"><div class=\"sk-label-container\"><div class=\"sk-label sk-toggleable\"><input class=\"sk-toggleable__control sk-hidden--visually\" id=\"6b254896-ba00-46e0-89f5-5799bb6efec1\" type=\"checkbox\" ><label class=\"sk-toggleable__label\" for=\"6b254896-ba00-46e0-89f5-5799bb6efec1\">stackingregressor: StackingRegressor</label><div class=\"sk-toggleable__content\"><pre>StackingRegressor(estimators=[('LassoCV', LassoCV()),\n",
       "                              ('RidgeCV',\n",
       "                               RidgeCV(alphas=array([ 0.1,  1. , 10. ]))),\n",
       "                              ('ElacticNetCV', ElasticNetCV()),\n",
       "                              ('RandomForest',\n",
       "                               RandomForestRegressor(random_state=42)),\n",
       "                              ('SVR', SVR(kernel='linear')),\n",
       "                              ('Gradient',\n",
       "                               GradientBoostingRegressor(random_state=42))],\n",
       "                  final_estimator=SVR(kernel='linear'))</pre></div></div></div><div class=\"sk-serial\"><div class=\"sk-item\"><div class=\"sk-serial\"><div class=\"sk-item\"><div class=\"sk-parallel\"><div class=\"sk-parallel-item\"><div class=\"sk-item\"><div class=\"sk-label-container\"><div class=\"sk-label sk-toggleable\"><label>LassoCV</label></div></div><div class=\"sk-serial\"><div class=\"sk-item\"><div class=\"sk-estimator sk-toggleable\"><input class=\"sk-toggleable__control sk-hidden--visually\" id=\"549871a1-5ea1-458f-9ea6-0cf2fb4a4e7e\" type=\"checkbox\" ><label class=\"sk-toggleable__label\" for=\"549871a1-5ea1-458f-9ea6-0cf2fb4a4e7e\">LassoCV</label><div class=\"sk-toggleable__content\"><pre>LassoCV()</pre></div></div></div></div></div></div><div class=\"sk-parallel-item\"><div class=\"sk-item\"><div class=\"sk-label-container\"><div class=\"sk-label sk-toggleable\"><label>RidgeCV</label></div></div><div class=\"sk-serial\"><div class=\"sk-item\"><div class=\"sk-estimator sk-toggleable\"><input class=\"sk-toggleable__control sk-hidden--visually\" id=\"6f75ea71-5a5f-480d-b5af-e02b66f7c5b3\" type=\"checkbox\" ><label class=\"sk-toggleable__label\" for=\"6f75ea71-5a5f-480d-b5af-e02b66f7c5b3\">RidgeCV</label><div class=\"sk-toggleable__content\"><pre>RidgeCV(alphas=array([ 0.1,  1. , 10. ]))</pre></div></div></div></div></div></div><div class=\"sk-parallel-item\"><div class=\"sk-item\"><div class=\"sk-label-container\"><div class=\"sk-label sk-toggleable\"><label>ElacticNetCV</label></div></div><div class=\"sk-serial\"><div class=\"sk-item\"><div class=\"sk-estimator sk-toggleable\"><input class=\"sk-toggleable__control sk-hidden--visually\" id=\"2ba02812-4014-4533-9ec8-4c577ef77f01\" type=\"checkbox\" ><label class=\"sk-toggleable__label\" for=\"2ba02812-4014-4533-9ec8-4c577ef77f01\">ElasticNetCV</label><div class=\"sk-toggleable__content\"><pre>ElasticNetCV()</pre></div></div></div></div></div></div><div class=\"sk-parallel-item\"><div class=\"sk-item\"><div class=\"sk-label-container\"><div class=\"sk-label sk-toggleable\"><label>RandomForest</label></div></div><div class=\"sk-serial\"><div class=\"sk-item\"><div class=\"sk-estimator sk-toggleable\"><input class=\"sk-toggleable__control sk-hidden--visually\" id=\"fe1361a6-01b4-484d-9ca6-32256428c1bf\" type=\"checkbox\" ><label class=\"sk-toggleable__label\" for=\"fe1361a6-01b4-484d-9ca6-32256428c1bf\">RandomForestRegressor</label><div class=\"sk-toggleable__content\"><pre>RandomForestRegressor(random_state=42)</pre></div></div></div></div></div></div><div class=\"sk-parallel-item\"><div class=\"sk-item\"><div class=\"sk-label-container\"><div class=\"sk-label sk-toggleable\"><label>SVR</label></div></div><div class=\"sk-serial\"><div class=\"sk-item\"><div class=\"sk-estimator sk-toggleable\"><input class=\"sk-toggleable__control sk-hidden--visually\" id=\"2dafe874-ba9e-4a46-86fb-d9f75ac7a0fe\" type=\"checkbox\" ><label class=\"sk-toggleable__label\" for=\"2dafe874-ba9e-4a46-86fb-d9f75ac7a0fe\">SVR</label><div class=\"sk-toggleable__content\"><pre>SVR(kernel='linear')</pre></div></div></div></div></div></div><div class=\"sk-parallel-item\"><div class=\"sk-item\"><div class=\"sk-label-container\"><div class=\"sk-label sk-toggleable\"><label>Gradient</label></div></div><div class=\"sk-serial\"><div class=\"sk-item\"><div class=\"sk-estimator sk-toggleable\"><input class=\"sk-toggleable__control sk-hidden--visually\" id=\"68dccb09-99b7-4d55-92b2-bde2052d472c\" type=\"checkbox\" ><label class=\"sk-toggleable__label\" for=\"68dccb09-99b7-4d55-92b2-bde2052d472c\">GradientBoostingRegressor</label><div class=\"sk-toggleable__content\"><pre>GradientBoostingRegressor(random_state=42)</pre></div></div></div></div></div></div></div></div><div class=\"sk-item\"><div class=\"sk-estimator sk-toggleable\"><input class=\"sk-toggleable__control sk-hidden--visually\" id=\"8272ff8e-c144-4785-8711-f965ad0f5012\" type=\"checkbox\" ><label class=\"sk-toggleable__label\" for=\"8272ff8e-c144-4785-8711-f965ad0f5012\">SVR</label><div class=\"sk-toggleable__content\"><pre>SVR(kernel='linear')</pre></div></div></div></div></div></div></div></div></div></div></div>"
      ],
      "text/plain": [
       "Pipeline(steps=[('columntransformer',\n",
       "                 ColumnTransformer(transformers=[('pipeline-1',\n",
       "                                                  Pipeline(steps=[('simpleimputer',\n",
       "                                                                   SimpleImputer()),\n",
       "                                                                  ('robustscaler',\n",
       "                                                                   RobustScaler())]),\n",
       "                                                  array(['MSSubClass', 'LotArea', 'OverallCond', 'YearBuilt',\n",
       "       'YearRemodAdd', 'MasVnrArea', 'BsmtFinSF1', 'BsmtFinSF2',\n",
       "       'BsmtUnfSF', 'TotalBsmtSF', '1stFlrSF', '2ndFlrSF', 'LowQualFinSF',\n",
       "       'GrLivArea...\n",
       "                                  score_func=<function f_regression at 0x0000027B9DD59160>)),\n",
       "                ('stackingregressor',\n",
       "                 StackingRegressor(estimators=[('LassoCV', LassoCV()),\n",
       "                                               ('RidgeCV',\n",
       "                                                RidgeCV(alphas=array([ 0.1,  1. , 10. ]))),\n",
       "                                               ('ElacticNetCV', ElasticNetCV()),\n",
       "                                               ('RandomForest',\n",
       "                                                RandomForestRegressor(random_state=42)),\n",
       "                                               ('SVR', SVR(kernel='linear')),\n",
       "                                               ('Gradient',\n",
       "                                                GradientBoostingRegressor(random_state=42))],\n",
       "                                   final_estimator=SVR(kernel='linear')))])"
      ]
     },
     "execution_count": 28,
     "metadata": {},
     "output_type": "execute_result"
    }
   ],
   "source": [
    "# Entrainement du modèle sur toutes les données de train.csv\n",
    "model.fit(X, y)"
   ]
  },
  {
   "cell_type": "markdown",
   "id": "8b44d9f7",
   "metadata": {},
   "source": [
    "# Prédiction pour soumission Kaggle"
   ]
  },
  {
   "cell_type": "code",
   "execution_count": 29,
   "id": "bfe9b127",
   "metadata": {
    "ExecuteTime": {
     "end_time": "2021-06-14T21:55:40.303381Z",
     "start_time": "2021-06-14T21:55:40.177986Z"
    }
   },
   "outputs": [],
   "source": [
    "# Récupération du test.csv et prédiction grâce à notre modèle entrainé sur le train.csv\n",
    "\n",
    "X_test = pd.read_csv('data/test.csv').drop(columns=['Id', 'LotFrontage', 'Alley', 'PoolQC', 'Fence', 'MiscFeature', 'FireplaceQu'])\n",
    "\n",
    "prediction = model.predict(X_test)\n",
    "y_pred = np.exp(prediction)"
   ]
  },
  {
   "cell_type": "code",
   "execution_count": 30,
   "id": "8589cbf3",
   "metadata": {
    "ExecuteTime": {
     "end_time": "2021-06-14T21:55:40.350469Z",
     "start_time": "2021-06-14T21:55:40.303381Z"
    }
   },
   "outputs": [
    {
     "data": {
      "text/html": [
       "<div>\n",
       "<style scoped>\n",
       "    .dataframe tbody tr th:only-of-type {\n",
       "        vertical-align: middle;\n",
       "    }\n",
       "\n",
       "    .dataframe tbody tr th {\n",
       "        vertical-align: top;\n",
       "    }\n",
       "\n",
       "    .dataframe thead th {\n",
       "        text-align: right;\n",
       "    }\n",
       "</style>\n",
       "<table border=\"1\" class=\"dataframe\">\n",
       "  <thead>\n",
       "    <tr style=\"text-align: right;\">\n",
       "      <th></th>\n",
       "      <th>Id</th>\n",
       "      <th>SalePrice</th>\n",
       "    </tr>\n",
       "  </thead>\n",
       "  <tbody>\n",
       "    <tr>\n",
       "      <th>0</th>\n",
       "      <td>1461</td>\n",
       "      <td>125148.183237</td>\n",
       "    </tr>\n",
       "    <tr>\n",
       "      <th>1</th>\n",
       "      <td>1462</td>\n",
       "      <td>155041.739502</td>\n",
       "    </tr>\n",
       "    <tr>\n",
       "      <th>2</th>\n",
       "      <td>1463</td>\n",
       "      <td>179034.444189</td>\n",
       "    </tr>\n",
       "    <tr>\n",
       "      <th>3</th>\n",
       "      <td>1464</td>\n",
       "      <td>184045.709765</td>\n",
       "    </tr>\n",
       "    <tr>\n",
       "      <th>4</th>\n",
       "      <td>1465</td>\n",
       "      <td>189984.362458</td>\n",
       "    </tr>\n",
       "    <tr>\n",
       "      <th>...</th>\n",
       "      <td>...</td>\n",
       "      <td>...</td>\n",
       "    </tr>\n",
       "    <tr>\n",
       "      <th>1454</th>\n",
       "      <td>2915</td>\n",
       "      <td>79659.368975</td>\n",
       "    </tr>\n",
       "    <tr>\n",
       "      <th>1455</th>\n",
       "      <td>2916</td>\n",
       "      <td>86209.656370</td>\n",
       "    </tr>\n",
       "    <tr>\n",
       "      <th>1456</th>\n",
       "      <td>2917</td>\n",
       "      <td>164669.127309</td>\n",
       "    </tr>\n",
       "    <tr>\n",
       "      <th>1457</th>\n",
       "      <td>2918</td>\n",
       "      <td>114770.288059</td>\n",
       "    </tr>\n",
       "    <tr>\n",
       "      <th>1458</th>\n",
       "      <td>2919</td>\n",
       "      <td>198188.986965</td>\n",
       "    </tr>\n",
       "  </tbody>\n",
       "</table>\n",
       "<p>1459 rows × 2 columns</p>\n",
       "</div>"
      ],
      "text/plain": [
       "        Id      SalePrice\n",
       "0     1461  125148.183237\n",
       "1     1462  155041.739502\n",
       "2     1463  179034.444189\n",
       "3     1464  184045.709765\n",
       "4     1465  189984.362458\n",
       "...    ...            ...\n",
       "1454  2915   79659.368975\n",
       "1455  2916   86209.656370\n",
       "1456  2917  164669.127309\n",
       "1457  2918  114770.288059\n",
       "1458  2919  198188.986965\n",
       "\n",
       "[1459 rows x 2 columns]"
      ]
     },
     "execution_count": 30,
     "metadata": {},
     "output_type": "execute_result"
    }
   ],
   "source": [
    "# Préparation et exportation nouveau csv à soumettre\n",
    "\n",
    "ids = pd.read_csv('data/test.csv')['Id']\n",
    "\n",
    "submit_df = pd.concat([ids, pd.DataFrame(y_pred)], axis=1)\n",
    "submit_df.columns = ['Id', 'SalePrice']\n",
    "\n",
    "submit_df.to_csv('y_pred.csv', index=False)\n",
    "\n",
    "submit_df"
   ]
  },
  {
   "cell_type": "markdown",
   "id": "56f89958",
   "metadata": {},
   "source": [
    "**Meilleur résultat obtenu : 0.13099**"
   ]
  },
  {
   "cell_type": "code",
   "execution_count": null,
   "id": "27ae5d65",
   "metadata": {},
   "outputs": [],
   "source": []
  }
 ],
 "metadata": {
  "kernelspec": {
   "display_name": "Python 3",
   "language": "python",
   "name": "python3"
  },
  "language_info": {
   "codemirror_mode": {
    "name": "ipython",
    "version": 3
   },
   "file_extension": ".py",
   "mimetype": "text/x-python",
   "name": "python",
   "nbconvert_exporter": "python",
   "pygments_lexer": "ipython3",
   "version": "3.8.10"
  },
  "latex_envs": {
   "LaTeX_envs_menu_present": true,
   "autoclose": false,
   "autocomplete": true,
   "bibliofile": "biblio.bib",
   "cite_by": "apalike",
   "current_citInitial": 1,
   "eqLabelWithNumbers": true,
   "eqNumInitial": 1,
   "hotkeys": {
    "equation": "Ctrl-E",
    "itemize": "Ctrl-I"
   },
   "labels_anchors": false,
   "latex_user_defs": false,
   "report_style_numbering": false,
   "user_envs_cfg": false
  },
  "toc": {
   "base_numbering": 1,
   "nav_menu": {},
   "number_sections": true,
   "sideBar": true,
   "skip_h1_title": false,
   "title_cell": "Table of Contents",
   "title_sidebar": "Contents",
   "toc_cell": false,
   "toc_position": {},
   "toc_section_display": true,
   "toc_window_display": true
  },
  "varInspector": {
   "cols": {
    "lenName": 16,
    "lenType": 16,
    "lenVar": 40
   },
   "kernels_config": {
    "python": {
     "delete_cmd_postfix": "",
     "delete_cmd_prefix": "del ",
     "library": "var_list.py",
     "varRefreshCmd": "print(var_dic_list())"
    },
    "r": {
     "delete_cmd_postfix": ") ",
     "delete_cmd_prefix": "rm(",
     "library": "var_list.r",
     "varRefreshCmd": "cat(var_dic_list()) "
    }
   },
   "types_to_exclude": [
    "module",
    "function",
    "builtin_function_or_method",
    "instance",
    "_Feature"
   ],
   "window_display": false
  }
 },
 "nbformat": 4,
 "nbformat_minor": 5
}
